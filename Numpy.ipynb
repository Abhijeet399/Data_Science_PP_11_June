{
 "cells": [
  {
   "cell_type": "code",
   "execution_count": 1,
   "id": "346e6d9e",
   "metadata": {},
   "outputs": [],
   "source": [
    "import numpy as np"
   ]
  },
  {
   "cell_type": "code",
   "execution_count": 4,
   "id": "474d139b",
   "metadata": {},
   "outputs": [],
   "source": [
    "a = []\n",
    "\n",
    "for i in range(10):\n",
    "    b = []\n",
    "    for j in range(10, 20):\n",
    "        b.append(j)\n",
    "    a.append(b)"
   ]
  },
  {
   "cell_type": "code",
   "execution_count": 7,
   "id": "ba123e83",
   "metadata": {},
   "outputs": [
    {
     "data": {
      "text/plain": [
       "10"
      ]
     },
     "execution_count": 7,
     "metadata": {},
     "output_type": "execute_result"
    }
   ],
   "source": [
    "len(a)"
   ]
  },
  {
   "cell_type": "code",
   "execution_count": 8,
   "id": "fe788d34",
   "metadata": {},
   "outputs": [
    {
     "data": {
      "text/plain": [
       "[[10, 11, 12, 13, 14, 15, 16, 17, 18, 19],\n",
       " [10, 11, 12, 13, 14, 15, 16, 17, 18, 19],\n",
       " [10, 11, 12, 13, 14, 15, 16, 17, 18, 19],\n",
       " [10, 11, 12, 13, 14, 15, 16, 17, 18, 19],\n",
       " [10, 11, 12, 13, 14, 15, 16, 17, 18, 19],\n",
       " [10, 11, 12, 13, 14, 15, 16, 17, 18, 19],\n",
       " [10, 11, 12, 13, 14, 15, 16, 17, 18, 19],\n",
       " [10, 11, 12, 13, 14, 15, 16, 17, 18, 19],\n",
       " [10, 11, 12, 13, 14, 15, 16, 17, 18, 19],\n",
       " [10, 11, 12, 13, 14, 15, 16, 17, 18, 19]]"
      ]
     },
     "execution_count": 8,
     "metadata": {},
     "output_type": "execute_result"
    }
   ],
   "source": [
    "a"
   ]
  },
  {
   "cell_type": "code",
   "execution_count": 9,
   "id": "54eeb69c",
   "metadata": {},
   "outputs": [
    {
     "data": {
      "text/plain": [
       "list"
      ]
     },
     "execution_count": 9,
     "metadata": {},
     "output_type": "execute_result"
    }
   ],
   "source": [
    "type(a)"
   ]
  },
  {
   "cell_type": "code",
   "execution_count": 12,
   "id": "ad31c90e",
   "metadata": {},
   "outputs": [],
   "source": [
    "array = np.array([1, 2, 3, 4])"
   ]
  },
  {
   "cell_type": "code",
   "execution_count": 14,
   "id": "3a6447c7",
   "metadata": {},
   "outputs": [
    {
     "data": {
      "text/plain": [
       "(4,)"
      ]
     },
     "execution_count": 14,
     "metadata": {},
     "output_type": "execute_result"
    }
   ],
   "source": [
    "array.shape"
   ]
  },
  {
   "cell_type": "code",
   "execution_count": 16,
   "id": "2fccc56e",
   "metadata": {},
   "outputs": [],
   "source": [
    "array = np.array([[1], [2], [3]])"
   ]
  },
  {
   "cell_type": "code",
   "execution_count": 17,
   "id": "8bff9ba7",
   "metadata": {},
   "outputs": [
    {
     "data": {
      "text/plain": [
       "(3, 1)"
      ]
     },
     "execution_count": 17,
     "metadata": {},
     "output_type": "execute_result"
    }
   ],
   "source": [
    "array.shape"
   ]
  },
  {
   "cell_type": "code",
   "execution_count": 18,
   "id": "8bfd0c58",
   "metadata": {},
   "outputs": [
    {
     "data": {
      "text/plain": [
       "array([[1],\n",
       "       [2],\n",
       "       [3]])"
      ]
     },
     "execution_count": 18,
     "metadata": {},
     "output_type": "execute_result"
    }
   ],
   "source": [
    "array"
   ]
  },
  {
   "cell_type": "code",
   "execution_count": 19,
   "id": "db703c35",
   "metadata": {},
   "outputs": [],
   "source": [
    "array = np.array([[1,2,3,4]])"
   ]
  },
  {
   "cell_type": "code",
   "execution_count": 21,
   "id": "5eb0a857",
   "metadata": {},
   "outputs": [
    {
     "data": {
      "text/plain": [
       "(1, 4)"
      ]
     },
     "execution_count": 21,
     "metadata": {},
     "output_type": "execute_result"
    }
   ],
   "source": [
    "array.shape"
   ]
  },
  {
   "cell_type": "code",
   "execution_count": 61,
   "id": "6a235f0d",
   "metadata": {},
   "outputs": [],
   "source": [
    "array = np.array([[[1, 0], [2, 3], [3, 6]], [[1, 0], [2, 3], [3, 6]], [[1, 0], [2, 3], [3, 6]]], dtype = np.float16)"
   ]
  },
  {
   "cell_type": "code",
   "execution_count": 62,
   "id": "4214c103",
   "metadata": {},
   "outputs": [
    {
     "data": {
      "text/plain": [
       "array([[[1., 0.],\n",
       "        [2., 3.],\n",
       "        [3., 6.]],\n",
       "\n",
       "       [[1., 0.],\n",
       "        [2., 3.],\n",
       "        [3., 6.]],\n",
       "\n",
       "       [[1., 0.],\n",
       "        [2., 3.],\n",
       "        [3., 6.]]], dtype=float16)"
      ]
     },
     "execution_count": 62,
     "metadata": {},
     "output_type": "execute_result"
    }
   ],
   "source": [
    "array"
   ]
  },
  {
   "cell_type": "code",
   "execution_count": 40,
   "id": "7c023940",
   "metadata": {},
   "outputs": [
    {
     "data": {
      "text/plain": [
       "(3, 3, 2)"
      ]
     },
     "execution_count": 40,
     "metadata": {},
     "output_type": "execute_result"
    }
   ],
   "source": [
    "array.shape"
   ]
  },
  {
   "cell_type": "code",
   "execution_count": 64,
   "id": "73ce2fbb",
   "metadata": {},
   "outputs": [],
   "source": [
    "a = [1, 2, 3, 'hello', 2.2, range]"
   ]
  },
  {
   "cell_type": "code",
   "execution_count": 68,
   "id": "234ebf85",
   "metadata": {},
   "outputs": [],
   "source": [
    "a = np.array(a, dtype = 'str')"
   ]
  },
  {
   "cell_type": "code",
   "execution_count": 69,
   "id": "da9c90f0",
   "metadata": {},
   "outputs": [
    {
     "data": {
      "text/plain": [
       "array(['1', '2', '3', 'hello', '2.2', \"<class 'range'>\"], dtype='<U15')"
      ]
     },
     "execution_count": 69,
     "metadata": {},
     "output_type": "execute_result"
    }
   ],
   "source": [
    "a"
   ]
  },
  {
   "cell_type": "code",
   "execution_count": 70,
   "id": "89596c1e",
   "metadata": {},
   "outputs": [
    {
     "name": "stdout",
     "output_type": "stream",
     "text": [
      "<class 'str'> 12\n"
     ]
    }
   ],
   "source": [
    "print(type(a[0] + a[1]), a[0] + a[1])"
   ]
  },
  {
   "cell_type": "code",
   "execution_count": 75,
   "id": "b119c05e",
   "metadata": {},
   "outputs": [],
   "source": [
    "mat = np.full((2, 4), 0.3)"
   ]
  },
  {
   "cell_type": "code",
   "execution_count": 76,
   "id": "cfd7a420",
   "metadata": {},
   "outputs": [
    {
     "data": {
      "text/plain": [
       "array([[0.3, 0.3, 0.3, 0.3],\n",
       "       [0.3, 0.3, 0.3, 0.3]])"
      ]
     },
     "execution_count": 76,
     "metadata": {},
     "output_type": "execute_result"
    }
   ],
   "source": [
    "mat"
   ]
  },
  {
   "cell_type": "code",
   "execution_count": 77,
   "id": "c7989827",
   "metadata": {},
   "outputs": [],
   "source": [
    "np.full?"
   ]
  },
  {
   "cell_type": "code",
   "execution_count": 80,
   "id": "8199dea3",
   "metadata": {},
   "outputs": [],
   "source": [
    "mat = np.full((3, 3), 1)"
   ]
  },
  {
   "cell_type": "code",
   "execution_count": 81,
   "id": "d8a1b94e",
   "metadata": {},
   "outputs": [
    {
     "data": {
      "text/plain": [
       "array([[1, 1, 1],\n",
       "       [1, 1, 1],\n",
       "       [1, 1, 1]])"
      ]
     },
     "execution_count": 81,
     "metadata": {},
     "output_type": "execute_result"
    }
   ],
   "source": [
    "mat"
   ]
  },
  {
   "cell_type": "code",
   "execution_count": 123,
   "id": "1889baec",
   "metadata": {},
   "outputs": [],
   "source": [
    "mat = np.eye(4, k = -1, dtype = np.float16)"
   ]
  },
  {
   "cell_type": "code",
   "execution_count": 124,
   "id": "f4db4d4a",
   "metadata": {},
   "outputs": [
    {
     "data": {
      "text/plain": [
       "array([[0., 0., 0., 0.],\n",
       "       [1., 0., 0., 0.],\n",
       "       [0., 1., 0., 0.],\n",
       "       [0., 0., 1., 0.]], dtype=float16)"
      ]
     },
     "execution_count": 124,
     "metadata": {},
     "output_type": "execute_result"
    }
   ],
   "source": [
    "mat"
   ]
  },
  {
   "cell_type": "code",
   "execution_count": 126,
   "id": "c8dbe902",
   "metadata": {},
   "outputs": [],
   "source": [
    "mat = np.random.random((2, 6))"
   ]
  },
  {
   "cell_type": "code",
   "execution_count": 127,
   "id": "e1595331",
   "metadata": {},
   "outputs": [
    {
     "data": {
      "text/plain": [
       "array([[0.95239195, 0.21308216, 0.99711971, 0.99756167, 0.43032207,\n",
       "        0.53065677],\n",
       "       [0.26500844, 0.51729181, 0.06210305, 0.89193247, 0.00690844,\n",
       "        0.70089327]])"
      ]
     },
     "execution_count": 127,
     "metadata": {},
     "output_type": "execute_result"
    }
   ],
   "source": [
    "mat"
   ]
  },
  {
   "cell_type": "code",
   "execution_count": 134,
   "id": "0347494e",
   "metadata": {},
   "outputs": [],
   "source": [
    "mat = np.random.rand(2, 8, 2)"
   ]
  },
  {
   "cell_type": "code",
   "execution_count": 135,
   "id": "677cbb39",
   "metadata": {},
   "outputs": [
    {
     "data": {
      "text/plain": [
       "array([[[0.81313968, 0.2203136 ],\n",
       "        [0.59192805, 0.73460328],\n",
       "        [0.31245258, 0.05785384],\n",
       "        [0.18681147, 0.53493142],\n",
       "        [0.50502016, 0.89857954],\n",
       "        [0.26612787, 0.61072047],\n",
       "        [0.64248596, 0.93384275],\n",
       "        [0.66824855, 0.31162064]],\n",
       "\n",
       "       [[0.89551126, 0.55593267],\n",
       "        [0.66489038, 0.78067239],\n",
       "        [0.14882602, 0.67414796],\n",
       "        [0.66457106, 0.8495901 ],\n",
       "        [0.96661135, 0.34562039],\n",
       "        [0.44668711, 0.27020831],\n",
       "        [0.76894615, 0.06240124],\n",
       "        [0.86257329, 0.0504762 ]]])"
      ]
     },
     "execution_count": 135,
     "metadata": {},
     "output_type": "execute_result"
    }
   ],
   "source": [
    "mat"
   ]
  },
  {
   "cell_type": "code",
   "execution_count": 150,
   "id": "c4f5824e",
   "metadata": {},
   "outputs": [],
   "source": [
    "mat_random = np.random.randn(2, 8, 2)"
   ]
  },
  {
   "cell_type": "code",
   "execution_count": 151,
   "id": "70838dcd",
   "metadata": {},
   "outputs": [
    {
     "data": {
      "text/plain": [
       "array([[[-0.83872567, -0.89147847],\n",
       "        [ 1.19239959, -0.25450628],\n",
       "        [ 1.47461137,  0.45725392],\n",
       "        [ 0.61404275,  1.14004368],\n",
       "        [-0.49523866,  0.01511632],\n",
       "        [ 0.32130783,  1.01588425],\n",
       "        [ 2.18648914, -1.31259229],\n",
       "        [-0.08286917, -1.06846605]],\n",
       "\n",
       "       [[ 0.89052198,  0.82974856],\n",
       "        [ 1.65131497, -0.73639237],\n",
       "        [ 0.33278839, -0.21880415],\n",
       "        [-0.0404724 ,  1.28128216],\n",
       "        [-2.14164382,  0.41616118],\n",
       "        [ 1.07270994,  0.17981272],\n",
       "        [-2.84449708, -1.5963733 ],\n",
       "        [-0.50018614,  0.38789506]]])"
      ]
     },
     "execution_count": 151,
     "metadata": {},
     "output_type": "execute_result"
    }
   ],
   "source": [
    "mat_random"
   ]
  },
  {
   "cell_type": "code",
   "execution_count": 146,
   "id": "c04dc189",
   "metadata": {},
   "outputs": [],
   "source": [
    "mat = np.full((2, 3), 0.0)"
   ]
  },
  {
   "cell_type": "code",
   "execution_count": 147,
   "id": "5f8a1a3b",
   "metadata": {},
   "outputs": [
    {
     "data": {
      "text/plain": [
       "array([[0., 0., 0.],\n",
       "       [0., 0., 0.]])"
      ]
     },
     "execution_count": 147,
     "metadata": {},
     "output_type": "execute_result"
    }
   ],
   "source": [
    "mat"
   ]
  },
  {
   "cell_type": "code",
   "execution_count": 148,
   "id": "6d4881e6",
   "metadata": {},
   "outputs": [],
   "source": [
    "mat = np.zeros((2, 3))"
   ]
  },
  {
   "cell_type": "code",
   "execution_count": 149,
   "id": "82a4aa5b",
   "metadata": {},
   "outputs": [
    {
     "data": {
      "text/plain": [
       "array([[0., 0., 0.],\n",
       "       [0., 0., 0.]])"
      ]
     },
     "execution_count": 149,
     "metadata": {},
     "output_type": "execute_result"
    }
   ],
   "source": [
    "mat"
   ]
  },
  {
   "cell_type": "code",
   "execution_count": 152,
   "id": "874f1cd9",
   "metadata": {},
   "outputs": [],
   "source": [
    "mat = np.zeros_like(mat_random)"
   ]
  },
  {
   "cell_type": "code",
   "execution_count": 153,
   "id": "c49d00bf",
   "metadata": {},
   "outputs": [
    {
     "data": {
      "text/plain": [
       "array([[[0., 0.],\n",
       "        [0., 0.],\n",
       "        [0., 0.],\n",
       "        [0., 0.],\n",
       "        [0., 0.],\n",
       "        [0., 0.],\n",
       "        [0., 0.],\n",
       "        [0., 0.]],\n",
       "\n",
       "       [[0., 0.],\n",
       "        [0., 0.],\n",
       "        [0., 0.],\n",
       "        [0., 0.],\n",
       "        [0., 0.],\n",
       "        [0., 0.],\n",
       "        [0., 0.],\n",
       "        [0., 0.]]])"
      ]
     },
     "execution_count": 153,
     "metadata": {},
     "output_type": "execute_result"
    }
   ],
   "source": [
    "mat"
   ]
  },
  {
   "cell_type": "code",
   "execution_count": 154,
   "id": "5ef4bbad",
   "metadata": {},
   "outputs": [],
   "source": [
    "X = np.array([[1, 2], [3, 4]])\n",
    "Y = np.array([[5, 6], [7, 8]])"
   ]
  },
  {
   "cell_type": "code",
   "execution_count": 156,
   "id": "6e1fc9da",
   "metadata": {},
   "outputs": [
    {
     "name": "stdout",
     "output_type": "stream",
     "text": [
      "(2, 2) (2, 2)\n"
     ]
    }
   ],
   "source": [
    "print(X.shape, Y.shape)"
   ]
  },
  {
   "cell_type": "code",
   "execution_count": 158,
   "id": "ca2ae943",
   "metadata": {},
   "outputs": [
    {
     "name": "stdout",
     "output_type": "stream",
     "text": [
      "[[ 6  8]\n",
      " [10 12]] [[ 6  8]\n",
      " [10 12]]\n"
     ]
    }
   ],
   "source": [
    "print(X + Y, np.add(X, Y))"
   ]
  },
  {
   "cell_type": "code",
   "execution_count": 160,
   "id": "6801d2e8",
   "metadata": {},
   "outputs": [
    {
     "data": {
      "text/plain": [
       "True"
      ]
     },
     "execution_count": 160,
     "metadata": {},
     "output_type": "execute_result"
    }
   ],
   "source": [
    "isinstance(X, np.ndarray)"
   ]
  },
  {
   "cell_type": "code",
   "execution_count": 161,
   "id": "66d43770",
   "metadata": {},
   "outputs": [
    {
     "name": "stdout",
     "output_type": "stream",
     "text": [
      "[[-4 -4]\n",
      " [-4 -4]] [[-4 -4]\n",
      " [-4 -4]]\n"
     ]
    }
   ],
   "source": [
    "print(X - Y, np.subtract(X, Y))"
   ]
  },
  {
   "cell_type": "code",
   "execution_count": 163,
   "id": "163a66c3",
   "metadata": {},
   "outputs": [
    {
     "name": "stdout",
     "output_type": "stream",
     "text": [
      "[[ 5 12]\n",
      " [21 32]] [[ 5 12]\n",
      " [21 32]]\n"
     ]
    }
   ],
   "source": [
    "print(X*Y, np.multiply(X, Y))"
   ]
  },
  {
   "cell_type": "code",
   "execution_count": 165,
   "id": "7251245e",
   "metadata": {},
   "outputs": [
    {
     "name": "stdout",
     "output_type": "stream",
     "text": [
      "[[19 22]\n",
      " [43 50]] [[19 22]\n",
      " [43 50]]\n"
     ]
    }
   ],
   "source": [
    "print(np.matmul(X, Y), X@Y)"
   ]
  },
  {
   "cell_type": "code",
   "execution_count": 167,
   "id": "1f04a301",
   "metadata": {},
   "outputs": [
    {
     "name": "stdout",
     "output_type": "stream",
     "text": [
      "[[19 22]\n",
      " [43 50]]\n"
     ]
    }
   ],
   "source": [
    "print(np.dot(X, Y))"
   ]
  },
  {
   "cell_type": "code",
   "execution_count": 169,
   "id": "88e858a6",
   "metadata": {},
   "outputs": [
    {
     "name": "stdout",
     "output_type": "stream",
     "text": [
      "[[0.2        0.33333333]\n",
      " [0.42857143 0.5       ]] [[0.2        0.33333333]\n",
      " [0.42857143 0.5       ]]\n"
     ]
    }
   ],
   "source": [
    "print(X/Y, np.divide(X, Y))"
   ]
  },
  {
   "cell_type": "code",
   "execution_count": 170,
   "id": "872c7915",
   "metadata": {},
   "outputs": [
    {
     "name": "stdout",
     "output_type": "stream",
     "text": [
      "[[1.         1.41421356]\n",
      " [1.73205081 2.        ]]\n"
     ]
    }
   ],
   "source": [
    "print(np.sqrt(X))"
   ]
  },
  {
   "cell_type": "code",
   "execution_count": 172,
   "id": "6a490a6e",
   "metadata": {},
   "outputs": [
    {
     "data": {
      "text/plain": [
       "array([[[ 5.80637166,  5.54260764],\n",
       "        [15.96199794,  8.72746859],\n",
       "        [17.37305683, 12.2862696 ],\n",
       "        [13.07021377, 15.70021842],\n",
       "        [ 7.52380668, 10.07558161],\n",
       "        [11.60653917, 15.07942123],\n",
       "        [20.9324457 ,  3.43703854],\n",
       "        [ 9.58565417,  4.65766975]],\n",
       "\n",
       "       [[14.4526099 , 14.14874282],\n",
       "        [18.25657484,  6.31803814],\n",
       "        [11.66394193,  8.90597927],\n",
       "        [ 9.79763801, 16.40641082],\n",
       "        [-0.70821912, 12.08080589],\n",
       "        [15.36354968, 10.89906359],\n",
       "        [-4.22248539,  2.01813352],\n",
       "        [ 7.49906929, 11.93947532]]])"
      ]
     },
     "execution_count": 172,
     "metadata": {},
     "output_type": "execute_result"
    }
   ],
   "source": [
    "(mat_random*5) + 10"
   ]
  },
  {
   "cell_type": "code",
   "execution_count": 173,
   "id": "1507f59d",
   "metadata": {},
   "outputs": [],
   "source": [
    "a = np.array([1, 2, 3, 4, 5])\n",
    "b = np.array([1, 2, 3, 4, 5])"
   ]
  },
  {
   "cell_type": "code",
   "execution_count": 174,
   "id": "b7c69935",
   "metadata": {},
   "outputs": [],
   "source": [
    "b = b**2"
   ]
  },
  {
   "cell_type": "code",
   "execution_count": 175,
   "id": "15f10f01",
   "metadata": {},
   "outputs": [
    {
     "name": "stdout",
     "output_type": "stream",
     "text": [
      "(5,) (5,)\n"
     ]
    }
   ],
   "source": [
    "print(a.shape, b.shape)"
   ]
  },
  {
   "cell_type": "code",
   "execution_count": 178,
   "id": "43de2880",
   "metadata": {},
   "outputs": [
    {
     "data": {
      "text/plain": [
       "array([[ 1,  1],\n",
       "       [ 2,  4],\n",
       "       [ 3,  9],\n",
       "       [ 4, 16],\n",
       "       [ 5, 25]])"
      ]
     },
     "execution_count": 178,
     "metadata": {},
     "output_type": "execute_result"
    }
   ],
   "source": [
    "np.stack((a, b), axis = 1)"
   ]
  },
  {
   "cell_type": "code",
   "execution_count": 181,
   "id": "fe838a8e",
   "metadata": {},
   "outputs": [
    {
     "data": {
      "text/plain": [
       "array([[ 1,  2,  3,  4,  5],\n",
       "       [ 1,  4,  9, 16, 25]])"
      ]
     },
     "execution_count": 181,
     "metadata": {},
     "output_type": "execute_result"
    }
   ],
   "source": [
    "np.stack((a, b), axis = 0)"
   ]
  },
  {
   "cell_type": "code",
   "execution_count": 184,
   "id": "25f82112",
   "metadata": {},
   "outputs": [
    {
     "data": {
      "text/plain": [
       "array([[ 1,  2,  3,  4,  5],\n",
       "       [ 1,  4,  9, 16, 25]])"
      ]
     },
     "execution_count": 184,
     "metadata": {},
     "output_type": "execute_result"
    }
   ],
   "source": [
    "np.vstack((a, b))"
   ]
  },
  {
   "cell_type": "code",
   "execution_count": 190,
   "id": "72188478",
   "metadata": {},
   "outputs": [
    {
     "data": {
      "text/plain": [
       "array([ 1,  2,  3,  4,  5,  1,  4,  9, 16, 25])"
      ]
     },
     "execution_count": 190,
     "metadata": {},
     "output_type": "execute_result"
    }
   ],
   "source": [
    "np.hstack((a, b))"
   ]
  },
  {
   "cell_type": "code",
   "execution_count": 189,
   "id": "7f89b6b2",
   "metadata": {},
   "outputs": [
    {
     "name": "stdout",
     "output_type": "stream",
     "text": [
      "[[1 2]\n",
      " [3 4]] [[5 6]\n",
      " [7 8]]\n"
     ]
    }
   ],
   "source": [
    "print(X, Y)"
   ]
  },
  {
   "cell_type": "code",
   "execution_count": 188,
   "id": "c969248c",
   "metadata": {},
   "outputs": [
    {
     "name": "stdout",
     "output_type": "stream",
     "text": [
      "[[1 2 5 6]\n",
      " [3 4 7 8]]\n",
      "[[1 2]\n",
      " [3 4]\n",
      " [5 6]\n",
      " [7 8]]\n"
     ]
    }
   ],
   "source": [
    "print(np.hstack((X, Y))) \n",
    "print(np.vstack((X, Y)))"
   ]
  },
  {
   "cell_type": "code",
   "execution_count": 192,
   "id": "75e2c70f",
   "metadata": {},
   "outputs": [
    {
     "name": "stdout",
     "output_type": "stream",
     "text": [
      "(2, 4)\n",
      "(4, 2)\n"
     ]
    }
   ],
   "source": [
    "print(np.hstack((X, Y)).shape) \n",
    "print(np.vstack((X, Y)).shape)"
   ]
  },
  {
   "cell_type": "code",
   "execution_count": 207,
   "id": "191787a5",
   "metadata": {},
   "outputs": [
    {
     "name": "stdout",
     "output_type": "stream",
     "text": [
      "[[1 2]\n",
      " [5 6]\n",
      " [3 4]\n",
      " [7 8]]\n"
     ]
    }
   ],
   "source": [
    "print(np.hstack((X, Y)).reshape(4, -1)) \n",
    "# print(np.vstack((X, Y)))"
   ]
  },
  {
   "cell_type": "code",
   "execution_count": 208,
   "id": "be90c8c0",
   "metadata": {},
   "outputs": [],
   "source": [
    "a = np.random.randint(0, 20, 3)"
   ]
  },
  {
   "cell_type": "code",
   "execution_count": 209,
   "id": "ef558ed6",
   "metadata": {},
   "outputs": [
    {
     "data": {
      "text/plain": [
       "array([ 2, 10,  5])"
      ]
     },
     "execution_count": 209,
     "metadata": {},
     "output_type": "execute_result"
    }
   ],
   "source": [
    "a"
   ]
  },
  {
   "cell_type": "code",
   "execution_count": 214,
   "id": "f0a72afc",
   "metadata": {},
   "outputs": [],
   "source": [
    "choice = np.random.choice(a)"
   ]
  },
  {
   "cell_type": "code",
   "execution_count": 215,
   "id": "6484c9bb",
   "metadata": {},
   "outputs": [
    {
     "data": {
      "text/plain": [
       "10"
      ]
     },
     "execution_count": 215,
     "metadata": {},
     "output_type": "execute_result"
    }
   ],
   "source": [
    "choice"
   ]
  },
  {
   "cell_type": "code",
   "execution_count": null,
   "id": "740676db",
   "metadata": {},
   "outputs": [],
   "source": []
  }
 ],
 "metadata": {
  "kernelspec": {
   "display_name": "Python 3 (ipykernel)",
   "language": "python",
   "name": "python3"
  },
  "language_info": {
   "codemirror_mode": {
    "name": "ipython",
    "version": 3
   },
   "file_extension": ".py",
   "mimetype": "text/x-python",
   "name": "python",
   "nbconvert_exporter": "python",
   "pygments_lexer": "ipython3",
   "version": "3.8.10"
  }
 },
 "nbformat": 4,
 "nbformat_minor": 5
}
