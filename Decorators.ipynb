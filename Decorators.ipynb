{
 "cells": [
  {
   "cell_type": "markdown",
   "id": "409a316e",
   "metadata": {},
   "source": [
    "# Decorators:"
   ]
  },
  {
   "cell_type": "code",
   "execution_count": 1,
   "id": "9822b4b2",
   "metadata": {},
   "outputs": [],
   "source": [
    "user = {\n",
    "    'Abhijeet':'Abhijeet@123',\n",
    "    'Sonu':'dole@123'\n",
    "}"
   ]
  },
  {
   "cell_type": "code",
   "execution_count": 2,
   "id": "f0671e0c",
   "metadata": {},
   "outputs": [
    {
     "name": "stdout",
     "output_type": "stream",
     "text": [
      "UsernameAbhijeet\n",
      "PasswordAbhijeet@123\n"
     ]
    }
   ],
   "source": [
    "inp_user = input('Username')\n",
    "inp_pass = input('Password')"
   ]
  },
  {
   "cell_type": "code",
   "execution_count": 4,
   "id": "5945a605",
   "metadata": {},
   "outputs": [
    {
     "name": "stdout",
     "output_type": "stream",
     "text": [
      "Verified\n"
     ]
    }
   ],
   "source": [
    "if inp_user in user and user[inp_user] == inp_pass:\n",
    "    print('Verified')"
   ]
  },
  {
   "cell_type": "code",
   "execution_count": 11,
   "id": "d8a68468",
   "metadata": {},
   "outputs": [],
   "source": [
    "def show(username, password):\n",
    "    if username in user and user[inp_user] == password:\n",
    "        print('Verified')\n",
    "    else:\n",
    "        print('Not verified')"
   ]
  },
  {
   "cell_type": "code",
   "execution_count": 9,
   "id": "bd8c71e6",
   "metadata": {},
   "outputs": [
    {
     "name": "stdout",
     "output_type": "stream",
     "text": [
      "UsernameAbhijeet\n",
      "Passwordhello\n",
      "Not verified\n"
     ]
    }
   ],
   "source": [
    "show(input('Username'), input('Password'))"
   ]
  },
  {
   "cell_type": "code",
   "execution_count": 10,
   "id": "5bc083d9",
   "metadata": {},
   "outputs": [],
   "source": [
    "def adder(a, b):\n",
    "    print(a+b)"
   ]
  },
  {
   "cell_type": "code",
   "execution_count": 12,
   "id": "6dd8a5e4",
   "metadata": {},
   "outputs": [
    {
     "name": "stdout",
     "output_type": "stream",
     "text": [
      "3\n"
     ]
    }
   ],
   "source": [
    "adder(1,2)"
   ]
  },
  {
   "cell_type": "code",
   "execution_count": 13,
   "id": "aecc3ecf",
   "metadata": {},
   "outputs": [
    {
     "name": "stdout",
     "output_type": "stream",
     "text": [
      "Usernamesadfkn\n",
      "Passwords,djnv\n",
      "Not verified\n"
     ]
    }
   ],
   "source": [
    "inp_user = input('Username')\n",
    "inp_pass = input('Password')\n",
    "if inp_user in user and user[inp_user] == inp_pass:\n",
    "    print('Verified')\n",
    "    adder(1, 2)\n",
    "else:\n",
    "    print('Not verified')"
   ]
  },
  {
   "cell_type": "code",
   "execution_count": 28,
   "id": "ebdb58f6",
   "metadata": {},
   "outputs": [],
   "source": [
    "def login_requ(func):\n",
    "    \n",
    "    def wrapper(username, password, *args, **kwargs):\n",
    "        if username in user and user[username] == password:\n",
    "            print('Verified')\n",
    "            func(*args)\n",
    "        else:\n",
    "            print('Not verified')\n",
    "        \n",
    "        \n",
    "    return wrapper"
   ]
  },
  {
   "cell_type": "code",
   "execution_count": 29,
   "id": "586724d2",
   "metadata": {},
   "outputs": [],
   "source": [
    "def adder(a, b):\n",
    "    print(a+b)"
   ]
  },
  {
   "cell_type": "code",
   "execution_count": 30,
   "id": "a908b3ea",
   "metadata": {},
   "outputs": [],
   "source": [
    "prot_add = login_requ(adder)"
   ]
  },
  {
   "cell_type": "code",
   "execution_count": 31,
   "id": "c9480e5e",
   "metadata": {},
   "outputs": [
    {
     "name": "stdout",
     "output_type": "stream",
     "text": [
      "<function adder at 0x0000026A7F20A940>\n"
     ]
    }
   ],
   "source": [
    "print(adder)"
   ]
  },
  {
   "cell_type": "code",
   "execution_count": 32,
   "id": "11846d4b",
   "metadata": {},
   "outputs": [
    {
     "name": "stdout",
     "output_type": "stream",
     "text": [
      "Not verified\n"
     ]
    }
   ],
   "source": [
    "prot_add('A', 'sefwsf')"
   ]
  },
  {
   "cell_type": "code",
   "execution_count": 33,
   "id": "6f9a4c92",
   "metadata": {},
   "outputs": [
    {
     "name": "stdout",
     "output_type": "stream",
     "text": [
      "Verified\n",
      "3\n"
     ]
    }
   ],
   "source": [
    "prot_add('Sonu', 'dole@123', 1, 2)"
   ]
  },
  {
   "cell_type": "code",
   "execution_count": 34,
   "id": "110a82f2",
   "metadata": {},
   "outputs": [
    {
     "name": "stdout",
     "output_type": "stream",
     "text": [
      "3\n"
     ]
    }
   ],
   "source": [
    "adder(1, 2)"
   ]
  },
  {
   "cell_type": "code",
   "execution_count": 35,
   "id": "078e1bd9",
   "metadata": {},
   "outputs": [],
   "source": [
    "adder = login_requ(adder)"
   ]
  },
  {
   "cell_type": "code",
   "execution_count": 38,
   "id": "4a471898",
   "metadata": {},
   "outputs": [
    {
     "name": "stdout",
     "output_type": "stream",
     "text": [
      "Verified\n",
      "3\n"
     ]
    }
   ],
   "source": [
    "adder('Sonu', 'dole@123', 1, 2)"
   ]
  },
  {
   "cell_type": "code",
   "execution_count": 40,
   "id": "1834cd4e",
   "metadata": {},
   "outputs": [
    {
     "name": "stdout",
     "output_type": "stream",
     "text": [
      "Not verified\n"
     ]
    }
   ],
   "source": [
    "adder(1, 2)"
   ]
  },
  {
   "cell_type": "code",
   "execution_count": 41,
   "id": "40d47f27",
   "metadata": {},
   "outputs": [
    {
     "name": "stdout",
     "output_type": "stream",
     "text": [
      "Not verified\n"
     ]
    }
   ],
   "source": [
    "adder('sxfgbsdgvsd', 'dole@123', 1, 2)"
   ]
  },
  {
   "cell_type": "code",
   "execution_count": null,
   "id": "dcb5fb17",
   "metadata": {},
   "outputs": [],
   "source": []
  }
 ],
 "metadata": {
  "kernelspec": {
   "display_name": "Python 3 (ipykernel)",
   "language": "python",
   "name": "python3"
  },
  "language_info": {
   "codemirror_mode": {
    "name": "ipython",
    "version": 3
   },
   "file_extension": ".py",
   "mimetype": "text/x-python",
   "name": "python",
   "nbconvert_exporter": "python",
   "pygments_lexer": "ipython3",
   "version": "3.8.10"
  }
 },
 "nbformat": 4,
 "nbformat_minor": 5
}
