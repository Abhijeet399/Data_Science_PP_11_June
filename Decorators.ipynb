{
 "cells": [
  {
   "cell_type": "markdown",
   "id": "409a316e",
   "metadata": {},
   "source": [
    "# Decorators:"
   ]
  },
  {
   "cell_type": "code",
   "execution_count": 1,
   "id": "9822b4b2",
   "metadata": {},
   "outputs": [],
   "source": [
    "user = {\n",
    "    'Abhijeet':'Abhijeet@123',\n",
    "    'Sonu':'dole@123'\n",
    "}"
   ]
  },
  {
   "cell_type": "code",
   "execution_count": 2,
   "id": "f0671e0c",
   "metadata": {},
   "outputs": [
    {
     "name": "stdout",
     "output_type": "stream",
     "text": [
      "Username\n",
      "Password\n"
     ]
    }
   ],
   "source": [
    "inp_user = input('Username')\n",
    "inp_pass = input('Password')"
   ]
  },
  {
   "cell_type": "code",
   "execution_count": 3,
   "id": "5945a605",
   "metadata": {},
   "outputs": [],
   "source": [
    "if inp_user in user and user[inp_user] == inp_pass:\n",
    "    print('Verified')"
   ]
  },
  {
   "cell_type": "code",
   "execution_count": 26,
   "id": "d8a68468",
   "metadata": {},
   "outputs": [],
   "source": [
    "def show(username, password):\n",
    "    if username in user and user[username] == password:\n",
    "        print('Verified')\n",
    "    else:\n",
    "        print('Not verified')"
   ]
  },
  {
   "cell_type": "code",
   "execution_count": 28,
   "id": "bd8c71e6",
   "metadata": {},
   "outputs": [
    {
     "name": "stdout",
     "output_type": "stream",
     "text": [
      "UsernameAbhijeet\n",
      "PasswordAbhijeet@123\n",
      "4\n",
      "Verified\n"
     ]
    }
   ],
   "source": [
    "show(input('Username'), input('Password'))"
   ]
  },
  {
   "cell_type": "code",
   "execution_count": 29,
   "id": "d1f3eac4",
   "metadata": {},
   "outputs": [
    {
     "name": "stdout",
     "output_type": "stream",
     "text": [
      "4\n"
     ]
    }
   ],
   "source": [
    "adder(1, 3)"
   ]
  },
  {
   "cell_type": "code",
   "execution_count": 13,
   "id": "5bc083d9",
   "metadata": {},
   "outputs": [],
   "source": [
    "def adder(a, b):\n",
    "    print(a+b)"
   ]
  },
  {
   "cell_type": "code",
   "execution_count": 14,
   "id": "6dd8a5e4",
   "metadata": {},
   "outputs": [
    {
     "name": "stdout",
     "output_type": "stream",
     "text": [
      "3\n"
     ]
    }
   ],
   "source": [
    "adder(1,2)"
   ]
  },
  {
   "cell_type": "code",
   "execution_count": 13,
   "id": "aecc3ecf",
   "metadata": {},
   "outputs": [
    {
     "name": "stdout",
     "output_type": "stream",
     "text": [
      "Usernamesadfkn\n",
      "Passwords,djnv\n",
      "Not verified\n"
     ]
    }
   ],
   "source": [
    "inp_user = input('Username')\n",
    "inp_pass = input('Password')\n",
    "if inp_user in user and user[inp_user] == inp_pass:\n",
    "    print('Verified')\n",
    "    adder(1, 2)\n",
    "else:\n",
    "    print('Not verified')"
   ]
  },
  {
   "cell_type": "code",
   "execution_count": 77,
   "id": "ebdb58f6",
   "metadata": {},
   "outputs": [],
   "source": [
    "def login_requ(func):\n",
    "    \n",
    "    def wrapper(username, password, *args, **kwargs):\n",
    "        if username in user and user[username] == password:\n",
    "            print('Verified')\n",
    "            func(*args)\n",
    "        else:\n",
    "            print('Not verified')\n",
    "        \n",
    "        \n",
    "    return wrapper"
   ]
  },
  {
   "cell_type": "code",
   "execution_count": 78,
   "id": "586724d2",
   "metadata": {},
   "outputs": [],
   "source": [
    "def adder(a, b):\n",
    "    print(a+b)"
   ]
  },
  {
   "cell_type": "code",
   "execution_count": 79,
   "id": "a908b3ea",
   "metadata": {},
   "outputs": [],
   "source": [
    "prot_add = login_requ(adder)"
   ]
  },
  {
   "cell_type": "code",
   "execution_count": 80,
   "id": "c9480e5e",
   "metadata": {},
   "outputs": [
    {
     "name": "stdout",
     "output_type": "stream",
     "text": [
      "<function adder at 0x0000024E782968B0>\n"
     ]
    }
   ],
   "source": [
    "print(adder)"
   ]
  },
  {
   "cell_type": "code",
   "execution_count": 81,
   "id": "11846d4b",
   "metadata": {},
   "outputs": [
    {
     "name": "stdout",
     "output_type": "stream",
     "text": [
      "Not verified\n"
     ]
    }
   ],
   "source": [
    "prot_add('A', 'sefwsf')"
   ]
  },
  {
   "cell_type": "code",
   "execution_count": 82,
   "id": "6f9a4c92",
   "metadata": {},
   "outputs": [
    {
     "name": "stdout",
     "output_type": "stream",
     "text": [
      "Verified\n",
      "3\n"
     ]
    }
   ],
   "source": [
    "prot_add('Sonu', 'dole@123', 1, 2)"
   ]
  },
  {
   "cell_type": "code",
   "execution_count": 25,
   "id": "110a82f2",
   "metadata": {},
   "outputs": [
    {
     "name": "stdout",
     "output_type": "stream",
     "text": [
      "3\n"
     ]
    }
   ],
   "source": [
    "adder(1, 2)"
   ]
  },
  {
   "cell_type": "code",
   "execution_count": 30,
   "id": "078e1bd9",
   "metadata": {},
   "outputs": [],
   "source": [
    "adder = login_requ(adder)"
   ]
  },
  {
   "cell_type": "code",
   "execution_count": 31,
   "id": "4a471898",
   "metadata": {},
   "outputs": [
    {
     "name": "stdout",
     "output_type": "stream",
     "text": [
      "Verified\n",
      "3\n"
     ]
    }
   ],
   "source": [
    "adder('Sonu', 'dole@123', 1, 2)"
   ]
  },
  {
   "cell_type": "code",
   "execution_count": 40,
   "id": "1834cd4e",
   "metadata": {},
   "outputs": [
    {
     "name": "stdout",
     "output_type": "stream",
     "text": [
      "Not verified\n"
     ]
    }
   ],
   "source": [
    "adder(1, 2)"
   ]
  },
  {
   "cell_type": "code",
   "execution_count": 41,
   "id": "40d47f27",
   "metadata": {},
   "outputs": [
    {
     "name": "stdout",
     "output_type": "stream",
     "text": [
      "Not verified\n"
     ]
    }
   ],
   "source": [
    "adder('sxfgbsdgvsd', 'dole@123', 1, 2)"
   ]
  },
  {
   "cell_type": "code",
   "execution_count": 32,
   "id": "dcb5fb17",
   "metadata": {},
   "outputs": [],
   "source": [
    "def adder(a, b):\n",
    "    print(a+b)\n",
    "\n",
    "adder = login_requ(adder)"
   ]
  },
  {
   "cell_type": "code",
   "execution_count": 33,
   "id": "1059bb84",
   "metadata": {},
   "outputs": [],
   "source": [
    "@login_requ\n",
    "def adder(a, b):\n",
    "    print(a+b)"
   ]
  },
  {
   "cell_type": "code",
   "execution_count": 36,
   "id": "0926affc",
   "metadata": {},
   "outputs": [
    {
     "name": "stdout",
     "output_type": "stream",
     "text": [
      "Verified\n",
      "77\n"
     ]
    }
   ],
   "source": [
    "adder('Abhijeet', 'Abhijeet@123', 55, 22)"
   ]
  },
  {
   "cell_type": "code",
   "execution_count": 42,
   "id": "521de80d",
   "metadata": {},
   "outputs": [],
   "source": [
    "set1 = {'string', 1, 2, 3}"
   ]
  },
  {
   "cell_type": "code",
   "execution_count": 43,
   "id": "c4438aaa",
   "metadata": {},
   "outputs": [],
   "source": [
    "set1.update('ssljkdjhkf', 'sldjkbdvjshbdvd')"
   ]
  },
  {
   "cell_type": "code",
   "execution_count": 47,
   "id": "3b4c43b0",
   "metadata": {},
   "outputs": [
    {
     "data": {
      "text/plain": [
       "{1,\n",
       " 2,\n",
       " 3,\n",
       " 'ajhbfbksebef',\n",
       " 'b',\n",
       " 'd',\n",
       " 'f',\n",
       " 'h',\n",
       " 'j',\n",
       " 'k',\n",
       " 'l',\n",
       " 's',\n",
       " 'string',\n",
       " 'v'}"
      ]
     },
     "execution_count": 47,
     "metadata": {},
     "output_type": "execute_result"
    }
   ],
   "source": [
    "set1"
   ]
  },
  {
   "cell_type": "code",
   "execution_count": 48,
   "id": "1f4f418d",
   "metadata": {},
   "outputs": [],
   "source": [
    "set1.add('ajhbfbksebef')"
   ]
  },
  {
   "cell_type": "code",
   "execution_count": 53,
   "id": "9318e60e",
   "metadata": {},
   "outputs": [
    {
     "name": "stdout",
     "output_type": "stream",
     "text": [
      "Enter number of students2\n",
      "Name?Abhijeet\n",
      "Age2\n",
      "Roll number1\n",
      "Marks33\n",
      "Name?Varun\n",
      "Age20\n",
      "Roll number022\n",
      "Marks100\n"
     ]
    }
   ],
   "source": [
    "user_list = []\n",
    "n = int(input('Enter number of students'))\n",
    "\n",
    "for i in range(n):\n",
    "    name = input('Name?')\n",
    "    age = int(input('Age'))\n",
    "    roll = int(input('Roll number'))\n",
    "    marks = int(input('Marks'))\n",
    "    user_list.append({'name':name, 'age':age,'roll':roll,'marks':marks})"
   ]
  },
  {
   "cell_type": "code",
   "execution_count": 54,
   "id": "4f01b9cb",
   "metadata": {},
   "outputs": [
    {
     "data": {
      "text/plain": [
       "[{'name': 'Abhijeet', 'age': 2, 'roll': 1, 'marks': 33},\n",
       " {'name': 'Varun', 'age': 20, 'roll': 22, 'marks': 100}]"
      ]
     },
     "execution_count": 54,
     "metadata": {},
     "output_type": "execute_result"
    }
   ],
   "source": [
    "user_list"
   ]
  },
  {
   "cell_type": "code",
   "execution_count": 69,
   "id": "43e7bd03",
   "metadata": {},
   "outputs": [],
   "source": [
    "def adder(a, b, *args, **kwargs):\n",
    "    print(a+b)\n",
    "    print(args)\n",
    "    print(*args)\n",
    "#     var = args\n",
    "#     print(type(var))\n",
    "    print(kwargs)"
   ]
  },
  {
   "cell_type": "code",
   "execution_count": 70,
   "id": "fcf4178e",
   "metadata": {},
   "outputs": [
    {
     "name": "stdout",
     "output_type": "stream",
     "text": [
      "3\n",
      "(3, 4, 5, 6, 7, 8, 9)\n",
      "3 4 5 6 7 8 9\n",
      "{'name': 'adder', 'function': 'add'}\n"
     ]
    }
   ],
   "source": [
    "adder(1,2,3,4,5,6,7,8,9, name = 'adder', function = 'add')"
   ]
  },
  {
   "cell_type": "code",
   "execution_count": null,
   "id": "c24f4fb8",
   "metadata": {},
   "outputs": [],
   "source": []
  }
 ],
 "metadata": {
  "kernelspec": {
   "display_name": "Python 3 (ipykernel)",
   "language": "python",
   "name": "python3"
  },
  "language_info": {
   "codemirror_mode": {
    "name": "ipython",
    "version": 3
   },
   "file_extension": ".py",
   "mimetype": "text/x-python",
   "name": "python",
   "nbconvert_exporter": "python",
   "pygments_lexer": "ipython3",
   "version": "3.8.10"
  }
 },
 "nbformat": 4,
 "nbformat_minor": 5
}
