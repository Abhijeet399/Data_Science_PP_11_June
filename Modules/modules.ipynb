{
 "cells": [
  {
   "cell_type": "code",
   "execution_count": 1,
   "id": "ce0be79c",
   "metadata": {},
   "outputs": [],
   "source": [
    "import All_modules.calculator as calculator"
   ]
  },
  {
   "cell_type": "code",
   "execution_count": 2,
   "id": "103e7df0",
   "metadata": {},
   "outputs": [],
   "source": [
    "from All_modules.calculator import add"
   ]
  },
  {
   "cell_type": "code",
   "execution_count": 3,
   "id": "c917509e",
   "metadata": {},
   "outputs": [
    {
     "name": "stdout",
     "output_type": "stream",
     "text": [
      "3\n"
     ]
    },
    {
     "data": {
      "text/plain": [
       "3"
      ]
     },
     "execution_count": 3,
     "metadata": {},
     "output_type": "execute_result"
    }
   ],
   "source": [
    "add(1, 2)"
   ]
  },
  {
   "cell_type": "code",
   "execution_count": 4,
   "id": "0293457c",
   "metadata": {},
   "outputs": [
    {
     "name": "stdout",
     "output_type": "stream",
     "text": [
      "1\n"
     ]
    }
   ],
   "source": [
    "sub = calculator.subtract(2, 1)"
   ]
  },
  {
   "cell_type": "code",
   "execution_count": 5,
   "id": "1e75f51b",
   "metadata": {},
   "outputs": [
    {
     "name": "stdout",
     "output_type": "stream",
     "text": [
      "40\n"
     ]
    }
   ],
   "source": [
    "mul = calculator.multiply(2, 20)"
   ]
  },
  {
   "cell_type": "code",
   "execution_count": 2,
   "id": "c7d6dc96",
   "metadata": {},
   "outputs": [],
   "source": [
    "import vowel_checker"
   ]
  },
  {
   "cell_type": "code",
   "execution_count": 3,
   "id": "4267966d",
   "metadata": {},
   "outputs": [
    {
     "name": "stdout",
     "output_type": "stream",
     "text": [
      "A\n",
      "b\n",
      "h\n",
      "I\n",
      "j\n",
      "E\n",
      "E\n",
      "t\n"
     ]
    }
   ],
   "source": [
    "boolean = vowel_checker.vowels('AbhIjEEt')"
   ]
  },
  {
   "cell_type": "code",
   "execution_count": 4,
   "id": "1de29079",
   "metadata": {},
   "outputs": [
    {
     "data": {
      "text/plain": [
       "False"
      ]
     },
     "execution_count": 4,
     "metadata": {},
     "output_type": "execute_result"
    }
   ],
   "source": [
    "boolean"
   ]
  },
  {
   "cell_type": "code",
   "execution_count": null,
   "id": "3b1341fe",
   "metadata": {},
   "outputs": [],
   "source": []
  }
 ],
 "metadata": {
  "kernelspec": {
   "display_name": "Python 3 (ipykernel)",
   "language": "python",
   "name": "python3"
  },
  "language_info": {
   "codemirror_mode": {
    "name": "ipython",
    "version": 3
   },
   "file_extension": ".py",
   "mimetype": "text/x-python",
   "name": "python",
   "nbconvert_exporter": "python",
   "pygments_lexer": "ipython3",
   "version": "3.8.10"
  }
 },
 "nbformat": 4,
 "nbformat_minor": 5
}
