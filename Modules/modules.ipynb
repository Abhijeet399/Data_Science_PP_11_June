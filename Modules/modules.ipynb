{
 "cells": [
  {
   "cell_type": "code",
   "execution_count": 12,
   "id": "ce0be79c",
   "metadata": {},
   "outputs": [],
   "source": [
    "import All_modules.calculator as calc"
   ]
  },
  {
   "cell_type": "code",
   "execution_count": 13,
   "id": "103e7df0",
   "metadata": {},
   "outputs": [],
   "source": [
    "# from All_modules.calculator import add, subtract"
   ]
  },
  {
   "cell_type": "code",
   "execution_count": 16,
   "id": "44c23308",
   "metadata": {},
   "outputs": [],
   "source": [
    "from All_modules.calculator import *"
   ]
  },
  {
   "cell_type": "code",
   "execution_count": 14,
   "id": "c917509e",
   "metadata": {},
   "outputs": [
    {
     "name": "stdout",
     "output_type": "stream",
     "text": [
      "-1\n"
     ]
    }
   ],
   "source": [
    "sub = calc.subtract(1, 2)"
   ]
  },
  {
   "cell_type": "code",
   "execution_count": null,
   "id": "0293457c",
   "metadata": {},
   "outputs": [],
   "source": [
    "sub = calculator.subtract(2, 1)"
   ]
  },
  {
   "cell_type": "code",
   "execution_count": 18,
   "id": "1e75f51b",
   "metadata": {},
   "outputs": [
    {
     "name": "stdout",
     "output_type": "stream",
     "text": [
      "40\n"
     ]
    }
   ],
   "source": [
    "mul = multiply(2, 20)"
   ]
  },
  {
   "cell_type": "code",
   "execution_count": 22,
   "id": "c7d6dc96",
   "metadata": {},
   "outputs": [],
   "source": [
    "import vowel_checker"
   ]
  },
  {
   "cell_type": "code",
   "execution_count": 26,
   "id": "4267966d",
   "metadata": {},
   "outputs": [
    {
     "name": "stdout",
     "output_type": "stream",
     "text": [
      "a\n"
     ]
    }
   ],
   "source": [
    "string = 'AbhIjEEt'\n",
    "boolean = vowel_checker.vowels(string.lower())"
   ]
  },
  {
   "cell_type": "code",
   "execution_count": 27,
   "id": "1de29079",
   "metadata": {},
   "outputs": [
    {
     "data": {
      "text/plain": [
       "True"
      ]
     },
     "execution_count": 27,
     "metadata": {},
     "output_type": "execute_result"
    }
   ],
   "source": [
    "boolean"
   ]
  },
  {
   "cell_type": "code",
   "execution_count": null,
   "id": "3b1341fe",
   "metadata": {},
   "outputs": [],
   "source": []
  }
 ],
 "metadata": {
  "kernelspec": {
   "display_name": "Python 3 (ipykernel)",
   "language": "python",
   "name": "python3"
  },
  "language_info": {
   "codemirror_mode": {
    "name": "ipython",
    "version": 3
   },
   "file_extension": ".py",
   "mimetype": "text/x-python",
   "name": "python",
   "nbconvert_exporter": "python",
   "pygments_lexer": "ipython3",
   "version": "3.8.10"
  }
 },
 "nbformat": 4,
 "nbformat_minor": 5
}
