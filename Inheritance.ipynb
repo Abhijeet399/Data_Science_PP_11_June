{
 "cells": [
  {
   "cell_type": "code",
   "execution_count": 16,
   "id": "d40bafc9",
   "metadata": {},
   "outputs": [],
   "source": [
    "class School_Members:\n",
    "    def __init__(self, name, age):\n",
    "        self.name = name\n",
    "        self.age = age\n",
    "        print(f'Initialised School Member with name: {self.name}')\n",
    "        \n",
    "#     def hello(self):\n",
    "#         print('hello')\n",
    "        \n",
    "    def tell(self):\n",
    "        print(f\"Name is {self.name}, age is {self.age}\")"
   ]
  },
  {
   "cell_type": "code",
   "execution_count": 17,
   "id": "b7620565",
   "metadata": {},
   "outputs": [],
   "source": [
    "class Teachers(School_Members):\n",
    "    \n",
    "    def __init__(self, name, age, salary):\n",
    "        \n",
    "        School_Members.__init__(self, name, age)\n",
    "        self.salary = salary\n",
    "#         School_Members.hello(self)\n",
    "        print(f'Initialised Teacher with name {self.name}')\n",
    "        \n",
    "    def tell(self):\n",
    "        School_Members.tell(self)\n",
    "        print(f'Salary is: {self.salary}')"
   ]
  },
  {
   "cell_type": "code",
   "execution_count": 18,
   "id": "bba0ea27",
   "metadata": {},
   "outputs": [
    {
     "name": "stdout",
     "output_type": "stream",
     "text": [
      "Initialised School Member with name: Abhijeet\n",
      "Initialised Teacher with name Abhijeet\n"
     ]
    }
   ],
   "source": [
    "t = Teachers('Abhijeet', 23, 500)"
   ]
  },
  {
   "cell_type": "code",
   "execution_count": 19,
   "id": "785e676f",
   "metadata": {},
   "outputs": [
    {
     "name": "stdout",
     "output_type": "stream",
     "text": [
      "Name is Abhijeet, age is 23\n",
      "Salary is: 500\n"
     ]
    }
   ],
   "source": [
    "t.tell()"
   ]
  },
  {
   "cell_type": "code",
   "execution_count": 21,
   "id": "e16ef67c",
   "metadata": {},
   "outputs": [],
   "source": [
    "class Student(School_Members):\n",
    "    \n",
    "    def __init__(self, name, age, marks):\n",
    "        \n",
    "        School_Members.__init__(self, name, age)\n",
    "        self.marks = marks\n",
    "#         School_Members.hello(self)\n",
    "        print(f'Initialised Student with name {self.name}')\n",
    "        \n",
    "    def tell(self):\n",
    "        School_Members.tell(self)\n",
    "        print(f'Marks are: {self.marks}')"
   ]
  },
  {
   "cell_type": "code",
   "execution_count": 22,
   "id": "8ecbec0a",
   "metadata": {},
   "outputs": [
    {
     "name": "stdout",
     "output_type": "stream",
     "text": [
      "Initialised School Member with name: Sudhir\n",
      "Initialised Student with name Sudhir\n"
     ]
    }
   ],
   "source": [
    "s = Student('Sudhir', 22, 90)"
   ]
  },
  {
   "cell_type": "code",
   "execution_count": 29,
   "id": "a239df8b",
   "metadata": {},
   "outputs": [
    {
     "data": {
      "text/plain": [
       "22"
      ]
     },
     "execution_count": 29,
     "metadata": {},
     "output_type": "execute_result"
    }
   ],
   "source": [
    "s.age"
   ]
  },
  {
   "cell_type": "code",
   "execution_count": null,
   "id": "72015c7d",
   "metadata": {},
   "outputs": [],
   "source": []
  },
  {
   "cell_type": "code",
   "execution_count": 28,
   "id": "1bf01600",
   "metadata": {},
   "outputs": [],
   "source": [
    "class School_Members:\n",
    "    def __init__(self, name, age):\n",
    "        self.name = name\n",
    "        self.age = age\n",
    "        print(f'Initialised School Member with name: {self.name}')\n",
    "        \n",
    "    def tell(self):\n",
    "        print(f\"Name is {self.name}, age is {self.age}\")"
   ]
  },
  {
   "cell_type": "code",
   "execution_count": 30,
   "id": "66714bd3",
   "metadata": {},
   "outputs": [],
   "source": [
    "class Teachers(School_Members):\n",
    "    \n",
    "    def __init__(self, name, age, salary):\n",
    "        \n",
    "        super().__init__(name, age)\n",
    "        self.salary = salary\n",
    "#         School_Members.hello(self)\n",
    "        print(f'Initialised Teacher with name {self.name}')\n",
    "        \n",
    "    def tell(self):\n",
    "        super().tell()\n",
    "        print(f'Salary is: {self.salary}')"
   ]
  },
  {
   "cell_type": "code",
   "execution_count": 32,
   "id": "e2864cb7",
   "metadata": {},
   "outputs": [],
   "source": [
    "class Student(School_Members):\n",
    "    \n",
    "    def __init__(self, name, age, marks):\n",
    "        \n",
    "        super().__init__(name, age)\n",
    "        self.marks = marks\n",
    "#         School_Members.hello(self)\n",
    "        print(f'Initialised Student with name {self.name}')\n",
    "        \n",
    "    def tell(self):\n",
    "        super().tell()\n",
    "        print(f'Marks are: {self.marks}')"
   ]
  },
  {
   "cell_type": "code",
   "execution_count": 33,
   "id": "f845407b",
   "metadata": {},
   "outputs": [
    {
     "name": "stdout",
     "output_type": "stream",
     "text": [
      "Initialised School Member with name: Abhijeet\n",
      "Initialised Teacher with name Abhijeet\n"
     ]
    }
   ],
   "source": [
    "t = Teachers('Abhijeet', 23, 500)"
   ]
  },
  {
   "cell_type": "code",
   "execution_count": 34,
   "id": "b2a9cd54",
   "metadata": {},
   "outputs": [
    {
     "name": "stdout",
     "output_type": "stream",
     "text": [
      "Initialised School Member with name: Sudhir\n",
      "Initialised Student with name Sudhir\n"
     ]
    }
   ],
   "source": [
    "s = Student('Sudhir', 22, 90)"
   ]
  },
  {
   "cell_type": "code",
   "execution_count": 35,
   "id": "1c5d0c80",
   "metadata": {},
   "outputs": [],
   "source": [
    "class Best_Friend:\n",
    "    best_friends = {}\n",
    "    \n",
    "    def __init__(self, name):\n",
    "        self.best_friends[str(name)] = []\n",
    "        \n",
    "    def add_best_friend(self, name, name_best_friend):\n",
    "        self.best_friends[str(name)].append(name_best_friend)\n",
    "        \n",
    "class Person(Best_Friend):\n",
    "    def __init__(self, name):\n",
    "        super().__init__(name)\n",
    "        self.name = name\n",
    "        \n",
    "    def my_best_friend(self, best_friend):\n",
    "        super().add_best_friend(self.name, best_friend)"
   ]
  },
  {
   "cell_type": "code",
   "execution_count": 36,
   "id": "649d1dd2",
   "metadata": {},
   "outputs": [],
   "source": [
    "a = Person('Abhijeet')\n",
    "b = Person('Sudhir')\n",
    "c = Person('Jai')"
   ]
  },
  {
   "cell_type": "code",
   "execution_count": 37,
   "id": "7470bfe0",
   "metadata": {},
   "outputs": [],
   "source": [
    "a.my_best_friend(c.name)"
   ]
  },
  {
   "cell_type": "code",
   "execution_count": 38,
   "id": "b674c94f",
   "metadata": {},
   "outputs": [
    {
     "data": {
      "text/plain": [
       "{'Abhijeet': ['Jai'], 'Sudhir': [], 'Jai': []}"
      ]
     },
     "execution_count": 38,
     "metadata": {},
     "output_type": "execute_result"
    }
   ],
   "source": [
    "a.best_friends"
   ]
  },
  {
   "cell_type": "code",
   "execution_count": 39,
   "id": "49f193f2",
   "metadata": {},
   "outputs": [],
   "source": [
    "b.my_best_friend(c.name)"
   ]
  },
  {
   "cell_type": "code",
   "execution_count": 41,
   "id": "e3283e0c",
   "metadata": {},
   "outputs": [
    {
     "data": {
      "text/plain": [
       "{'Abhijeet': ['Jai'], 'Sudhir': ['Jai', 'Abhijeet'], 'Jai': []}"
      ]
     },
     "execution_count": 41,
     "metadata": {},
     "output_type": "execute_result"
    }
   ],
   "source": [
    "b.my_best_friend(a.name)\n",
    "b.best_friends"
   ]
  },
  {
   "cell_type": "code",
   "execution_count": 42,
   "id": "08c3a24a",
   "metadata": {},
   "outputs": [
    {
     "data": {
      "text/plain": [
       "['Jai', 'Abhijeet']"
      ]
     },
     "execution_count": 42,
     "metadata": {},
     "output_type": "execute_result"
    }
   ],
   "source": [
    "b.best_friends[b.name]"
   ]
  },
  {
   "cell_type": "code",
   "execution_count": null,
   "id": "ac3ca424",
   "metadata": {},
   "outputs": [],
   "source": []
  }
 ],
 "metadata": {
  "kernelspec": {
   "display_name": "Python 3 (ipykernel)",
   "language": "python",
   "name": "python3"
  },
  "language_info": {
   "codemirror_mode": {
    "name": "ipython",
    "version": 3
   },
   "file_extension": ".py",
   "mimetype": "text/x-python",
   "name": "python",
   "nbconvert_exporter": "python",
   "pygments_lexer": "ipython3",
   "version": "3.8.10"
  }
 },
 "nbformat": 4,
 "nbformat_minor": 5
}
