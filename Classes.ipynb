{
 "cells": [
  {
   "cell_type": "code",
   "execution_count": 1,
   "id": "a6868e27",
   "metadata": {},
   "outputs": [],
   "source": [
    "a = ['4',-5, True, 0.003]"
   ]
  },
  {
   "cell_type": "code",
   "execution_count": 2,
   "id": "65d954c1",
   "metadata": {},
   "outputs": [],
   "source": [
    "# a[-1]()"
   ]
  },
  {
   "cell_type": "code",
   "execution_count": 3,
   "id": "982cc022",
   "metadata": {},
   "outputs": [],
   "source": [
    "def adder(a, b):\n",
    "    print(a+b)"
   ]
  },
  {
   "cell_type": "code",
   "execution_count": 4,
   "id": "aa302484",
   "metadata": {},
   "outputs": [
    {
     "name": "stdout",
     "output_type": "stream",
     "text": [
      "3\n"
     ]
    }
   ],
   "source": [
    "adder(1, 2)"
   ]
  },
  {
   "cell_type": "code",
   "execution_count": 5,
   "id": "954bced2",
   "metadata": {},
   "outputs": [
    {
     "name": "stdout",
     "output_type": "stream",
     "text": [
      "<class 'list'>\n"
     ]
    }
   ],
   "source": [
    "print(type(a))"
   ]
  },
  {
   "cell_type": "code",
   "execution_count": 6,
   "id": "4ba72522",
   "metadata": {},
   "outputs": [
    {
     "name": "stdout",
     "output_type": "stream",
     "text": [
      "<class 'int'>\n"
     ]
    }
   ],
   "source": [
    "var = 33\n",
    "print(type(var))"
   ]
  },
  {
   "cell_type": "code",
   "execution_count": 7,
   "id": "0642a1c7",
   "metadata": {},
   "outputs": [
    {
     "data": {
      "text/plain": [
       "True"
      ]
     },
     "execution_count": 7,
     "metadata": {},
     "output_type": "execute_result"
    }
   ],
   "source": [
    "isinstance(print, object)"
   ]
  },
  {
   "cell_type": "code",
   "execution_count": 8,
   "id": "f14f153c",
   "metadata": {},
   "outputs": [
    {
     "name": "stdout",
     "output_type": "stream",
     "text": [
      "<class 'int'>\n"
     ]
    }
   ],
   "source": [
    "print(type(int('22')))"
   ]
  },
  {
   "cell_type": "code",
   "execution_count": 9,
   "id": "86fffc03",
   "metadata": {},
   "outputs": [],
   "source": [
    "class Student:\n",
    "    \n",
    "    course = 'Data_Science'\n",
    "    mentor = 'Abhijeet'\n",
    "    institute = 'Coding_Blocks'\n",
    "#     total_students = 40"
   ]
  },
  {
   "cell_type": "code",
   "execution_count": 10,
   "id": "21e47209",
   "metadata": {},
   "outputs": [
    {
     "data": {
      "text/plain": [
       "'0x124889e23c0'"
      ]
     },
     "execution_count": 10,
     "metadata": {},
     "output_type": "execute_result"
    }
   ],
   "source": [
    "hex(id(Student))"
   ]
  },
  {
   "cell_type": "code",
   "execution_count": 11,
   "id": "6189a02e",
   "metadata": {},
   "outputs": [
    {
     "data": {
      "text/plain": [
       "'Coding_Blocks'"
      ]
     },
     "execution_count": 11,
     "metadata": {},
     "output_type": "execute_result"
    }
   ],
   "source": [
    "Student.institute"
   ]
  },
  {
   "cell_type": "code",
   "execution_count": 12,
   "id": "624eb848",
   "metadata": {},
   "outputs": [],
   "source": [
    "# Student.total_students"
   ]
  },
  {
   "cell_type": "code",
   "execution_count": 13,
   "id": "e77b8f5c",
   "metadata": {},
   "outputs": [],
   "source": [
    "student1 = Student()"
   ]
  },
  {
   "cell_type": "code",
   "execution_count": 14,
   "id": "3acbb9cf",
   "metadata": {},
   "outputs": [
    {
     "data": {
      "text/plain": [
       "True"
      ]
     },
     "execution_count": 14,
     "metadata": {},
     "output_type": "execute_result"
    }
   ],
   "source": [
    "isinstance(student1, object)"
   ]
  },
  {
   "cell_type": "code",
   "execution_count": 15,
   "id": "9f11a8b4",
   "metadata": {},
   "outputs": [
    {
     "name": "stdout",
     "output_type": "stream",
     "text": [
      "Abhijeet Data_Science Coding_Blocks\n"
     ]
    }
   ],
   "source": [
    "print(student1.mentor, student1.course, student1.institute)"
   ]
  },
  {
   "cell_type": "code",
   "execution_count": 16,
   "id": "a2cb5608",
   "metadata": {},
   "outputs": [],
   "source": [
    "student2 = Student()"
   ]
  },
  {
   "cell_type": "code",
   "execution_count": 17,
   "id": "1d917e1f",
   "metadata": {},
   "outputs": [
    {
     "name": "stdout",
     "output_type": "stream",
     "text": [
      "Abhijeet Data_Science Coding_Blocks\n"
     ]
    }
   ],
   "source": [
    "print(student2.mentor, student2.course, student2.institute)"
   ]
  },
  {
   "cell_type": "code",
   "execution_count": 18,
   "id": "07e9df38",
   "metadata": {},
   "outputs": [
    {
     "data": {
      "text/plain": [
       "False"
      ]
     },
     "execution_count": 18,
     "metadata": {},
     "output_type": "execute_result"
    }
   ],
   "source": [
    "id(student1) == id(student2)"
   ]
  },
  {
   "cell_type": "code",
   "execution_count": 21,
   "id": "f9febcc9",
   "metadata": {},
   "outputs": [
    {
     "data": {
      "text/plain": [
       "False"
      ]
     },
     "execution_count": 21,
     "metadata": {},
     "output_type": "execute_result"
    }
   ],
   "source": [
    "id(student2) == id(Student)"
   ]
  },
  {
   "cell_type": "code",
   "execution_count": 54,
   "id": "b781ce85",
   "metadata": {},
   "outputs": [],
   "source": [
    "class Person:\n",
    "    gender = None\n",
    "    height = 5.5\n",
    "    name = None"
   ]
  },
  {
   "cell_type": "code",
   "execution_count": 55,
   "id": "5e56e959",
   "metadata": {},
   "outputs": [],
   "source": [
    "p1 = Person()\n",
    "p2 = Person()"
   ]
  },
  {
   "cell_type": "code",
   "execution_count": 56,
   "id": "37c6be7e",
   "metadata": {},
   "outputs": [
    {
     "data": {
      "text/plain": [
       "(5.5, 5.5)"
      ]
     },
     "execution_count": 56,
     "metadata": {},
     "output_type": "execute_result"
    }
   ],
   "source": [
    "Person.height, p1.height"
   ]
  },
  {
   "cell_type": "code",
   "execution_count": 57,
   "id": "78d09204",
   "metadata": {},
   "outputs": [
    {
     "data": {
      "text/plain": [
       "__main__.Person"
      ]
     },
     "execution_count": 57,
     "metadata": {},
     "output_type": "execute_result"
    }
   ],
   "source": [
    "Person"
   ]
  },
  {
   "cell_type": "code",
   "execution_count": 58,
   "id": "bf8807ed",
   "metadata": {},
   "outputs": [
    {
     "data": {
      "text/plain": [
       "'__main__'"
      ]
     },
     "execution_count": 58,
     "metadata": {},
     "output_type": "execute_result"
    }
   ],
   "source": [
    "__name__"
   ]
  },
  {
   "cell_type": "code",
   "execution_count": 59,
   "id": "9f399e0b",
   "metadata": {},
   "outputs": [
    {
     "data": {
      "text/plain": [
       "False"
      ]
     },
     "execution_count": 59,
     "metadata": {},
     "output_type": "execute_result"
    }
   ],
   "source": [
    "id(p1) == id(Person)"
   ]
  },
  {
   "cell_type": "code",
   "execution_count": 60,
   "id": "ba8e9254",
   "metadata": {},
   "outputs": [
    {
     "data": {
      "text/plain": [
       "True"
      ]
     },
     "execution_count": 60,
     "metadata": {},
     "output_type": "execute_result"
    }
   ],
   "source": [
    "id(p1.height) == id(Person.height)"
   ]
  },
  {
   "cell_type": "code",
   "execution_count": 61,
   "id": "5868e95d",
   "metadata": {},
   "outputs": [
    {
     "data": {
      "text/plain": [
       "(5.5, 5.5)"
      ]
     },
     "execution_count": 61,
     "metadata": {},
     "output_type": "execute_result"
    }
   ],
   "source": [
    "p1.height, Person.height"
   ]
  },
  {
   "cell_type": "code",
   "execution_count": 62,
   "id": "3c29173b",
   "metadata": {},
   "outputs": [],
   "source": [
    "class Student:\n",
    "    roll_number = []"
   ]
  },
  {
   "cell_type": "code",
   "execution_count": 63,
   "id": "ab008187",
   "metadata": {},
   "outputs": [],
   "source": [
    "s1 = Student()"
   ]
  },
  {
   "cell_type": "code",
   "execution_count": 64,
   "id": "86a6f6c9",
   "metadata": {},
   "outputs": [],
   "source": [
    "s2 = Student()"
   ]
  },
  {
   "cell_type": "code",
   "execution_count": 65,
   "id": "8bc8c9d6",
   "metadata": {},
   "outputs": [
    {
     "data": {
      "text/plain": [
       "True"
      ]
     },
     "execution_count": 65,
     "metadata": {},
     "output_type": "execute_result"
    }
   ],
   "source": [
    "id(s1.roll_number) == id(s2.roll_number)"
   ]
  },
  {
   "cell_type": "code",
   "execution_count": 66,
   "id": "8dde90ff",
   "metadata": {},
   "outputs": [
    {
     "name": "stdout",
     "output_type": "stream",
     "text": [
      "140708919679104 140708919679104 140708919679104\n",
      "2029835686896 140708919679104 140708919679104\n"
     ]
    }
   ],
   "source": [
    "print(id(p1.gender), id(p2.gender), id(Person.gender))\n",
    "p1.gender = 'M'\n",
    "print(id(p1.gender), id(p2.gender), id(Person.gender))"
   ]
  },
  {
   "cell_type": "code",
   "execution_count": 108,
   "id": "ec3ae4c9",
   "metadata": {},
   "outputs": [],
   "source": [
    "class Person:\n",
    "    gender = None\n",
    "    height = 5.5\n",
    "    name = 'one'\n",
    "    \n",
    "    def greeting(self):\n",
    "        print(f'Hi my name is {self.name}, my gender is {self.gender}, my height is {self.height}')"
   ]
  },
  {
   "cell_type": "code",
   "execution_count": 109,
   "id": "67cc6e3d",
   "metadata": {},
   "outputs": [],
   "source": [
    "p1 = Person()\n",
    "p2 = Person()"
   ]
  },
  {
   "cell_type": "code",
   "execution_count": 110,
   "id": "5921a01c",
   "metadata": {},
   "outputs": [
    {
     "data": {
      "text/plain": [
       "5.5"
      ]
     },
     "execution_count": 110,
     "metadata": {},
     "output_type": "execute_result"
    }
   ],
   "source": [
    "p1.height"
   ]
  },
  {
   "cell_type": "code",
   "execution_count": 111,
   "id": "213b46e5",
   "metadata": {},
   "outputs": [
    {
     "name": "stdout",
     "output_type": "stream",
     "text": [
      "Hi my name is one, my gender is None, my height is 5.5\n"
     ]
    }
   ],
   "source": [
    "p1.greeting()"
   ]
  },
  {
   "cell_type": "code",
   "execution_count": 112,
   "id": "b8384baa",
   "metadata": {},
   "outputs": [
    {
     "data": {
      "text/plain": [
       "__main__.Person"
      ]
     },
     "execution_count": 112,
     "metadata": {},
     "output_type": "execute_result"
    }
   ],
   "source": [
    "Person"
   ]
  },
  {
   "cell_type": "code",
   "execution_count": 113,
   "id": "9f8ca34a",
   "metadata": {},
   "outputs": [],
   "source": [
    "p1.gender = 'F'\n",
    "p2.gender = 'M'"
   ]
  },
  {
   "cell_type": "code",
   "execution_count": 115,
   "id": "c2a66485",
   "metadata": {},
   "outputs": [
    {
     "name": "stdout",
     "output_type": "stream",
     "text": [
      "Hi my name is one, my gender is M, my height is 5.5\n"
     ]
    }
   ],
   "source": [
    "p2.greeting()"
   ]
  },
  {
   "cell_type": "code",
   "execution_count": 116,
   "id": "c8f5f2a1",
   "metadata": {},
   "outputs": [],
   "source": [
    "class Person:\n",
    "    gender = None\n",
    "    height = 5.5\n",
    "    name = 'one'\n",
    "    \n",
    "    def greeting(self):\n",
    "        print(f'Hi my name is {self.name}, my gender is {self.gender}, my height is {self.height}')\n",
    "    \n",
    "    def update_attribute(self, name, gender, height):\n",
    "        self.name = name\n",
    "        self.gender = gender\n",
    "        self.height = height"
   ]
  },
  {
   "cell_type": "code",
   "execution_count": 117,
   "id": "08296b35",
   "metadata": {},
   "outputs": [
    {
     "name": "stdout",
     "output_type": "stream",
     "text": [
      "Hi my name is Abhijeet, my gender is M, my height is 5.8\n"
     ]
    }
   ],
   "source": [
    "p1 = Person()\n",
    "\n",
    "p1.update_attribute('Abhijeet', 'M', 5.8)\n",
    "\n",
    "p1.greeting()"
   ]
  },
  {
   "cell_type": "code",
   "execution_count": 119,
   "id": "e4120c85",
   "metadata": {},
   "outputs": [
    {
     "data": {
      "text/plain": [
       "5.8"
      ]
     },
     "execution_count": 119,
     "metadata": {},
     "output_type": "execute_result"
    }
   ],
   "source": [
    "p1.height"
   ]
  },
  {
   "cell_type": "code",
   "execution_count": 126,
   "id": "a8494709",
   "metadata": {},
   "outputs": [],
   "source": [
    "p2 = Person()"
   ]
  },
  {
   "cell_type": "code",
   "execution_count": 125,
   "id": "17b55187",
   "metadata": {},
   "outputs": [
    {
     "name": "stdout",
     "output_type": "stream",
     "text": [
      "one\n"
     ]
    }
   ],
   "source": [
    "print(p2.name)"
   ]
  },
  {
   "cell_type": "code",
   "execution_count": 139,
   "id": "702988df",
   "metadata": {},
   "outputs": [],
   "source": [
    "class Person:\n",
    "    \n",
    "    living = True\n",
    "    \n",
    "    def __init__(self, name, gender, height):\n",
    "        self.name = name\n",
    "        self.height = height\n",
    "        self.gender = gender\n",
    "        print('Chal pada')\n",
    "    \n",
    "    def greeting(self):\n",
    "        print(f'Hi my name is {self.name}, my gender is {self.gender}, my height is {self.height}, living: {self.living}')"
   ]
  },
  {
   "cell_type": "code",
   "execution_count": 140,
   "id": "ed1eadf5",
   "metadata": {},
   "outputs": [
    {
     "name": "stdout",
     "output_type": "stream",
     "text": [
      "Chal pada\n",
      "Hi my name is Abhijeet, my gender is M, my height is 5.8, living: True\n"
     ]
    }
   ],
   "source": [
    "p1 = Person('Abhijeet', 'M', 5.8)\n",
    "p1.greeting()"
   ]
  },
  {
   "cell_type": "code",
   "execution_count": 141,
   "id": "0cb777ba",
   "metadata": {},
   "outputs": [
    {
     "name": "stdout",
     "output_type": "stream",
     "text": [
      "Chal pada\n",
      "Hi my name is Sarvesh, my gender is M, my height is 5.1, living: True\n"
     ]
    }
   ],
   "source": [
    "p2 = Person('Sarvesh', 'M', 5.10)\n",
    "p2.greeting()"
   ]
  },
  {
   "cell_type": "code",
   "execution_count": 145,
   "id": "2ffffa01",
   "metadata": {},
   "outputs": [
    {
     "data": {
      "text/plain": [
       "True"
      ]
     },
     "execution_count": 145,
     "metadata": {},
     "output_type": "execute_result"
    }
   ],
   "source": [
    "id(p1.gender) == id(p2.gender)"
   ]
  },
  {
   "cell_type": "code",
   "execution_count": 168,
   "id": "e78134df",
   "metadata": {},
   "outputs": [],
   "source": [
    "class Temp:\n",
    "    \n",
    "    class_attribute = 1\n",
    "    \n",
    "    def __init__(self, number):\n",
    "        self.instance_attribute = number"
   ]
  },
  {
   "cell_type": "code",
   "execution_count": 169,
   "id": "3db21504",
   "metadata": {},
   "outputs": [
    {
     "name": "stdout",
     "output_type": "stream",
     "text": [
      "1 1 1\n"
     ]
    }
   ],
   "source": [
    "obj1 = Temp(10)\n",
    "obj2 = Temp(20)\n",
    "print(obj1.class_attribute, Temp.class_attribute, obj2.class_attribute)"
   ]
  },
  {
   "cell_type": "code",
   "execution_count": 170,
   "id": "9f874bcf",
   "metadata": {},
   "outputs": [
    {
     "name": "stdout",
     "output_type": "stream",
     "text": [
      "140708919908112 140708919908112 140708919908112\n"
     ]
    }
   ],
   "source": [
    "print(id(obj1.class_attribute), id(Temp.class_attribute), id(obj2.class_attribute))"
   ]
  },
  {
   "cell_type": "code",
   "execution_count": 160,
   "id": "e6ba4e31",
   "metadata": {},
   "outputs": [],
   "source": [
    "obj1.class_attribute = 40"
   ]
  },
  {
   "cell_type": "code",
   "execution_count": 161,
   "id": "52ce54ee",
   "metadata": {},
   "outputs": [
    {
     "name": "stdout",
     "output_type": "stream",
     "text": [
      "140708919909360 140708919908112 140708919908112\n"
     ]
    }
   ],
   "source": [
    "print(id(obj1.class_attribute), id(Temp.class_attribute), id(obj2.class_attribute))"
   ]
  },
  {
   "cell_type": "code",
   "execution_count": 162,
   "id": "6411554e",
   "metadata": {},
   "outputs": [
    {
     "name": "stdout",
     "output_type": "stream",
     "text": [
      "40 1 1\n"
     ]
    }
   ],
   "source": [
    "print(obj1.class_attribute, Temp.class_attribute, obj2.class_attribute)"
   ]
  },
  {
   "cell_type": "code",
   "execution_count": 171,
   "id": "36e9ed13",
   "metadata": {},
   "outputs": [],
   "source": [
    "class Temp:\n",
    "    \n",
    "    class_attribute = []\n",
    "    \n",
    "    def __init__(self, number):\n",
    "        self.instance_attribute = number"
   ]
  },
  {
   "cell_type": "code",
   "execution_count": 172,
   "id": "675b9dbb",
   "metadata": {},
   "outputs": [
    {
     "name": "stdout",
     "output_type": "stream",
     "text": [
      "[] [] []\n",
      "2029917382848 2029917382848 2029917382848\n"
     ]
    }
   ],
   "source": [
    "obj1 = Temp(10)\n",
    "obj2 = Temp(20)\n",
    "print(obj1.class_attribute, Temp.class_attribute, obj2.class_attribute)\n",
    "print(id(obj1.class_attribute), id(Temp.class_attribute), id(obj2.class_attribute))"
   ]
  },
  {
   "cell_type": "code",
   "execution_count": 173,
   "id": "240fac48",
   "metadata": {},
   "outputs": [],
   "source": [
    "obj1.class_attribute.append(99)"
   ]
  },
  {
   "cell_type": "code",
   "execution_count": 174,
   "id": "15394e15",
   "metadata": {},
   "outputs": [
    {
     "name": "stdout",
     "output_type": "stream",
     "text": [
      "2029917382848 2029917382848 2029917382848\n"
     ]
    }
   ],
   "source": [
    "print(id(obj1.class_attribute), id(Temp.class_attribute), id(obj2.class_attribute))"
   ]
  },
  {
   "cell_type": "code",
   "execution_count": 175,
   "id": "e6094d27",
   "metadata": {},
   "outputs": [
    {
     "name": "stdout",
     "output_type": "stream",
     "text": [
      "[99] [99] [99]\n"
     ]
    }
   ],
   "source": [
    "print(obj1.class_attribute, Temp.class_attribute, obj2.class_attribute)"
   ]
  },
  {
   "cell_type": "code",
   "execution_count": null,
   "id": "88fab8c8",
   "metadata": {},
   "outputs": [],
   "source": []
  }
 ],
 "metadata": {
  "kernelspec": {
   "display_name": "Python 3 (ipykernel)",
   "language": "python",
   "name": "python3"
  },
  "language_info": {
   "codemirror_mode": {
    "name": "ipython",
    "version": 3
   },
   "file_extension": ".py",
   "mimetype": "text/x-python",
   "name": "python",
   "nbconvert_exporter": "python",
   "pygments_lexer": "ipython3",
   "version": "3.8.10"
  }
 },
 "nbformat": 4,
 "nbformat_minor": 5
}
