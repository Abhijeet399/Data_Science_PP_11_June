{
 "cells": [
  {
   "cell_type": "code",
   "execution_count": 1,
   "id": "a6868e27",
   "metadata": {},
   "outputs": [],
   "source": [
    "a = ['4',-5, True, 0.003]"
   ]
  },
  {
   "cell_type": "code",
   "execution_count": 2,
   "id": "65d954c1",
   "metadata": {},
   "outputs": [],
   "source": [
    "# a[-1]()"
   ]
  },
  {
   "cell_type": "code",
   "execution_count": 3,
   "id": "982cc022",
   "metadata": {},
   "outputs": [],
   "source": [
    "def adder(a, b):\n",
    "    print(a+b)"
   ]
  },
  {
   "cell_type": "code",
   "execution_count": 4,
   "id": "aa302484",
   "metadata": {},
   "outputs": [
    {
     "name": "stdout",
     "output_type": "stream",
     "text": [
      "3\n"
     ]
    }
   ],
   "source": [
    "adder(1, 2)"
   ]
  },
  {
   "cell_type": "code",
   "execution_count": 5,
   "id": "954bced2",
   "metadata": {},
   "outputs": [
    {
     "name": "stdout",
     "output_type": "stream",
     "text": [
      "<class 'list'>\n"
     ]
    }
   ],
   "source": [
    "print(type(a))"
   ]
  },
  {
   "cell_type": "code",
   "execution_count": 6,
   "id": "4ba72522",
   "metadata": {},
   "outputs": [
    {
     "name": "stdout",
     "output_type": "stream",
     "text": [
      "<class 'int'>\n"
     ]
    }
   ],
   "source": [
    "var = 33\n",
    "print(type(var))"
   ]
  },
  {
   "cell_type": "code",
   "execution_count": 7,
   "id": "0642a1c7",
   "metadata": {},
   "outputs": [
    {
     "data": {
      "text/plain": [
       "True"
      ]
     },
     "execution_count": 7,
     "metadata": {},
     "output_type": "execute_result"
    }
   ],
   "source": [
    "isinstance(print, object)"
   ]
  },
  {
   "cell_type": "code",
   "execution_count": 8,
   "id": "f14f153c",
   "metadata": {},
   "outputs": [
    {
     "name": "stdout",
     "output_type": "stream",
     "text": [
      "<class 'int'>\n"
     ]
    }
   ],
   "source": [
    "print(type(int('22')))"
   ]
  },
  {
   "cell_type": "code",
   "execution_count": 9,
   "id": "86fffc03",
   "metadata": {},
   "outputs": [],
   "source": [
    "class Student:\n",
    "    \n",
    "    course = 'Data_Science'\n",
    "    mentor = 'Abhijeet'\n",
    "    institute = 'Coding_Blocks'\n",
    "#     total_students = 40"
   ]
  },
  {
   "cell_type": "code",
   "execution_count": 10,
   "id": "21e47209",
   "metadata": {},
   "outputs": [
    {
     "data": {
      "text/plain": [
       "'0x124889e23c0'"
      ]
     },
     "execution_count": 10,
     "metadata": {},
     "output_type": "execute_result"
    }
   ],
   "source": [
    "hex(id(Student))"
   ]
  },
  {
   "cell_type": "code",
   "execution_count": 11,
   "id": "6189a02e",
   "metadata": {},
   "outputs": [
    {
     "data": {
      "text/plain": [
       "'Coding_Blocks'"
      ]
     },
     "execution_count": 11,
     "metadata": {},
     "output_type": "execute_result"
    }
   ],
   "source": [
    "Student.institute"
   ]
  },
  {
   "cell_type": "code",
   "execution_count": 12,
   "id": "624eb848",
   "metadata": {},
   "outputs": [],
   "source": [
    "# Student.total_students"
   ]
  },
  {
   "cell_type": "code",
   "execution_count": 13,
   "id": "e77b8f5c",
   "metadata": {},
   "outputs": [],
   "source": [
    "student1 = Student()"
   ]
  },
  {
   "cell_type": "code",
   "execution_count": 14,
   "id": "3acbb9cf",
   "metadata": {},
   "outputs": [
    {
     "data": {
      "text/plain": [
       "True"
      ]
     },
     "execution_count": 14,
     "metadata": {},
     "output_type": "execute_result"
    }
   ],
   "source": [
    "isinstance(student1, object)"
   ]
  },
  {
   "cell_type": "code",
   "execution_count": 15,
   "id": "9f11a8b4",
   "metadata": {},
   "outputs": [
    {
     "name": "stdout",
     "output_type": "stream",
     "text": [
      "Abhijeet Data_Science Coding_Blocks\n"
     ]
    }
   ],
   "source": [
    "print(student1.mentor, student1.course, student1.institute)"
   ]
  },
  {
   "cell_type": "code",
   "execution_count": 16,
   "id": "a2cb5608",
   "metadata": {},
   "outputs": [],
   "source": [
    "student2 = Student()"
   ]
  },
  {
   "cell_type": "code",
   "execution_count": 17,
   "id": "1d917e1f",
   "metadata": {},
   "outputs": [
    {
     "name": "stdout",
     "output_type": "stream",
     "text": [
      "Abhijeet Data_Science Coding_Blocks\n"
     ]
    }
   ],
   "source": [
    "print(student2.mentor, student2.course, student2.institute)"
   ]
  },
  {
   "cell_type": "code",
   "execution_count": 18,
   "id": "07e9df38",
   "metadata": {},
   "outputs": [
    {
     "data": {
      "text/plain": [
       "False"
      ]
     },
     "execution_count": 18,
     "metadata": {},
     "output_type": "execute_result"
    }
   ],
   "source": [
    "id(student1) == id(student2)"
   ]
  },
  {
   "cell_type": "code",
   "execution_count": 21,
   "id": "f9febcc9",
   "metadata": {},
   "outputs": [
    {
     "data": {
      "text/plain": [
       "False"
      ]
     },
     "execution_count": 21,
     "metadata": {},
     "output_type": "execute_result"
    }
   ],
   "source": [
    "id(student2) == id(Student)"
   ]
  },
  {
   "cell_type": "code",
   "execution_count": 54,
   "id": "b781ce85",
   "metadata": {},
   "outputs": [],
   "source": [
    "class Person:\n",
    "    gender = None\n",
    "    height = 5.5\n",
    "    name = None"
   ]
  },
  {
   "cell_type": "code",
   "execution_count": 55,
   "id": "5e56e959",
   "metadata": {},
   "outputs": [],
   "source": [
    "p1 = Person()\n",
    "p2 = Person()"
   ]
  },
  {
   "cell_type": "code",
   "execution_count": 56,
   "id": "37c6be7e",
   "metadata": {},
   "outputs": [
    {
     "data": {
      "text/plain": [
       "(5.5, 5.5)"
      ]
     },
     "execution_count": 56,
     "metadata": {},
     "output_type": "execute_result"
    }
   ],
   "source": [
    "Person.height, p1.height"
   ]
  },
  {
   "cell_type": "code",
   "execution_count": 57,
   "id": "78d09204",
   "metadata": {},
   "outputs": [
    {
     "data": {
      "text/plain": [
       "__main__.Person"
      ]
     },
     "execution_count": 57,
     "metadata": {},
     "output_type": "execute_result"
    }
   ],
   "source": [
    "Person"
   ]
  },
  {
   "cell_type": "code",
   "execution_count": 58,
   "id": "bf8807ed",
   "metadata": {},
   "outputs": [
    {
     "data": {
      "text/plain": [
       "'__main__'"
      ]
     },
     "execution_count": 58,
     "metadata": {},
     "output_type": "execute_result"
    }
   ],
   "source": [
    "__name__"
   ]
  },
  {
   "cell_type": "code",
   "execution_count": 59,
   "id": "9f399e0b",
   "metadata": {},
   "outputs": [
    {
     "data": {
      "text/plain": [
       "False"
      ]
     },
     "execution_count": 59,
     "metadata": {},
     "output_type": "execute_result"
    }
   ],
   "source": [
    "id(p1) == id(Person)"
   ]
  },
  {
   "cell_type": "code",
   "execution_count": 60,
   "id": "ba8e9254",
   "metadata": {},
   "outputs": [
    {
     "data": {
      "text/plain": [
       "True"
      ]
     },
     "execution_count": 60,
     "metadata": {},
     "output_type": "execute_result"
    }
   ],
   "source": [
    "id(p1.height) == id(Person.height)"
   ]
  },
  {
   "cell_type": "code",
   "execution_count": 61,
   "id": "5868e95d",
   "metadata": {},
   "outputs": [
    {
     "data": {
      "text/plain": [
       "(5.5, 5.5)"
      ]
     },
     "execution_count": 61,
     "metadata": {},
     "output_type": "execute_result"
    }
   ],
   "source": [
    "p1.height, Person.height"
   ]
  },
  {
   "cell_type": "code",
   "execution_count": 62,
   "id": "3c29173b",
   "metadata": {},
   "outputs": [],
   "source": [
    "class Student:\n",
    "    roll_number = []"
   ]
  },
  {
   "cell_type": "code",
   "execution_count": 63,
   "id": "ab008187",
   "metadata": {},
   "outputs": [],
   "source": [
    "s1 = Student()"
   ]
  },
  {
   "cell_type": "code",
   "execution_count": 64,
   "id": "86a6f6c9",
   "metadata": {},
   "outputs": [],
   "source": [
    "s2 = Student()"
   ]
  },
  {
   "cell_type": "code",
   "execution_count": 65,
   "id": "8bc8c9d6",
   "metadata": {},
   "outputs": [
    {
     "data": {
      "text/plain": [
       "True"
      ]
     },
     "execution_count": 65,
     "metadata": {},
     "output_type": "execute_result"
    }
   ],
   "source": [
    "id(s1.roll_number) == id(s2.roll_number)"
   ]
  },
  {
   "cell_type": "code",
   "execution_count": 66,
   "id": "8dde90ff",
   "metadata": {},
   "outputs": [
    {
     "name": "stdout",
     "output_type": "stream",
     "text": [
      "140708919679104 140708919679104 140708919679104\n",
      "2029835686896 140708919679104 140708919679104\n"
     ]
    }
   ],
   "source": [
    "print(id(p1.gender), id(p2.gender), id(Person.gender))\n",
    "p1.gender = 'M'\n",
    "print(id(p1.gender), id(p2.gender), id(Person.gender))"
   ]
  },
  {
   "cell_type": "code",
   "execution_count": 108,
   "id": "ec3ae4c9",
   "metadata": {},
   "outputs": [],
   "source": [
    "class Person:\n",
    "    gender = None\n",
    "    height = 5.5\n",
    "    name = 'one'\n",
    "    \n",
    "    def greeting(self):\n",
    "        print(f'Hi my name is {self.name}, my gender is {self.gender}, my height is {self.height}')"
   ]
  },
  {
   "cell_type": "code",
   "execution_count": 109,
   "id": "67cc6e3d",
   "metadata": {},
   "outputs": [],
   "source": [
    "p1 = Person()\n",
    "p2 = Person()"
   ]
  },
  {
   "cell_type": "code",
   "execution_count": 110,
   "id": "5921a01c",
   "metadata": {},
   "outputs": [
    {
     "data": {
      "text/plain": [
       "5.5"
      ]
     },
     "execution_count": 110,
     "metadata": {},
     "output_type": "execute_result"
    }
   ],
   "source": [
    "p1.height"
   ]
  },
  {
   "cell_type": "code",
   "execution_count": 111,
   "id": "213b46e5",
   "metadata": {},
   "outputs": [
    {
     "name": "stdout",
     "output_type": "stream",
     "text": [
      "Hi my name is one, my gender is None, my height is 5.5\n"
     ]
    }
   ],
   "source": [
    "p1.greeting()"
   ]
  },
  {
   "cell_type": "code",
   "execution_count": 112,
   "id": "b8384baa",
   "metadata": {},
   "outputs": [
    {
     "data": {
      "text/plain": [
       "__main__.Person"
      ]
     },
     "execution_count": 112,
     "metadata": {},
     "output_type": "execute_result"
    }
   ],
   "source": [
    "Person"
   ]
  },
  {
   "cell_type": "code",
   "execution_count": 113,
   "id": "9f8ca34a",
   "metadata": {},
   "outputs": [],
   "source": [
    "p1.gender = 'F'\n",
    "p2.gender = 'M'"
   ]
  },
  {
   "cell_type": "code",
   "execution_count": 115,
   "id": "c2a66485",
   "metadata": {},
   "outputs": [
    {
     "name": "stdout",
     "output_type": "stream",
     "text": [
      "Hi my name is one, my gender is M, my height is 5.5\n"
     ]
    }
   ],
   "source": [
    "p2.greeting()"
   ]
  },
  {
   "cell_type": "code",
   "execution_count": 116,
   "id": "c8f5f2a1",
   "metadata": {},
   "outputs": [],
   "source": [
    "class Person:\n",
    "    gender = None\n",
    "    height = 5.5\n",
    "    name = 'one'\n",
    "    \n",
    "    def greeting(self):\n",
    "        print(f'Hi my name is {self.name}, my gender is {self.gender}, my height is {self.height}')\n",
    "    \n",
    "    def update_attribute(self, name, gender, height):\n",
    "        self.name = name\n",
    "        self.gender = gender\n",
    "        self.height = height"
   ]
  },
  {
   "cell_type": "code",
   "execution_count": 117,
   "id": "08296b35",
   "metadata": {},
   "outputs": [
    {
     "name": "stdout",
     "output_type": "stream",
     "text": [
      "Hi my name is Abhijeet, my gender is M, my height is 5.8\n"
     ]
    }
   ],
   "source": [
    "p1 = Person()\n",
    "\n",
    "p1.update_attribute('Abhijeet', 'M', 5.8)\n",
    "\n",
    "p1.greeting()"
   ]
  },
  {
   "cell_type": "code",
   "execution_count": 119,
   "id": "e4120c85",
   "metadata": {},
   "outputs": [
    {
     "data": {
      "text/plain": [
       "5.8"
      ]
     },
     "execution_count": 119,
     "metadata": {},
     "output_type": "execute_result"
    }
   ],
   "source": [
    "p1.height"
   ]
  },
  {
   "cell_type": "code",
   "execution_count": 126,
   "id": "a8494709",
   "metadata": {},
   "outputs": [],
   "source": [
    "p2 = Person()"
   ]
  },
  {
   "cell_type": "code",
   "execution_count": 125,
   "id": "17b55187",
   "metadata": {},
   "outputs": [
    {
     "name": "stdout",
     "output_type": "stream",
     "text": [
      "one\n"
     ]
    }
   ],
   "source": [
    "print(p2.name)"
   ]
  },
  {
   "cell_type": "code",
   "execution_count": 139,
   "id": "702988df",
   "metadata": {},
   "outputs": [],
   "source": [
    "class Person:\n",
    "    \n",
    "    living = True\n",
    "    \n",
    "    def __init__(self, name, gender, height):\n",
    "        self.name = name\n",
    "        self.height = height\n",
    "        self.gender = gender\n",
    "        print('Chal pada')\n",
    "    \n",
    "    def greeting(self):\n",
    "        print(f'Hi my name is {self.name}, my gender is {self.gender}, my height is {self.height}, living: {self.living}')"
   ]
  },
  {
   "cell_type": "code",
   "execution_count": 140,
   "id": "ed1eadf5",
   "metadata": {},
   "outputs": [
    {
     "name": "stdout",
     "output_type": "stream",
     "text": [
      "Chal pada\n",
      "Hi my name is Abhijeet, my gender is M, my height is 5.8, living: True\n"
     ]
    }
   ],
   "source": [
    "p1 = Person('Abhijeet', 'M', 5.8)\n",
    "p1.greeting()"
   ]
  },
  {
   "cell_type": "code",
   "execution_count": 141,
   "id": "0cb777ba",
   "metadata": {},
   "outputs": [
    {
     "name": "stdout",
     "output_type": "stream",
     "text": [
      "Chal pada\n",
      "Hi my name is Sarvesh, my gender is M, my height is 5.1, living: True\n"
     ]
    }
   ],
   "source": [
    "p2 = Person('Sarvesh', 'M', 5.10)\n",
    "p2.greeting()"
   ]
  },
  {
   "cell_type": "code",
   "execution_count": 145,
   "id": "2ffffa01",
   "metadata": {},
   "outputs": [
    {
     "data": {
      "text/plain": [
       "True"
      ]
     },
     "execution_count": 145,
     "metadata": {},
     "output_type": "execute_result"
    }
   ],
   "source": [
    "id(p1.gender) == id(p2.gender)"
   ]
  },
  {
   "cell_type": "code",
   "execution_count": 168,
   "id": "e78134df",
   "metadata": {},
   "outputs": [],
   "source": [
    "class Temp:\n",
    "    \n",
    "    class_attribute = 1\n",
    "    \n",
    "    def __init__(self, number):\n",
    "        self.instance_attribute = number"
   ]
  },
  {
   "cell_type": "code",
   "execution_count": 169,
   "id": "3db21504",
   "metadata": {},
   "outputs": [
    {
     "name": "stdout",
     "output_type": "stream",
     "text": [
      "1 1 1\n"
     ]
    }
   ],
   "source": [
    "obj1 = Temp(10)\n",
    "obj2 = Temp(20)\n",
    "print(obj1.class_attribute, Temp.class_attribute, obj2.class_attribute)"
   ]
  },
  {
   "cell_type": "code",
   "execution_count": 170,
   "id": "9f874bcf",
   "metadata": {},
   "outputs": [
    {
     "name": "stdout",
     "output_type": "stream",
     "text": [
      "140708919908112 140708919908112 140708919908112\n"
     ]
    }
   ],
   "source": [
    "print(id(obj1.class_attribute), id(Temp.class_attribute), id(obj2.class_attribute))"
   ]
  },
  {
   "cell_type": "code",
   "execution_count": 160,
   "id": "e6ba4e31",
   "metadata": {},
   "outputs": [],
   "source": [
    "obj1.class_attribute = 40"
   ]
  },
  {
   "cell_type": "code",
   "execution_count": 161,
   "id": "52ce54ee",
   "metadata": {},
   "outputs": [
    {
     "name": "stdout",
     "output_type": "stream",
     "text": [
      "140708919909360 140708919908112 140708919908112\n"
     ]
    }
   ],
   "source": [
    "print(id(obj1.class_attribute), id(Temp.class_attribute), id(obj2.class_attribute))"
   ]
  },
  {
   "cell_type": "code",
   "execution_count": 162,
   "id": "6411554e",
   "metadata": {},
   "outputs": [
    {
     "name": "stdout",
     "output_type": "stream",
     "text": [
      "40 1 1\n"
     ]
    }
   ],
   "source": [
    "print(obj1.class_attribute, Temp.class_attribute, obj2.class_attribute)"
   ]
  },
  {
   "cell_type": "code",
   "execution_count": 171,
   "id": "36e9ed13",
   "metadata": {},
   "outputs": [],
   "source": [
    "class Temp:\n",
    "    \n",
    "    class_attribute = []\n",
    "    \n",
    "    def __init__(self, number):\n",
    "        self.instance_attribute = number"
   ]
  },
  {
   "cell_type": "code",
   "execution_count": 172,
   "id": "675b9dbb",
   "metadata": {},
   "outputs": [
    {
     "name": "stdout",
     "output_type": "stream",
     "text": [
      "[] [] []\n",
      "2029917382848 2029917382848 2029917382848\n"
     ]
    }
   ],
   "source": [
    "obj1 = Temp(10)\n",
    "obj2 = Temp(20)\n",
    "print(obj1.class_attribute, Temp.class_attribute, obj2.class_attribute)\n",
    "print(id(obj1.class_attribute), id(Temp.class_attribute), id(obj2.class_attribute))"
   ]
  },
  {
   "cell_type": "code",
   "execution_count": 173,
   "id": "240fac48",
   "metadata": {},
   "outputs": [],
   "source": [
    "obj1.class_attribute.append(99)"
   ]
  },
  {
   "cell_type": "code",
   "execution_count": 174,
   "id": "15394e15",
   "metadata": {
    "scrolled": true
   },
   "outputs": [
    {
     "name": "stdout",
     "output_type": "stream",
     "text": [
      "2029917382848 2029917382848 2029917382848\n"
     ]
    }
   ],
   "source": [
    "print(id(obj1.class_attribute), id(Temp.class_attribute), id(obj2.class_attribute))"
   ]
  },
  {
   "cell_type": "code",
   "execution_count": 175,
   "id": "e6094d27",
   "metadata": {},
   "outputs": [
    {
     "name": "stdout",
     "output_type": "stream",
     "text": [
      "[99] [99] [99]\n"
     ]
    }
   ],
   "source": [
    "print(obj1.class_attribute, Temp.class_attribute, obj2.class_attribute)"
   ]
  },
  {
   "cell_type": "code",
   "execution_count": 127,
   "id": "5d156de5",
   "metadata": {},
   "outputs": [],
   "source": [
    "class Dog:\n",
    "#     total_trick = []\n",
    "    \n",
    "#     def __init__(self, name, breed, tricks = []):\n",
    "    def __init__(self, name, breed):\n",
    "        self.name = name\n",
    "        self.breed = breed\n",
    "        self.total_trick = []\n",
    "    \n",
    "    def update_trick(self, trick):\n",
    "        self.total_trick.append(trick)\n",
    "    \n",
    "    def details(self, trick):\n",
    "        self.update_trick(trick)\n",
    "        print(f'Name: {self.name}, Breed: {self.breed}, Total tricks learned: {self.total_trick}')"
   ]
  },
  {
   "cell_type": "code",
   "execution_count": 128,
   "id": "43a520b3",
   "metadata": {},
   "outputs": [],
   "source": [
    "# dog1 = Dog('toffee', 'desi', [])\n",
    "# dog2 = Dog('shiro', 'labra')"
   ]
  },
  {
   "cell_type": "code",
   "execution_count": 129,
   "id": "64c49eb9",
   "metadata": {},
   "outputs": [],
   "source": [
    "dog1 = Dog('toffee', 'desi')\n",
    "dog2 = Dog('shiro', 'labra')"
   ]
  },
  {
   "cell_type": "code",
   "execution_count": 130,
   "id": "2258a6cc",
   "metadata": {},
   "outputs": [],
   "source": [
    "dog1.update_trick('sit')"
   ]
  },
  {
   "cell_type": "code",
   "execution_count": 131,
   "id": "5550b1ea",
   "metadata": {},
   "outputs": [],
   "source": [
    "dog1.update_trick('stand')"
   ]
  },
  {
   "cell_type": "code",
   "execution_count": 132,
   "id": "8c51ba5d",
   "metadata": {},
   "outputs": [],
   "source": [
    "dog2.update_trick('fetch')"
   ]
  },
  {
   "cell_type": "code",
   "execution_count": 133,
   "id": "ef911f10",
   "metadata": {},
   "outputs": [
    {
     "data": {
      "text/plain": [
       "(['sit', 'stand'], ['fetch'])"
      ]
     },
     "execution_count": 133,
     "metadata": {},
     "output_type": "execute_result"
    }
   ],
   "source": [
    "dog1.total_trick, dog2.total_trick"
   ]
  },
  {
   "cell_type": "code",
   "execution_count": 134,
   "id": "75314b7e",
   "metadata": {},
   "outputs": [
    {
     "name": "stdout",
     "output_type": "stream",
     "text": [
      "Name: toffee, Breed: desi, Total tricks learned: ['sit', 'stand', 'dance']\n"
     ]
    }
   ],
   "source": [
    "dog1.details('dance')"
   ]
  },
  {
   "cell_type": "code",
   "execution_count": 146,
   "id": "82d90560",
   "metadata": {},
   "outputs": [
    {
     "data": {
      "text/plain": [
       "'Sheru'"
      ]
     },
     "execution_count": 146,
     "metadata": {},
     "output_type": "execute_result"
    }
   ],
   "source": [
    "id(dog1.total_trick), id(dog2.total_trick)\n",
    "dog1.name = 'Sheru'\n",
    "dog1.name"
   ]
  },
  {
   "cell_type": "code",
   "execution_count": 122,
   "id": "84fb4efd",
   "metadata": {},
   "outputs": [],
   "source": [
    "def temp(a, b = 0):\n",
    "    print(a, b)"
   ]
  },
  {
   "cell_type": "code",
   "execution_count": 123,
   "id": "442ebaa6",
   "metadata": {},
   "outputs": [
    {
     "name": "stdout",
     "output_type": "stream",
     "text": [
      "10 20\n",
      "99 20\n"
     ]
    }
   ],
   "source": [
    "temp(10, 20)\n",
    "temp(99, 20)"
   ]
  },
  {
   "cell_type": "code",
   "execution_count": 275,
   "id": "810dc54c",
   "metadata": {},
   "outputs": [],
   "source": [
    "class Abhijeet:\n",
    "    \n",
    "    def __init__(self, name, password):\n",
    "        self.__google_pass = password\n",
    "        self._email = 'aabcc@gmail.com'\n",
    "        self.name = name\n",
    "        self.height = 5.5\n",
    "    \n",
    "    def change_mail(self, mail):\n",
    "        self._email = mail\n",
    "    \n",
    "    def see_pass(self, authen):\n",
    "        if authen == True:\n",
    "            print(self.__google_pass)\n",
    "            return self.__google_pass\n",
    "        else:\n",
    "            return 'Authentication failed'\n",
    "            \n",
    "    def change_pass(self, authen, new_password):\n",
    "        if authen == 'Abhijeet':\n",
    "            self.__google_pass = new_password\n",
    "            print('Pssword updated')\n",
    "        else:\n",
    "            print('Authentication failed')\n",
    "            \n",
    "    def __authentication(self):\n",
    "        self.authen = 'Hello'"
   ]
  },
  {
   "cell_type": "code",
   "execution_count": 276,
   "id": "fd90b21e",
   "metadata": {},
   "outputs": [],
   "source": [
    "a1 = Abhijeet('Abhijeet', '111')"
   ]
  },
  {
   "cell_type": "code",
   "execution_count": 277,
   "id": "aa959630",
   "metadata": {},
   "outputs": [
    {
     "name": "stdout",
     "output_type": "stream",
     "text": [
      "Pssword updated\n"
     ]
    }
   ],
   "source": [
    "# a1.__google_pass\n",
    "a1.change_pass('Abhijeet', 123)"
   ]
  },
  {
   "cell_type": "code",
   "execution_count": 278,
   "id": "7d8efe10",
   "metadata": {},
   "outputs": [
    {
     "name": "stdout",
     "output_type": "stream",
     "text": [
      "123\n",
      "123\n"
     ]
    }
   ],
   "source": [
    "print(a1.see_pass(True))"
   ]
  },
  {
   "cell_type": "code",
   "execution_count": 279,
   "id": "122b8bf3",
   "metadata": {},
   "outputs": [
    {
     "data": {
      "text/plain": [
       "'aabcc@gmail.com'"
      ]
     },
     "execution_count": 279,
     "metadata": {},
     "output_type": "execute_result"
    }
   ],
   "source": [
    "a1._email"
   ]
  },
  {
   "cell_type": "code",
   "execution_count": 280,
   "id": "39db370e",
   "metadata": {},
   "outputs": [],
   "source": [
    "a1._email = 'abc@gmail.com'"
   ]
  },
  {
   "cell_type": "code",
   "execution_count": 281,
   "id": "75126b16",
   "metadata": {},
   "outputs": [
    {
     "data": {
      "text/plain": [
       "'abc@gmail.com'"
      ]
     },
     "execution_count": 281,
     "metadata": {},
     "output_type": "execute_result"
    }
   ],
   "source": [
    "a1._email"
   ]
  },
  {
   "cell_type": "code",
   "execution_count": 282,
   "id": "1b312ac1",
   "metadata": {},
   "outputs": [
    {
     "ename": "AttributeError",
     "evalue": "'Abhijeet' object has no attribute '__authentication'",
     "output_type": "error",
     "traceback": [
      "\u001b[1;31m---------------------------------------------------------------------------\u001b[0m",
      "\u001b[1;31mAttributeError\u001b[0m                            Traceback (most recent call last)",
      "Cell \u001b[1;32mIn[282], line 1\u001b[0m\n\u001b[1;32m----> 1\u001b[0m \u001b[43ma1\u001b[49m\u001b[38;5;241;43m.\u001b[39;49m\u001b[43m__authentication\u001b[49m()\n",
      "\u001b[1;31mAttributeError\u001b[0m: 'Abhijeet' object has no attribute '__authentication'"
     ]
    }
   ],
   "source": [
    "a1.__authentication()"
   ]
  },
  {
   "cell_type": "code",
   "execution_count": 283,
   "id": "cc89dfd5",
   "metadata": {},
   "outputs": [
    {
     "data": {
      "text/plain": [
       "'Abhijeet'"
      ]
     },
     "execution_count": 283,
     "metadata": {},
     "output_type": "execute_result"
    }
   ],
   "source": [
    "a1.name"
   ]
  },
  {
   "cell_type": "code",
   "execution_count": 284,
   "id": "7b82a571",
   "metadata": {},
   "outputs": [
    {
     "data": {
      "text/plain": [
       "'Cannot display password'"
      ]
     },
     "execution_count": 284,
     "metadata": {},
     "output_type": "execute_result"
    }
   ],
   "source": [
    "getattr(a1, '__google_pass', 'Cannot display password')"
   ]
  },
  {
   "cell_type": "code",
   "execution_count": 285,
   "id": "f53a2b8e",
   "metadata": {},
   "outputs": [],
   "source": [
    "# getattr?"
   ]
  },
  {
   "cell_type": "code",
   "execution_count": 296,
   "id": "4c4091be",
   "metadata": {},
   "outputs": [],
   "source": [
    "setattr?"
   ]
  },
  {
   "cell_type": "code",
   "execution_count": 301,
   "id": "1ea8a3eb",
   "metadata": {},
   "outputs": [
    {
     "data": {
      "text/plain": [
       "'abc@gmail.com'"
      ]
     },
     "execution_count": 301,
     "metadata": {},
     "output_type": "execute_result"
    }
   ],
   "source": [
    "getattr(a1, '_email')"
   ]
  },
  {
   "cell_type": "code",
   "execution_count": 302,
   "id": "3eac1fc7",
   "metadata": {},
   "outputs": [],
   "source": [
    "setattr(a1, '_email', '508@gmail.com')"
   ]
  },
  {
   "cell_type": "code",
   "execution_count": 304,
   "id": "ccac5023",
   "metadata": {},
   "outputs": [
    {
     "data": {
      "text/plain": [
       "'508@gmail.com'"
      ]
     },
     "execution_count": 304,
     "metadata": {},
     "output_type": "execute_result"
    }
   ],
   "source": [
    "# getattr(a1, 'height')\n",
    "a1._email"
   ]
  },
  {
   "cell_type": "code",
   "execution_count": null,
   "id": "0bd75db7",
   "metadata": {},
   "outputs": [],
   "source": []
  }
 ],
 "metadata": {
  "kernelspec": {
   "display_name": "Python 3 (ipykernel)",
   "language": "python",
   "name": "python3"
  },
  "language_info": {
   "codemirror_mode": {
    "name": "ipython",
    "version": 3
   },
   "file_extension": ".py",
   "mimetype": "text/x-python",
   "name": "python",
   "nbconvert_exporter": "python",
   "pygments_lexer": "ipython3",
   "version": "3.8.10"
  }
 },
 "nbformat": 4,
 "nbformat_minor": 5
}
