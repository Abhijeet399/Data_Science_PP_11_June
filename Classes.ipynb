{
 "cells": [
  {
   "cell_type": "code",
   "execution_count": 1,
   "id": "a6868e27",
   "metadata": {},
   "outputs": [],
   "source": [
    "a = ['4',-5, True, 0.003]"
   ]
  },
  {
   "cell_type": "code",
   "execution_count": 2,
   "id": "65d954c1",
   "metadata": {},
   "outputs": [],
   "source": [
    "# a[-1]()"
   ]
  },
  {
   "cell_type": "code",
   "execution_count": 3,
   "id": "982cc022",
   "metadata": {},
   "outputs": [],
   "source": [
    "def adder(a, b):\n",
    "    print(a+b)"
   ]
  },
  {
   "cell_type": "code",
   "execution_count": 4,
   "id": "aa302484",
   "metadata": {},
   "outputs": [
    {
     "name": "stdout",
     "output_type": "stream",
     "text": [
      "3\n"
     ]
    }
   ],
   "source": [
    "adder(1, 2)"
   ]
  },
  {
   "cell_type": "code",
   "execution_count": 5,
   "id": "954bced2",
   "metadata": {},
   "outputs": [
    {
     "name": "stdout",
     "output_type": "stream",
     "text": [
      "<class 'list'>\n"
     ]
    }
   ],
   "source": [
    "print(type(a))"
   ]
  },
  {
   "cell_type": "code",
   "execution_count": 6,
   "id": "4ba72522",
   "metadata": {},
   "outputs": [
    {
     "name": "stdout",
     "output_type": "stream",
     "text": [
      "<class 'int'>\n"
     ]
    }
   ],
   "source": [
    "var = 33\n",
    "print(type(var))"
   ]
  },
  {
   "cell_type": "code",
   "execution_count": 7,
   "id": "0642a1c7",
   "metadata": {},
   "outputs": [
    {
     "data": {
      "text/plain": [
       "True"
      ]
     },
     "execution_count": 7,
     "metadata": {},
     "output_type": "execute_result"
    }
   ],
   "source": [
    "isinstance(print, object)"
   ]
  },
  {
   "cell_type": "code",
   "execution_count": 8,
   "id": "f14f153c",
   "metadata": {},
   "outputs": [
    {
     "name": "stdout",
     "output_type": "stream",
     "text": [
      "<class 'int'>\n"
     ]
    }
   ],
   "source": [
    "print(type(int('22')))"
   ]
  },
  {
   "cell_type": "code",
   "execution_count": 9,
   "id": "86fffc03",
   "metadata": {},
   "outputs": [],
   "source": [
    "class Student:\n",
    "    \n",
    "    course = 'Data_Science'\n",
    "    mentor = 'Abhijeet'\n",
    "    institute = 'Coding_Blocks'\n",
    "#     total_students = 40"
   ]
  },
  {
   "cell_type": "code",
   "execution_count": 10,
   "id": "21e47209",
   "metadata": {},
   "outputs": [
    {
     "data": {
      "text/plain": [
       "'0x124889e23c0'"
      ]
     },
     "execution_count": 10,
     "metadata": {},
     "output_type": "execute_result"
    }
   ],
   "source": [
    "hex(id(Student))"
   ]
  },
  {
   "cell_type": "code",
   "execution_count": 11,
   "id": "6189a02e",
   "metadata": {},
   "outputs": [
    {
     "data": {
      "text/plain": [
       "'Coding_Blocks'"
      ]
     },
     "execution_count": 11,
     "metadata": {},
     "output_type": "execute_result"
    }
   ],
   "source": [
    "Student.institute"
   ]
  },
  {
   "cell_type": "code",
   "execution_count": 12,
   "id": "624eb848",
   "metadata": {},
   "outputs": [],
   "source": [
    "# Student.total_students"
   ]
  },
  {
   "cell_type": "code",
   "execution_count": 13,
   "id": "e77b8f5c",
   "metadata": {},
   "outputs": [],
   "source": [
    "student1 = Student()"
   ]
  },
  {
   "cell_type": "code",
   "execution_count": 14,
   "id": "3acbb9cf",
   "metadata": {},
   "outputs": [
    {
     "data": {
      "text/plain": [
       "True"
      ]
     },
     "execution_count": 14,
     "metadata": {},
     "output_type": "execute_result"
    }
   ],
   "source": [
    "isinstance(student1, object)"
   ]
  },
  {
   "cell_type": "code",
   "execution_count": 15,
   "id": "9f11a8b4",
   "metadata": {},
   "outputs": [
    {
     "name": "stdout",
     "output_type": "stream",
     "text": [
      "Abhijeet Data_Science Coding_Blocks\n"
     ]
    }
   ],
   "source": [
    "print(student1.mentor, student1.course, student1.institute)"
   ]
  },
  {
   "cell_type": "code",
   "execution_count": 16,
   "id": "a2cb5608",
   "metadata": {},
   "outputs": [],
   "source": [
    "student2 = Student()"
   ]
  },
  {
   "cell_type": "code",
   "execution_count": 17,
   "id": "1d917e1f",
   "metadata": {},
   "outputs": [
    {
     "name": "stdout",
     "output_type": "stream",
     "text": [
      "Abhijeet Data_Science Coding_Blocks\n"
     ]
    }
   ],
   "source": [
    "print(student2.mentor, student2.course, student2.institute)"
   ]
  },
  {
   "cell_type": "code",
   "execution_count": 18,
   "id": "07e9df38",
   "metadata": {},
   "outputs": [
    {
     "data": {
      "text/plain": [
       "False"
      ]
     },
     "execution_count": 18,
     "metadata": {},
     "output_type": "execute_result"
    }
   ],
   "source": [
    "id(student1) == id(student2)"
   ]
  },
  {
   "cell_type": "code",
   "execution_count": 21,
   "id": "f9febcc9",
   "metadata": {},
   "outputs": [
    {
     "data": {
      "text/plain": [
       "False"
      ]
     },
     "execution_count": 21,
     "metadata": {},
     "output_type": "execute_result"
    }
   ],
   "source": [
    "id(student2) == id(Student)"
   ]
  },
  {
   "cell_type": "code",
   "execution_count": null,
   "id": "69f52b9c",
   "metadata": {},
   "outputs": [],
   "source": []
  },
  {
   "cell_type": "code",
   "execution_count": null,
   "id": "26f27888",
   "metadata": {},
   "outputs": [],
   "source": []
  }
 ],
 "metadata": {
  "kernelspec": {
   "display_name": "Python 3 (ipykernel)",
   "language": "python",
   "name": "python3"
  },
  "language_info": {
   "codemirror_mode": {
    "name": "ipython",
    "version": 3
   },
   "file_extension": ".py",
   "mimetype": "text/x-python",
   "name": "python",
   "nbconvert_exporter": "python",
   "pygments_lexer": "ipython3",
   "version": "3.8.10"
  }
 },
 "nbformat": 4,
 "nbformat_minor": 5
}
