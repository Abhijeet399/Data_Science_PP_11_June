{
 "cells": [
  {
   "cell_type": "code",
   "execution_count": 1,
   "id": "2a63a3cc",
   "metadata": {},
   "outputs": [],
   "source": [
    "a = 1"
   ]
  },
  {
   "cell_type": "code",
   "execution_count": 2,
   "id": "28666e31",
   "metadata": {},
   "outputs": [
    {
     "name": "stdout",
     "output_type": "stream",
     "text": [
      "<class 'int'>\n"
     ]
    }
   ],
   "source": [
    "print(type(a))"
   ]
  },
  {
   "cell_type": "code",
   "execution_count": 3,
   "id": "c3ac2e43",
   "metadata": {},
   "outputs": [],
   "source": [
    "def temp():\n",
    "    print(\"Hello world\")\n",
    "    print(1+2)\n",
    "    return 0"
   ]
  },
  {
   "cell_type": "code",
   "execution_count": 4,
   "id": "dd83b7fc",
   "metadata": {},
   "outputs": [
    {
     "name": "stdout",
     "output_type": "stream",
     "text": [
      "Hello world\n",
      "3\n",
      "0\n"
     ]
    }
   ],
   "source": [
    "print(temp())"
   ]
  },
  {
   "cell_type": "code",
   "execution_count": 5,
   "id": "a041df8c",
   "metadata": {},
   "outputs": [
    {
     "name": "stdout",
     "output_type": "stream",
     "text": [
      "<function temp at 0x0000013F7AD4DCA0>\n"
     ]
    }
   ],
   "source": [
    "print(temp)"
   ]
  },
  {
   "cell_type": "code",
   "execution_count": 6,
   "id": "e3478006",
   "metadata": {},
   "outputs": [
    {
     "ename": "TypeError",
     "evalue": "'str' object is not callable",
     "output_type": "error",
     "traceback": [
      "\u001b[1;31m---------------------------------------------------------------------------\u001b[0m",
      "\u001b[1;31mTypeError\u001b[0m                                 Traceback (most recent call last)",
      "Cell \u001b[1;32mIn[6], line 2\u001b[0m\n\u001b[0;32m      1\u001b[0m b \u001b[38;5;241m=\u001b[39m \u001b[38;5;124m'\u001b[39m\u001b[38;5;124mhello\u001b[39m\u001b[38;5;124m'\u001b[39m\n\u001b[1;32m----> 2\u001b[0m \u001b[43mb\u001b[49m\u001b[43m(\u001b[49m\u001b[43m)\u001b[49m\n",
      "\u001b[1;31mTypeError\u001b[0m: 'str' object is not callable"
     ]
    }
   ],
   "source": [
    "b = 'hello'\n",
    "b()"
   ]
  },
  {
   "cell_type": "code",
   "execution_count": 7,
   "id": "8402f658",
   "metadata": {},
   "outputs": [
    {
     "ename": "SyntaxError",
     "evalue": "unexpected EOF while parsing (2840398144.py, line 2)",
     "output_type": "error",
     "traceback": [
      "\u001b[1;36m  Cell \u001b[1;32mIn[7], line 2\u001b[1;36m\u001b[0m\n\u001b[1;33m    #     soihgf\u001b[0m\n\u001b[1;37m                ^\u001b[0m\n\u001b[1;31mSyntaxError\u001b[0m\u001b[1;31m:\u001b[0m unexpected EOF while parsing\n"
     ]
    }
   ],
   "source": [
    "def adder():\n",
    "#     soihgf"
   ]
  },
  {
   "cell_type": "code",
   "execution_count": 8,
   "id": "2d3b6c71",
   "metadata": {},
   "outputs": [],
   "source": [
    "# adder()"
   ]
  },
  {
   "cell_type": "code",
   "execution_count": 9,
   "id": "d01708bb",
   "metadata": {},
   "outputs": [],
   "source": [
    "def adder(a, b):\n",
    "    print(a)\n",
    "    print(b)\n",
    "    c = a+b\n",
    "    return c"
   ]
  },
  {
   "cell_type": "code",
   "execution_count": 10,
   "id": "64ed5c23",
   "metadata": {},
   "outputs": [
    {
     "name": "stdout",
     "output_type": "stream",
     "text": [
      "1\n",
      "2\n",
      "3\n"
     ]
    }
   ],
   "source": [
    "print(adder(1, 2))"
   ]
  },
  {
   "cell_type": "code",
   "execution_count": 11,
   "id": "d99b4a23",
   "metadata": {},
   "outputs": [
    {
     "name": "stdout",
     "output_type": "stream",
     "text": [
      "1\n",
      "2\n"
     ]
    }
   ],
   "source": [
    "var = adder(1, 2)"
   ]
  },
  {
   "cell_type": "code",
   "execution_count": 12,
   "id": "824313d4",
   "metadata": {},
   "outputs": [
    {
     "name": "stdout",
     "output_type": "stream",
     "text": [
      "3\n"
     ]
    }
   ],
   "source": [
    "print(var)"
   ]
  },
  {
   "cell_type": "markdown",
   "id": "d0482e86",
   "metadata": {},
   "source": [
    "# In python there are 3 types of arguments "
   ]
  },
  {
   "cell_type": "markdown",
   "id": "10f54c33",
   "metadata": {},
   "source": [
    "1. Positional Argument\n",
    "2. Default Argument\n",
    "3. Varible length Argument"
   ]
  },
  {
   "cell_type": "code",
   "execution_count": 13,
   "id": "6db9b230",
   "metadata": {},
   "outputs": [],
   "source": [
    "def adder(a, b, c):\n",
    "    print(a)\n",
    "    print(b)\n",
    "    print(c)\n",
    "    c = a+b+c\n",
    "    return c"
   ]
  },
  {
   "cell_type": "code",
   "execution_count": 14,
   "id": "50279dd2",
   "metadata": {},
   "outputs": [
    {
     "name": "stdout",
     "output_type": "stream",
     "text": [
      "10\n",
      "20\n",
      "30\n"
     ]
    }
   ],
   "source": [
    "var = adder(10, 20, 30)"
   ]
  },
  {
   "cell_type": "code",
   "execution_count": 15,
   "id": "68c4b168",
   "metadata": {},
   "outputs": [
    {
     "data": {
      "text/plain": [
       "60"
      ]
     },
     "execution_count": 15,
     "metadata": {},
     "output_type": "execute_result"
    }
   ],
   "source": [
    "var"
   ]
  },
  {
   "cell_type": "code",
   "execution_count": 16,
   "id": "8ca4aadc",
   "metadata": {},
   "outputs": [],
   "source": [
    "# def my_func(arg_1, arg_2):\n",
    "#     print(arg_1, arg_2)"
   ]
  },
  {
   "cell_type": "code",
   "execution_count": 17,
   "id": "59c0c674",
   "metadata": {},
   "outputs": [
    {
     "name": "stdout",
     "output_type": "stream",
     "text": [
      "10\n",
      "20\n",
      "30\n"
     ]
    },
    {
     "data": {
      "text/plain": [
       "60"
      ]
     },
     "execution_count": 17,
     "metadata": {},
     "output_type": "execute_result"
    }
   ],
   "source": [
    "adder(10, 20, 30)"
   ]
  },
  {
   "cell_type": "code",
   "execution_count": 18,
   "id": "2bd689c5",
   "metadata": {},
   "outputs": [],
   "source": [
    "def adder(a, b, c = 0):\n",
    "    print(a)\n",
    "    print(b)\n",
    "    print(c)\n",
    "    c = a+b+c\n",
    "    return c"
   ]
  },
  {
   "cell_type": "code",
   "execution_count": 19,
   "id": "ebc29b3e",
   "metadata": {},
   "outputs": [
    {
     "name": "stdout",
     "output_type": "stream",
     "text": [
      "10\n",
      "20\n",
      "30\n",
      "60\n"
     ]
    }
   ],
   "source": [
    "print(adder(10, 20, 30))"
   ]
  },
  {
   "cell_type": "code",
   "execution_count": 20,
   "id": "7a6cbf4d",
   "metadata": {},
   "outputs": [
    {
     "name": "stdout",
     "output_type": "stream",
     "text": [
      "10\n",
      "20\n",
      "0\n",
      "30\n"
     ]
    }
   ],
   "source": [
    "print(adder(10, 20))"
   ]
  },
  {
   "cell_type": "code",
   "execution_count": 21,
   "id": "0979501e",
   "metadata": {},
   "outputs": [
    {
     "name": "stdout",
     "output_type": "stream",
     "text": [
      "1\n",
      "2\n",
      "0\n"
     ]
    },
    {
     "data": {
      "text/plain": [
       "3"
      ]
     },
     "execution_count": 21,
     "metadata": {},
     "output_type": "execute_result"
    }
   ],
   "source": [
    "adder(1, 2)"
   ]
  },
  {
   "cell_type": "code",
   "execution_count": 22,
   "id": "e73b2798",
   "metadata": {},
   "outputs": [],
   "source": [
    "def calculator(a, b):\n",
    "    return (a+b), (a-b), (a*b), (a/b)"
   ]
  },
  {
   "cell_type": "code",
   "execution_count": 23,
   "id": "1995bd96",
   "metadata": {},
   "outputs": [
    {
     "name": "stdout",
     "output_type": "stream",
     "text": [
      "(3, -1, 2, 0.5)\n"
     ]
    }
   ],
   "source": [
    "print(calculator(1, 2))"
   ]
  },
  {
   "cell_type": "code",
   "execution_count": 24,
   "id": "0e2a86af",
   "metadata": {},
   "outputs": [],
   "source": [
    "print?"
   ]
  },
  {
   "cell_type": "markdown",
   "id": "fd76562c",
   "metadata": {},
   "source": [
    "*Args and **Kwargs"
   ]
  },
  {
   "cell_type": "code",
   "execution_count": 25,
   "id": "1528593b",
   "metadata": {},
   "outputs": [],
   "source": [
    "def adder(a, b, c = 0):\n",
    "    print(a+b+c)"
   ]
  },
  {
   "cell_type": "code",
   "execution_count": 26,
   "id": "b15bd179",
   "metadata": {},
   "outputs": [
    {
     "name": "stdout",
     "output_type": "stream",
     "text": [
      "20\n"
     ]
    }
   ],
   "source": [
    "adder(9, 9, 2)"
   ]
  },
  {
   "cell_type": "code",
   "execution_count": 27,
   "id": "689e1ab9",
   "metadata": {},
   "outputs": [],
   "source": [
    "def adder(a, b, *args):\n",
    "    c = 1\n",
    "    print(a+b)\n",
    "    print(args)"
   ]
  },
  {
   "cell_type": "code",
   "execution_count": 28,
   "id": "f43cf25f",
   "metadata": {},
   "outputs": [
    {
     "name": "stdout",
     "output_type": "stream",
     "text": [
      "3\n",
      "(3.0, 4, 5, 6, 2, 2, 66, 55, 'abhijeet')\n"
     ]
    }
   ],
   "source": [
    "adder(1, 2, 3.0, 4, 5, 6, 2, 2, 66, 55, 'abhijeet')"
   ]
  },
  {
   "cell_type": "markdown",
   "id": "d6fd45b4",
   "metadata": {},
   "source": [
    "# Loops: For and While"
   ]
  },
  {
   "cell_type": "markdown",
   "id": "a4efd4ba",
   "metadata": {},
   "source": [
    "For loops"
   ]
  },
  {
   "cell_type": "code",
   "execution_count": 29,
   "id": "e82eadb1",
   "metadata": {},
   "outputs": [
    {
     "name": "stdout",
     "output_type": "stream",
     "text": [
      "5\n",
      "6\n",
      "7\n",
      "8\n",
      "9\n",
      "15120\n"
     ]
    }
   ],
   "source": [
    "temp = 1\n",
    "for i in range(5, 10):\n",
    "    \n",
    "    print(i)\n",
    "    temp = temp*i\n",
    "print(temp)"
   ]
  },
  {
   "cell_type": "code",
   "execution_count": 30,
   "id": "8026b81c",
   "metadata": {},
   "outputs": [
    {
     "data": {
      "text/plain": [
       "15120"
      ]
     },
     "execution_count": 30,
     "metadata": {},
     "output_type": "execute_result"
    }
   ],
   "source": [
    "temp"
   ]
  },
  {
   "cell_type": "code",
   "execution_count": 31,
   "id": "da84e504",
   "metadata": {},
   "outputs": [],
   "source": [
    "def adder(a, b, *args):\n",
    "    a = a + b\n",
    "    print(args)\n",
    "    for i in args:\n",
    "        a = a + i\n",
    "    print(a)"
   ]
  },
  {
   "cell_type": "code",
   "execution_count": 32,
   "id": "328d7a94",
   "metadata": {},
   "outputs": [
    {
     "name": "stdout",
     "output_type": "stream",
     "text": [
      "(3.0, 4, 5, 6, 2, 2, 66, 55)\n",
      "146.0\n"
     ]
    }
   ],
   "source": [
    "adder(1, 2, 3.0, 4, 5, 6, 2, 2, 66, 55)"
   ]
  },
  {
   "cell_type": "code",
   "execution_count": 33,
   "id": "900c49d9",
   "metadata": {},
   "outputs": [],
   "source": [
    "def adder(a, b, *args):\n",
    "    a+=b\n",
    "    print(args)\n",
    "    for i in args:\n",
    "        a+=i\n",
    "    print(a)"
   ]
  },
  {
   "cell_type": "code",
   "execution_count": 34,
   "id": "43ce0525",
   "metadata": {},
   "outputs": [
    {
     "name": "stdout",
     "output_type": "stream",
     "text": [
      "(3.0, 4, 5, 6, 2, 2, 66, 55)\n",
      "146.0\n"
     ]
    }
   ],
   "source": [
    "adder(1, 2, 3.0, 4, 5, 6, 2, 2, 66, 55)"
   ]
  },
  {
   "cell_type": "code",
   "execution_count": 35,
   "id": "700abb03",
   "metadata": {},
   "outputs": [],
   "source": [
    "x = 1\n",
    "y = 2"
   ]
  },
  {
   "cell_type": "code",
   "execution_count": 70,
   "id": "683bba35",
   "metadata": {},
   "outputs": [],
   "source": [
    "def func():\n",
    "    print(y)\n",
    "#     y += t\n",
    "    aa = 11\n",
    "#     y = y + t\n",
    "    print(x, y, a)\n",
    "    return aa"
   ]
  },
  {
   "cell_type": "code",
   "execution_count": 71,
   "id": "173fc556",
   "metadata": {},
   "outputs": [
    {
     "name": "stdout",
     "output_type": "stream",
     "text": [
      "2\n",
      "9 2 1\n"
     ]
    }
   ],
   "source": [
    "aa = func()"
   ]
  },
  {
   "cell_type": "code",
   "execution_count": 72,
   "id": "acaaba11",
   "metadata": {},
   "outputs": [],
   "source": [
    "x = 9\n",
    "def adder():\n",
    "    print(x)"
   ]
  },
  {
   "cell_type": "code",
   "execution_count": 73,
   "id": "d9a5235a",
   "metadata": {},
   "outputs": [
    {
     "name": "stdout",
     "output_type": "stream",
     "text": [
      "9\n"
     ]
    }
   ],
   "source": [
    "adder()"
   ]
  },
  {
   "cell_type": "code",
   "execution_count": 74,
   "id": "90c001d8",
   "metadata": {},
   "outputs": [
    {
     "name": "stdout",
     "output_type": "stream",
     "text": [
      "9 2 11\n"
     ]
    }
   ],
   "source": [
    "print(x, y, aa)"
   ]
  },
  {
   "cell_type": "markdown",
   "id": "d269e5f2",
   "metadata": {},
   "source": [
    "WHILE LOOP"
   ]
  },
  {
   "cell_type": "code",
   "execution_count": 5,
   "id": "426d0d1a",
   "metadata": {},
   "outputs": [
    {
     "name": "stdout",
     "output_type": "stream",
     "text": [
      "Hello0Hello1Hello2Hello3Hello4"
     ]
    }
   ],
   "source": [
    "a = 0\n",
    "while (a<5):\n",
    "    print(\"Hello\", a, sep='', end=\"\")\n",
    "    a = a + 1"
   ]
  },
  {
   "cell_type": "code",
   "execution_count": 82,
   "id": "28b4a07a",
   "metadata": {},
   "outputs": [
    {
     "name": "stdout",
     "output_type": "stream",
     "text": [
      "1\n",
      "11\n"
     ]
    }
   ],
   "source": [
    "for i in range(1, 21, 10):\n",
    "    print(i)"
   ]
  },
  {
   "cell_type": "code",
   "execution_count": 83,
   "id": "0609cbe5",
   "metadata": {},
   "outputs": [
    {
     "name": "stdout",
     "output_type": "stream",
     "text": [
      "A\n",
      "b\n",
      "h\n",
      "i\n",
      "j\n",
      "e\n",
      "e\n",
      "t\n"
     ]
    }
   ],
   "source": [
    "aa = 'Abhijeet'\n",
    "for i in aa:\n",
    "    print(i)"
   ]
  },
  {
   "cell_type": "code",
   "execution_count": 84,
   "id": "bbcbb107",
   "metadata": {},
   "outputs": [
    {
     "data": {
      "text/plain": [
       "bool"
      ]
     },
     "execution_count": 84,
     "metadata": {},
     "output_type": "execute_result"
    }
   ],
   "source": [
    "s = True\n",
    "type(s)"
   ]
  },
  {
   "cell_type": "code",
   "execution_count": 90,
   "id": "4f9c6777",
   "metadata": {},
   "outputs": [],
   "source": [
    "def type_input(a):\n",
    "    print(type(a))\n",
    "    for i in a:\n",
    "        print(type(i))\n",
    "#     return type(a)"
   ]
  },
  {
   "cell_type": "code",
   "execution_count": 91,
   "id": "6c0964fb",
   "metadata": {},
   "outputs": [
    {
     "name": "stdout",
     "output_type": "stream",
     "text": [
      "<class 'tuple'>\n",
      "<class 'str'>\n",
      "<class 'str'>\n",
      "<class 'str'>\n",
      "<class 'str'>\n",
      "<class 'int'>\n"
     ]
    }
   ],
   "source": [
    "type_input(('1','2','3','4',5))"
   ]
  },
  {
   "cell_type": "code",
   "execution_count": 92,
   "id": "c6413e9f",
   "metadata": {},
   "outputs": [
    {
     "name": "stdout",
     "output_type": "stream",
     "text": [
      "<class 'int'>\n"
     ]
    },
    {
     "ename": "TypeError",
     "evalue": "'int' object is not iterable",
     "output_type": "error",
     "traceback": [
      "\u001b[1;31m---------------------------------------------------------------------------\u001b[0m",
      "\u001b[1;31mTypeError\u001b[0m                                 Traceback (most recent call last)",
      "Cell \u001b[1;32mIn[92], line 1\u001b[0m\n\u001b[1;32m----> 1\u001b[0m \u001b[43mtype_input\u001b[49m\u001b[43m(\u001b[49m\u001b[38;5;241;43m0\u001b[39;49m\u001b[43m)\u001b[49m\n",
      "Cell \u001b[1;32mIn[90], line 3\u001b[0m, in \u001b[0;36mtype_input\u001b[1;34m(a)\u001b[0m\n\u001b[0;32m      1\u001b[0m \u001b[38;5;28;01mdef\u001b[39;00m \u001b[38;5;21mtype_input\u001b[39m(a):\n\u001b[0;32m      2\u001b[0m     \u001b[38;5;28mprint\u001b[39m(\u001b[38;5;28mtype\u001b[39m(a))\n\u001b[1;32m----> 3\u001b[0m     \u001b[38;5;28;01mfor\u001b[39;00m i \u001b[38;5;129;01min\u001b[39;00m a:\n\u001b[0;32m      4\u001b[0m         \u001b[38;5;28mprint\u001b[39m(\u001b[38;5;28mtype\u001b[39m(i))\n",
      "\u001b[1;31mTypeError\u001b[0m: 'int' object is not iterable"
     ]
    }
   ],
   "source": [
    "type_input(0)"
   ]
  },
  {
   "cell_type": "code",
   "execution_count": 7,
   "id": "1f606eaa",
   "metadata": {},
   "outputs": [
    {
     "name": "stdout",
     "output_type": "stream",
     "text": [
      "Enter a PIN lock5555\n"
     ]
    }
   ],
   "source": [
    "input_var = input('Enter a PIN lock')"
   ]
  },
  {
   "cell_type": "code",
   "execution_count": 8,
   "id": "6e293796",
   "metadata": {},
   "outputs": [
    {
     "data": {
      "text/plain": [
       "'5555'"
      ]
     },
     "execution_count": 8,
     "metadata": {},
     "output_type": "execute_result"
    }
   ],
   "source": [
    "input_var"
   ]
  },
  {
   "cell_type": "code",
   "execution_count": 9,
   "id": "243c110e",
   "metadata": {},
   "outputs": [
    {
     "data": {
      "text/plain": [
       "<bound method Kernel.raw_input of <ipykernel.ipkernel.IPythonKernel object at 0x000001AD768AE730>>"
      ]
     },
     "execution_count": 9,
     "metadata": {},
     "output_type": "execute_result"
    }
   ],
   "source": [
    "input"
   ]
  },
  {
   "cell_type": "markdown",
   "id": "2673d97a",
   "metadata": {},
   "source": [
    "# Conditional statements (If, else, Elif)"
   ]
  },
  {
   "cell_type": "code",
   "execution_count": 11,
   "id": "c8397341",
   "metadata": {},
   "outputs": [],
   "source": [
    "a = 55"
   ]
  },
  {
   "cell_type": "code",
   "execution_count": 12,
   "id": "45f3f934",
   "metadata": {},
   "outputs": [
    {
     "name": "stdout",
     "output_type": "stream",
     "text": [
      "Hello\n"
     ]
    }
   ],
   "source": [
    "if a == 55:\n",
    "    print(\"Hello\")"
   ]
  },
  {
   "cell_type": "code",
   "execution_count": 16,
   "id": "6a392f33",
   "metadata": {},
   "outputs": [
    {
     "name": "stdout",
     "output_type": "stream",
     "text": [
      "hi\n"
     ]
    }
   ],
   "source": [
    "if True:\n",
    "    print(\"hi\")"
   ]
  },
  {
   "cell_type": "code",
   "execution_count": 37,
   "id": "e36a53c5",
   "metadata": {},
   "outputs": [
    {
     "name": "stdout",
     "output_type": "stream",
     "text": [
      "Hello\n"
     ]
    }
   ],
   "source": [
    "a = 1\n",
    "if (a != 0):\n",
    "    print(\"Hello\")\n",
    "elif (a == 1):\n",
    "    print(\"Hi\")\n",
    "elif (a == 20):\n",
    "    print(\"Elif me hu\")\n",
    "else:\n",
    "    print(\"Bye Bye!\")"
   ]
  },
  {
   "cell_type": "code",
   "execution_count": 57,
   "id": "05554625",
   "metadata": {},
   "outputs": [
    {
     "name": "stdout",
     "output_type": "stream",
     "text": [
      "enter marks95\n",
      "<class 'int'>\n"
     ]
    }
   ],
   "source": [
    "marks = input('enter marks')\n",
    "marks = int(marks)\n",
    "print(type(marks))"
   ]
  },
  {
   "cell_type": "code",
   "execution_count": 58,
   "id": "cee2f2eb",
   "metadata": {},
   "outputs": [
    {
     "name": "stdout",
     "output_type": "stream",
     "text": [
      "A\n"
     ]
    }
   ],
   "source": [
    "if marks>90:\n",
    "    print(\"A\")\n",
    "elif marks>80:\n",
    "    print(\"B\")\n",
    "elif marks>70:\n",
    "    print(\"C\")\n",
    "else:\n",
    "    print(\"Fail\")"
   ]
  },
  {
   "cell_type": "code",
   "execution_count": 60,
   "id": "b58b9154",
   "metadata": {},
   "outputs": [
    {
     "name": "stdout",
     "output_type": "stream",
     "text": [
      "enter marks92\n",
      "B\n"
     ]
    }
   ],
   "source": [
    "marks = int(input('enter marks'))\n",
    "if marks>90 and marks >= 95:\n",
    "    print(\"A\", \"Bravo!\")\n",
    "elif marks>80:\n",
    "    print(\"B\")\n",
    "elif marks>70:\n",
    "    print(\"C\")\n",
    "else:\n",
    "    print(\"Fail\")"
   ]
  },
  {
   "cell_type": "code",
   "execution_count": 65,
   "id": "54f86879",
   "metadata": {},
   "outputs": [
    {
     "name": "stdout",
     "output_type": "stream",
     "text": [
      "enter marks200\n",
      "Wrong password\n"
     ]
    }
   ],
   "source": [
    "password = int(input('enter marks'))\n",
    "if password == 4520 or password == 2001:\n",
    "    print(\"Correct\")\n",
    "else:\n",
    "    print(\"Wrong password\")"
   ]
  },
  {
   "cell_type": "code",
   "execution_count": 80,
   "id": "4621f962",
   "metadata": {},
   "outputs": [
    {
     "name": "stdout",
     "output_type": "stream",
     "text": [
      "Enter a number1000\n",
      "Not Prime\n"
     ]
    }
   ],
   "source": [
    "num = int(input('Enter a number'))\n",
    "\n",
    "flag = False\n",
    "\n",
    "if num == 1:\n",
    "    print(\"Number is not prime nor composite\")\n",
    "elif num>1:\n",
    "    for i in range(2, num):\n",
    "        if (num%i) == 0:\n",
    "            flag = True\n",
    "            break\n",
    "    if flag:\n",
    "        print(\"Not Prime\")\n",
    "    else:\n",
    "        print(\"Prime\")"
   ]
  },
  {
   "cell_type": "markdown",
   "id": "652015b0",
   "metadata": {},
   "source": [
    "Break and Continue"
   ]
  },
  {
   "cell_type": "code",
   "execution_count": 73,
   "id": "b25e45f3",
   "metadata": {},
   "outputs": [
    {
     "name": "stdout",
     "output_type": "stream",
     "text": [
      "0\n",
      "1\n",
      "2\n",
      "3\n",
      "4\n"
     ]
    }
   ],
   "source": [
    "for i in range(10):\n",
    "    if (i == 5):\n",
    "        break\n",
    "    print(i)"
   ]
  },
  {
   "cell_type": "code",
   "execution_count": 76,
   "id": "26c9acfe",
   "metadata": {},
   "outputs": [
    {
     "name": "stdout",
     "output_type": "stream",
     "text": [
      "In loop if I 0\n",
      "In loop if J 0\n",
      "In loop if J 1\n",
      "In loop if J 2\n",
      "In loop if J 3\n",
      "In loop if I 1\n",
      "In loop if J 0\n",
      "In loop if J 1\n",
      "In loop if J 2\n",
      "In loop if J 3\n"
     ]
    }
   ],
   "source": [
    "for i in range(2):\n",
    "    print(\"In loop if I\", i)\n",
    "    for j in range(5):\n",
    "        print(\"In loop if J\", j)\n",
    "        if (j == 3):\n",
    "            break"
   ]
  },
  {
   "cell_type": "code",
   "execution_count": 77,
   "id": "e23876ba",
   "metadata": {},
   "outputs": [
    {
     "name": "stdout",
     "output_type": "stream",
     "text": [
      "In loop if I 0\n",
      "In loop if J 0\n",
      "In loop if J 1\n",
      "In loop if J 2\n",
      "In loop if J 4\n",
      "In loop if I 1\n",
      "In loop if J 0\n",
      "In loop if J 1\n",
      "In loop if J 2\n",
      "In loop if J 4\n"
     ]
    }
   ],
   "source": [
    "for i in range(2):\n",
    "    print(\"In loop if I\", i)\n",
    "    for j in range(5):\n",
    "        if (j == 3):\n",
    "            continue\n",
    "        print(\"In loop if J\", j)"
   ]
  },
  {
   "cell_type": "code",
   "execution_count": 79,
   "id": "3cd90aef",
   "metadata": {},
   "outputs": [
    {
     "name": "stdout",
     "output_type": "stream",
     "text": [
      "In loop if I 0\n",
      "In loop if I 1\n"
     ]
    }
   ],
   "source": [
    "for i in range(2):\n",
    "#     continue\n",
    "    print(\"In loop if I\", i)\n",
    "    for j in range(5):\n",
    "        continue\n",
    "        print(\"In loop if J\", j)"
   ]
  },
  {
   "cell_type": "code",
   "execution_count": 84,
   "id": "93ffafbd",
   "metadata": {},
   "outputs": [
    {
     "name": "stdout",
     "output_type": "stream",
     "text": [
      "Enter the passwordsljnjdf\n",
      "Try again\n",
      "Enter the passwordseokdjf\n",
      "Try again\n",
      "Enter the passwordselkekdf\n",
      "Try again\n",
      "Enter the passwordselkf\n",
      "Try again\n",
      "Enter the passwordselefkdn\n",
      "Try again\n",
      "Screen locked, attempts over\n"
     ]
    }
   ],
   "source": [
    "password = 'password'\n",
    "false_attempt = 0\n",
    "while(True):\n",
    "    input_password = input('Enter the password')\n",
    "    if input_password == password:\n",
    "        print(\"Correct\")\n",
    "        break\n",
    "    else:\n",
    "        print(\"Try again\")\n",
    "        false_attempt += 1\n",
    "        if false_attempt == 5:\n",
    "            print('Screen locked, attempts over')\n",
    "            break"
   ]
  },
  {
   "cell_type": "code",
   "execution_count": null,
   "id": "ab5cfe6f",
   "metadata": {},
   "outputs": [],
   "source": []
  }
 ],
 "metadata": {
  "kernelspec": {
   "display_name": "Python 3 (ipykernel)",
   "language": "python",
   "name": "python3"
  },
  "language_info": {
   "codemirror_mode": {
    "name": "ipython",
    "version": 3
   },
   "file_extension": ".py",
   "mimetype": "text/x-python",
   "name": "python",
   "nbconvert_exporter": "python",
   "pygments_lexer": "ipython3",
   "version": "3.8.10"
  }
 },
 "nbformat": 4,
 "nbformat_minor": 5
}
