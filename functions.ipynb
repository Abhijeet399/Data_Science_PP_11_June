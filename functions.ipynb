{
 "cells": [
  {
   "cell_type": "code",
   "execution_count": 3,
   "id": "2a63a3cc",
   "metadata": {},
   "outputs": [],
   "source": [
    "a = 1"
   ]
  },
  {
   "cell_type": "code",
   "execution_count": 22,
   "id": "28666e31",
   "metadata": {},
   "outputs": [
    {
     "name": "stdout",
     "output_type": "stream",
     "text": [
      "<class 'int'>\n"
     ]
    }
   ],
   "source": [
    "print(type(a))"
   ]
  },
  {
   "cell_type": "code",
   "execution_count": 29,
   "id": "c3ac2e43",
   "metadata": {},
   "outputs": [],
   "source": [
    "def temp():\n",
    "    print(\"Hello world\")\n",
    "    print(1+2)\n",
    "    return 0"
   ]
  },
  {
   "cell_type": "code",
   "execution_count": 30,
   "id": "dd83b7fc",
   "metadata": {},
   "outputs": [
    {
     "name": "stdout",
     "output_type": "stream",
     "text": [
      "Hello world\n",
      "3\n",
      "0\n"
     ]
    }
   ],
   "source": [
    "print(temp())"
   ]
  },
  {
   "cell_type": "code",
   "execution_count": 26,
   "id": "a041df8c",
   "metadata": {},
   "outputs": [
    {
     "name": "stdout",
     "output_type": "stream",
     "text": [
      "<function temp at 0x7f774d650700>\n"
     ]
    }
   ],
   "source": [
    "print(temp)"
   ]
  },
  {
   "cell_type": "code",
   "execution_count": 9,
   "id": "e3478006",
   "metadata": {},
   "outputs": [
    {
     "ename": "TypeError",
     "evalue": "'str' object is not callable",
     "output_type": "error",
     "traceback": [
      "\u001b[0;31m---------------------------------------------------------------------------\u001b[0m",
      "\u001b[0;31mTypeError\u001b[0m                                 Traceback (most recent call last)",
      "Cell \u001b[0;32mIn[9], line 2\u001b[0m\n\u001b[1;32m      1\u001b[0m b \u001b[38;5;241m=\u001b[39m \u001b[38;5;124m'\u001b[39m\u001b[38;5;124mhello\u001b[39m\u001b[38;5;124m'\u001b[39m\n\u001b[0;32m----> 2\u001b[0m \u001b[43mb\u001b[49m\u001b[43m(\u001b[49m\u001b[43m)\u001b[49m\n",
      "\u001b[0;31mTypeError\u001b[0m: 'str' object is not callable"
     ]
    }
   ],
   "source": [
    "b = 'hello'\n",
    "b()"
   ]
  },
  {
   "cell_type": "code",
   "execution_count": 41,
   "id": "8402f658",
   "metadata": {},
   "outputs": [
    {
     "ename": "SyntaxError",
     "evalue": "unexpected EOF while parsing (2840398144.py, line 2)",
     "output_type": "error",
     "traceback": [
      "\u001b[0;36m  Cell \u001b[0;32mIn[41], line 2\u001b[0;36m\u001b[0m\n\u001b[0;31m    #     soihgf\u001b[0m\n\u001b[0m                ^\u001b[0m\n\u001b[0;31mSyntaxError\u001b[0m\u001b[0;31m:\u001b[0m unexpected EOF while parsing\n"
     ]
    }
   ],
   "source": [
    "def adder():\n",
    "#     soihgf"
   ]
  },
  {
   "cell_type": "code",
   "execution_count": 42,
   "id": "2d3b6c71",
   "metadata": {},
   "outputs": [],
   "source": [
    "# adder()"
   ]
  },
  {
   "cell_type": "code",
   "execution_count": 53,
   "id": "d01708bb",
   "metadata": {},
   "outputs": [],
   "source": [
    "def adder(a, b):\n",
    "    print(a)\n",
    "    print(b)\n",
    "    c = a+b\n",
    "    return c"
   ]
  },
  {
   "cell_type": "code",
   "execution_count": 54,
   "id": "64ed5c23",
   "metadata": {},
   "outputs": [
    {
     "name": "stdout",
     "output_type": "stream",
     "text": [
      "1\n",
      "2\n",
      "3\n"
     ]
    }
   ],
   "source": [
    "print(adder(1, 2))"
   ]
  },
  {
   "cell_type": "code",
   "execution_count": 55,
   "id": "d99b4a23",
   "metadata": {},
   "outputs": [
    {
     "name": "stdout",
     "output_type": "stream",
     "text": [
      "1\n",
      "2\n"
     ]
    }
   ],
   "source": [
    "var = adder(1, 2)"
   ]
  },
  {
   "cell_type": "code",
   "execution_count": 56,
   "id": "824313d4",
   "metadata": {},
   "outputs": [
    {
     "name": "stdout",
     "output_type": "stream",
     "text": [
      "3\n"
     ]
    }
   ],
   "source": [
    "print(var)"
   ]
  },
  {
   "cell_type": "markdown",
   "id": "d0482e86",
   "metadata": {},
   "source": [
    "# In python there asre 3 types of variables "
   ]
  },
  {
   "cell_type": "markdown",
   "id": "10f54c33",
   "metadata": {},
   "source": [
    "1. Positional Argument\n",
    "2. Default Argument\n",
    "3. Varible length Argument"
   ]
  },
  {
   "cell_type": "code",
   "execution_count": 61,
   "id": "6db9b230",
   "metadata": {},
   "outputs": [],
   "source": [
    "def adder(a, b, c):\n",
    "    print(a)\n",
    "    print(b)\n",
    "    print(c)\n",
    "    c = a+b+c\n",
    "    return c"
   ]
  },
  {
   "cell_type": "code",
   "execution_count": 62,
   "id": "50279dd2",
   "metadata": {},
   "outputs": [
    {
     "name": "stdout",
     "output_type": "stream",
     "text": [
      "20\n",
      "10\n",
      "30\n"
     ]
    }
   ],
   "source": [
    "var = adder(20, 10, 30)"
   ]
  },
  {
   "cell_type": "code",
   "execution_count": 63,
   "id": "68c4b168",
   "metadata": {},
   "outputs": [
    {
     "data": {
      "text/plain": [
       "60"
      ]
     },
     "execution_count": 63,
     "metadata": {},
     "output_type": "execute_result"
    }
   ],
   "source": [
    "var"
   ]
  },
  {
   "cell_type": "code",
   "execution_count": 64,
   "id": "8ca4aadc",
   "metadata": {},
   "outputs": [],
   "source": [
    "# def my_func(arg_1, arg_2):\n",
    "#     print(arg_1, arg_2)"
   ]
  },
  {
   "cell_type": "code",
   "execution_count": 67,
   "id": "59c0c674",
   "metadata": {},
   "outputs": [
    {
     "name": "stdout",
     "output_type": "stream",
     "text": [
      "10\n",
      "20\n",
      "30\n"
     ]
    },
    {
     "data": {
      "text/plain": [
       "60"
      ]
     },
     "execution_count": 67,
     "metadata": {},
     "output_type": "execute_result"
    }
   ],
   "source": [
    "adder(10, 20, 30)"
   ]
  },
  {
   "cell_type": "code",
   "execution_count": 71,
   "id": "2bd689c5",
   "metadata": {},
   "outputs": [],
   "source": [
    "def adder(a = 0, b = 0, c = 0):\n",
    "    print(a)\n",
    "    print(b)\n",
    "    print(c)\n",
    "    c = a+b+c\n",
    "    return c"
   ]
  },
  {
   "cell_type": "code",
   "execution_count": 72,
   "id": "ebc29b3e",
   "metadata": {},
   "outputs": [
    {
     "name": "stdout",
     "output_type": "stream",
     "text": [
      "10\n",
      "20\n",
      "30\n",
      "60\n"
     ]
    }
   ],
   "source": [
    "print(adder(10, 20, 30))"
   ]
  },
  {
   "cell_type": "code",
   "execution_count": 73,
   "id": "7a6cbf4d",
   "metadata": {},
   "outputs": [
    {
     "name": "stdout",
     "output_type": "stream",
     "text": [
      "10\n",
      "20\n",
      "0\n",
      "30\n"
     ]
    }
   ],
   "source": [
    "print(adder(10, 20))"
   ]
  },
  {
   "cell_type": "code",
   "execution_count": 75,
   "id": "0979501e",
   "metadata": {},
   "outputs": [
    {
     "name": "stdout",
     "output_type": "stream",
     "text": [
      "0\n",
      "0\n",
      "0\n"
     ]
    },
    {
     "data": {
      "text/plain": [
       "0"
      ]
     },
     "execution_count": 75,
     "metadata": {},
     "output_type": "execute_result"
    }
   ],
   "source": [
    "adder()"
   ]
  },
  {
   "cell_type": "code",
   "execution_count": 86,
   "id": "0e2a86af",
   "metadata": {},
   "outputs": [],
   "source": [
    "type?"
   ]
  },
  {
   "cell_type": "code",
   "execution_count": null,
   "id": "dcf752af",
   "metadata": {},
   "outputs": [],
   "source": []
  }
 ],
 "metadata": {
  "kernelspec": {
   "display_name": "Python 3 (ipykernel)",
   "language": "python",
   "name": "python3"
  },
  "language_info": {
   "codemirror_mode": {
    "name": "ipython",
    "version": 3
   },
   "file_extension": ".py",
   "mimetype": "text/x-python",
   "name": "python",
   "nbconvert_exporter": "python",
   "pygments_lexer": "ipython3",
   "version": "3.8.10"
  }
 },
 "nbformat": 4,
 "nbformat_minor": 5
}
