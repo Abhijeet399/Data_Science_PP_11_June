{
 "cells": [
  {
   "cell_type": "code",
   "execution_count": 2,
   "id": "e11e5c63",
   "metadata": {},
   "outputs": [
    {
     "name": "stderr",
     "output_type": "stream",
     "text": [
      "[nltk_data] Downloading package punkt to\n",
      "[nltk_data]     C:\\Users\\bhatt\\AppData\\Roaming\\nltk_data...\n",
      "[nltk_data]   Package punkt is already up-to-date!\n"
     ]
    }
   ],
   "source": [
    "import numpy as np\n",
    "import pandas as pd\n",
    "import sklearn\n",
    "import os\n",
    "import re\n",
    "import nltk\n",
    "nltk.download('punkt')\n",
    "from nltk.tokenize import word_tokenize\n",
    "from nltk.corpus import stopwords"
   ]
  },
  {
   "cell_type": "code",
   "execution_count": 30,
   "id": "545c7471",
   "metadata": {},
   "outputs": [],
   "source": [
    "path = 'C:/Users/bhatt/OneDrive/Desktop/whisper-main/sherlock/'"
   ]
  },
  {
   "cell_type": "code",
   "execution_count": 31,
   "id": "34d4e20d",
   "metadata": {},
   "outputs": [],
   "source": [
    "def read_stories(path):\n",
    "    text = []\n",
    "    for _, _, files in os.walk(path):\n",
    "        for file in files:\n",
    "            with open(path + file) as f:\n",
    "                for line in f:\n",
    "                    line = line.strip()\n",
    "                    if line == '----------':\n",
    "                        break\n",
    "                    if line != '':\n",
    "                        text.append(line)\n",
    "    return text"
   ]
  },
  {
   "cell_type": "code",
   "execution_count": 32,
   "id": "5be56425",
   "metadata": {},
   "outputs": [],
   "source": [
    "stories = read_stories(path)"
   ]
  },
  {
   "cell_type": "code",
   "execution_count": 33,
   "id": "c1488003",
   "metadata": {},
   "outputs": [
    {
     "name": "stdout",
     "output_type": "stream",
     "text": [
      "215021\n"
     ]
    }
   ],
   "source": [
    "print(len(stories))"
   ]
  },
  {
   "cell_type": "code",
   "execution_count": 34,
   "id": "620afc6b",
   "metadata": {},
   "outputs": [],
   "source": [
    "def clean_stories(text):\n",
    "    clean_text = []\n",
    "    for line in text:\n",
    "        line = line.lower()\n",
    "        line = re.sub(r\",\\\"\\'!@#$%^&*(){}!?/;`~:<>+=-\\]\", \"\", line)\n",
    "        tokens = word_tokenize(line)\n",
    "        words = []\n",
    "        for word in tokens:\n",
    "            words.append(word)\n",
    "        clean_text += words\n",
    "    return clean_text"
   ]
  },
  {
   "cell_type": "code",
   "execution_count": 35,
   "id": "cffd6178",
   "metadata": {},
   "outputs": [],
   "source": [
    "clean_text = clean_stories(stories)"
   ]
  },
  {
   "cell_type": "code",
   "execution_count": 63,
   "id": "9e24eb71",
   "metadata": {},
   "outputs": [],
   "source": [
    "def markov_models(cleaned_text, ngram = 2):\n",
    "    markov_model = {}\n",
    "    for i in range(len(clean_text) - ngram - 1):\n",
    "        curr_state, next_state = \"\", \"\"\n",
    "        for j in range(ngram):\n",
    "            curr_state += cleaned_text[i + j] + ' '\n",
    "            next_state += cleaned_text[i + j + ngram] + ' '\n",
    "        curr_state = curr_state[:-1]\n",
    "        next_state = next_state[:-1]\n",
    "        if curr_state not in markov_model:\n",
    "            markov_model[curr_state] = {}\n",
    "            markov_model[curr_state][next_state] = 1\n",
    "        else:\n",
    "            if next_state in markov_model[curr_state]:\n",
    "                markov_model[curr_state][next_state] += 1\n",
    "            else:\n",
    "                markov_model[curr_state][next_state] = 1\n",
    "    for curr_state, transition in markov_model.items():\n",
    "        total = sum(transition.values())\n",
    "        for state, count in transition.items():\n",
    "            markov_model[curr_state][state] = count / total\n",
    "    return markov_model"
   ]
  },
  {
   "cell_type": "code",
   "execution_count": 64,
   "id": "fd7e8e42",
   "metadata": {},
   "outputs": [],
   "source": [
    "markov = markov_models(clean_text)"
   ]
  },
  {
   "cell_type": "code",
   "execution_count": 65,
   "id": "578612cf",
   "metadata": {},
   "outputs": [],
   "source": [
    "# markov"
   ]
  },
  {
   "cell_type": "code",
   "execution_count": 66,
   "id": "9dbc1363",
   "metadata": {},
   "outputs": [
    {
     "data": {
      "text/plain": [
       "{', my': 0.041237113402061855,\n",
       " '! it': 0.041237113402061855,\n",
       " '! what': 0.08247422680412371,\n",
       " '! helen': 0.041237113402061855,\n",
       " \"! ''\": 0.29896907216494845,\n",
       " ', what': 0.07216494845360824,\n",
       " ', it': 0.12371134020618557,\n",
       " '! was': 0.041237113402061855,\n",
       " '! are': 0.041237113402061855,\n",
       " ', can': 0.030927835051546393,\n",
       " ', those': 0.030927835051546393,\n",
       " '! to': 0.030927835051546393,\n",
       " ', whoever': 0.041237113402061855,\n",
       " ', shall': 0.041237113402061855,\n",
       " '! how': 0.041237113402061855}"
      ]
     },
     "execution_count": 66,
     "metadata": {},
     "output_type": "execute_result"
    }
   ],
   "source": [
    "markov['my god']"
   ]
  },
  {
   "cell_type": "code",
   "execution_count": 67,
   "id": "35ec4bb0",
   "metadata": {},
   "outputs": [],
   "source": [
    "import random\n",
    "def generate_story(markov_chain, limit = 100, start = 'men whom'):\n",
    "    n = 0\n",
    "    curr_state = start\n",
    "    next_state = None\n",
    "    story = ''\n",
    "    story += curr_state + ' '\n",
    "    while n < limit:\n",
    "        next_state = random.choices(\n",
    "        list(markov_chain[curr_state].keys()),\n",
    "        list(markov_chain[curr_state].values())\n",
    "        )\n",
    "        curr_state = next_state[0]\n",
    "        story += curr_state + ' '\n",
    "        n += 1\n",
    "    return story"
   ]
  },
  {
   "cell_type": "code",
   "execution_count": 68,
   "id": "768ca104",
   "metadata": {},
   "outputs": [
    {
     "name": "stdout",
     "output_type": "stream",
     "text": [
      "men whom i have peeped through . from the windows are all practical jokes , and of course . either the boy \n"
     ]
    }
   ],
   "source": [
    "print(generate_story(markov, limit = 10))"
   ]
  },
  {
   "cell_type": "code",
   "execution_count": 73,
   "id": "7accb70e",
   "metadata": {
    "scrolled": true
   },
   "outputs": [
    {
     "name": "stdout",
     "output_type": "stream",
     "text": [
      "i would take my word for that . '' `` did he \n",
      "i would have a slight headache and this sinister quest upon which \n",
      "i would also urge that the pastime brought him to take the \n",
      "i would say , 'mother , there are objections to it , \n",
      "i would rather answer no questions . `` what is it ? \n",
      "i would not . `` thick and horny in a dark-gray suit \n",
      "i would give one of the dancing men figures ] `` tell \n",
      "i would do justice upon him with his hands like one who \n",
      "i would suggest , therefore , in the way . stand with \n",
      "i would not dare to sell them ? crime is done . \n",
      "i would warn your grace , is your husband 's despatch-box . \n",
      "i would do it myself . ha ! what have you been \n",
      "i would call your attention very particularly to the position of these \n",
      "i would dream of going , watson , i do not know \n",
      "i would not risk the loss of it in your sensational way \n",
      "i would handle it gingerly if i were the last had just \n",
      "i would only ask a little group of compositors and pressmen was \n",
      "i would prove it ? vat about milman and van shorst , \n",
      "i would refer you to mr. gregson to run you down in \n",
      "i would not have me . you never said so , i \n"
     ]
    }
   ],
   "source": [
    "for i in range(20):\n",
    "    print(generate_story(markov, start = 'i would', limit = 5))"
   ]
  },
  {
   "cell_type": "code",
   "execution_count": null,
   "id": "6a3cb317",
   "metadata": {},
   "outputs": [],
   "source": []
  }
 ],
 "metadata": {
  "kernelspec": {
   "display_name": "Python 3 (ipykernel)",
   "language": "python",
   "name": "python3"
  },
  "language_info": {
   "codemirror_mode": {
    "name": "ipython",
    "version": 3
   },
   "file_extension": ".py",
   "mimetype": "text/x-python",
   "name": "python",
   "nbconvert_exporter": "python",
   "pygments_lexer": "ipython3",
   "version": "3.8.10"
  }
 },
 "nbformat": 4,
 "nbformat_minor": 5
}
