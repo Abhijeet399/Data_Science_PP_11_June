{
 "cells": [
  {
   "cell_type": "code",
   "execution_count": 1,
   "id": "d449ff55",
   "metadata": {},
   "outputs": [],
   "source": [
    "import tensorflow as tf\n",
    "import keras\n",
    "import numpy as np\n",
    "import matplotlib.pyplot as plt"
   ]
  },
  {
   "cell_type": "code",
   "execution_count": 2,
   "id": "4cba6c90",
   "metadata": {},
   "outputs": [],
   "source": [
    "num_class = 10"
   ]
  },
  {
   "cell_type": "code",
   "execution_count": 3,
   "id": "d94f68a4",
   "metadata": {},
   "outputs": [],
   "source": [
    "(train_X, train_Y), (test_X, test_Y) = keras.datasets.mnist.load_data()"
   ]
  },
  {
   "cell_type": "code",
   "execution_count": 4,
   "id": "9f0d3dc2",
   "metadata": {},
   "outputs": [
    {
     "name": "stdout",
     "output_type": "stream",
     "text": [
      "(60000, 28, 28) (10000, 28, 28) (60000,) (10000,)\n"
     ]
    }
   ],
   "source": [
    "print(train_X.shape, test_X.shape, train_Y.shape, test_Y.shape)"
   ]
  },
  {
   "cell_type": "code",
   "execution_count": 5,
   "id": "0fb790ed",
   "metadata": {},
   "outputs": [
    {
     "name": "stdout",
     "output_type": "stream",
     "text": [
      "0\n",
      "(28, 28)\n"
     ]
    },
    {
     "data": {
      "image/png": "[encoded data removed]",
      "text/plain": [
       "<Figure size 640x480 with 1 Axes>"
      ]
     },
     "metadata": {},
     "output_type": "display_data"
    }
   ],
   "source": [
    "example = train_X[666]\n",
    "print(train_Y[666])\n",
    "plt.imshow(example, cmap = 'gray')\n",
    "print(example.shape)"
   ]
  },
  {
   "cell_type": "code",
   "execution_count": 6,
   "id": "e1ae8d34",
   "metadata": {},
   "outputs": [
    {
     "name": "stdout",
     "output_type": "stream",
     "text": [
      "255\n"
     ]
    }
   ],
   "source": [
    "print(example.max())"
   ]
  },
  {
   "cell_type": "code",
   "execution_count": 7,
   "id": "79e46d28",
   "metadata": {},
   "outputs": [
    {
     "data": {
      "text/plain": [
       "<matplotlib.image.AxesImage at 0x1ad87ec6e50>"
      ]
     },
     "execution_count": 7,
     "metadata": {},
     "output_type": "execute_result"
    },
    {
     "data": {
      "image/png": "[encoded data removed]",
      "text/plain": [
       "<Figure size 640x480 with 1 Axes>"
      ]
     },
     "metadata": {},
     "output_type": "display_data"
    }
   ],
   "source": [
    "example = example/255\n",
    "plt.imshow(example, cmap = 'gray')"
   ]
  },
  {
   "cell_type": "code",
   "execution_count": 8,
   "id": "80abd464",
   "metadata": {},
   "outputs": [
    {
     "name": "stdout",
     "output_type": "stream",
     "text": [
      "1.0\n"
     ]
    }
   ],
   "source": [
    "print(example.max())"
   ]
  },
  {
   "cell_type": "code",
   "execution_count": 9,
   "id": "7186ae06",
   "metadata": {},
   "outputs": [],
   "source": [
    "train_X = train_X/255\n",
    "test_X = test_X/255"
   ]
  },
  {
   "cell_type": "code",
   "execution_count": 10,
   "id": "d344effc",
   "metadata": {},
   "outputs": [
    {
     "name": "stdout",
     "output_type": "stream",
     "text": [
      "(60000, 28, 28)\n"
     ]
    }
   ],
   "source": [
    "print(train_X.shape)"
   ]
  },
  {
   "cell_type": "code",
   "execution_count": 11,
   "id": "57436110",
   "metadata": {},
   "outputs": [],
   "source": [
    "train_X = np.expand_dims(train_X, -1)\n",
    "test_X = np.expand_dims(test_X, -1)"
   ]
  },
  {
   "cell_type": "code",
   "execution_count": 12,
   "id": "7f9aff8f",
   "metadata": {},
   "outputs": [
    {
     "name": "stdout",
     "output_type": "stream",
     "text": [
      "(60000, 28, 28, 1)\n"
     ]
    }
   ],
   "source": [
    "print(train_X.shape)"
   ]
  },
  {
   "cell_type": "code",
   "execution_count": 13,
   "id": "96afdcd1",
   "metadata": {},
   "outputs": [
    {
     "data": {
      "text/plain": [
       "5"
      ]
     },
     "execution_count": 13,
     "metadata": {},
     "output_type": "execute_result"
    }
   ],
   "source": [
    "train_Y[0]"
   ]
  },
  {
   "cell_type": "code",
   "execution_count": 14,
   "id": "7ab28192",
   "metadata": {},
   "outputs": [],
   "source": [
    "train_Y = keras.utils.to_categorical(train_Y)\n",
    "test_Y = keras.utils.to_categorical(test_Y)"
   ]
  },
  {
   "cell_type": "code",
   "execution_count": 15,
   "id": "ff675ec1",
   "metadata": {},
   "outputs": [
    {
     "data": {
      "text/plain": [
       "array([0., 0., 0., 0., 0., 1., 0., 0., 0., 0.], dtype=float32)"
      ]
     },
     "execution_count": 15,
     "metadata": {},
     "output_type": "execute_result"
    }
   ],
   "source": [
    "train_Y[0]"
   ]
  },
  {
   "cell_type": "code",
   "execution_count": 16,
   "id": "d83163be",
   "metadata": {},
   "outputs": [],
   "source": [
    "img_shape = (28, 28, 1)"
   ]
  },
  {
   "cell_type": "code",
   "execution_count": 42,
   "id": "22f5ef4f",
   "metadata": {
    "scrolled": false
   },
   "outputs": [],
   "source": [
    "model = keras.Sequential([\n",
    "    keras.Input(shape = img_shape),\n",
    "    keras.layers.Conv2D(60, kernel_size = (3, 3), strides = (2, 2), padding = 'valid', activation = 'relu'), \n",
    "    keras.layers.MaxPool2D(pool_size = (3, 3), strides = (1, 1), padding = 'same'),\n",
    "    keras.layers.Conv2D(120, kernel_size = (3, 3), strides = (2, 2), padding = 'valid', activation = 'relu'), \n",
    "    keras.layers.MaxPool2D(pool_size = (3, 3), strides = (1, 1), padding = 'same'),\n",
    "    keras.layers.Conv2D(240, kernel_size = (3, 3), strides = (2, 2), padding = 'valid', activation = 'relu'), \n",
    "    keras.layers.MaxPool2D(pool_size = (3, 3), strides = (1, 1), padding = 'same'),\n",
    "    keras.layers.Flatten(),\n",
    "    keras.layers.Dense(500, activation = 'relu'),\n",
    "    keras.layers.Dense(num_class, activation = 'softmax')\n",
    "])"
   ]
  },
  {
   "cell_type": "code",
   "execution_count": 43,
   "id": "3e9ea329",
   "metadata": {},
   "outputs": [
    {
     "name": "stdout",
     "output_type": "stream",
     "text": [
      "Model: \"sequential_2\"\n",
      "_________________________________________________________________\n",
      " Layer (type)                Output Shape              Param #   \n",
      "=================================================================\n",
      " conv2d_6 (Conv2D)           (None, 13, 13, 60)        600       \n",
      "                                                                 \n",
      " max_pooling2d_6 (MaxPoolin  (None, 13, 13, 60)        0         \n",
      " g2D)                                                            \n",
      "                                                                 \n",
      " conv2d_7 (Conv2D)           (None, 6, 6, 120)         64920     \n",
      "                                                                 \n",
      " max_pooling2d_7 (MaxPoolin  (None, 6, 6, 120)         0         \n",
      " g2D)                                                            \n",
      "                                                                 \n",
      " conv2d_8 (Conv2D)           (None, 2, 2, 240)         259440    \n",
      "                                                                 \n",
      " max_pooling2d_8 (MaxPoolin  (None, 2, 2, 240)         0         \n",
      " g2D)                                                            \n",
      "                                                                 \n",
      " flatten_2 (Flatten)         (None, 960)               0         \n",
      "                                                                 \n",
      " dense_4 (Dense)             (None, 500)               480500    \n",
      "                                                                 \n",
      " dense_5 (Dense)             (None, 10)                5010      \n",
      "                                                                 \n",
      "=================================================================\n",
      "Total params: 810470 (3.09 MB)\n",
      "Trainable params: 810470 (3.09 MB)\n",
      "Non-trainable params: 0 (0.00 Byte)\n",
      "_________________________________________________________________\n"
     ]
    }
   ],
   "source": [
    "model.summary()"
   ]
  },
  {
   "cell_type": "code",
   "execution_count": 44,
   "id": "afbbb7d6",
   "metadata": {},
   "outputs": [],
   "source": [
    "model.compile(optimizer = 'Adam', loss = tf.keras.losses.CategoricalCrossentropy(), metrics = [keras.metrics.CategoricalAccuracy()])"
   ]
  },
  {
   "cell_type": "code",
   "execution_count": 45,
   "id": "01397a54",
   "metadata": {},
   "outputs": [
    {
     "name": "stdout",
     "output_type": "stream",
     "text": [
      "Epoch 1/10\n",
      "120/120 [==============================] - 29s 229ms/step - loss: 0.5867 - categorical_accuracy: 0.8074\n",
      "Epoch 2/10\n",
      "120/120 [==============================] - 28s 230ms/step - loss: 0.1127 - categorical_accuracy: 0.9650\n",
      "Epoch 3/10\n",
      "120/120 [==============================] - 28s 231ms/step - loss: 0.0726 - categorical_accuracy: 0.9770\n",
      "Epoch 4/10\n",
      "120/120 [==============================] - 27s 223ms/step - loss: 0.0556 - categorical_accuracy: 0.9823\n",
      "Epoch 5/10\n",
      "120/120 [==============================] - 27s 223ms/step - loss: 0.0457 - categorical_accuracy: 0.9856\n",
      "Epoch 6/10\n",
      "120/120 [==============================] - 27s 223ms/step - loss: 0.0384 - categorical_accuracy: 0.9878\n",
      "Epoch 7/10\n",
      "120/120 [==============================] - 27s 227ms/step - loss: 0.0306 - categorical_accuracy: 0.9901\n",
      "Epoch 8/10\n",
      "120/120 [==============================] - 27s 224ms/step - loss: 0.0253 - categorical_accuracy: 0.9916\n",
      "Epoch 9/10\n",
      "120/120 [==============================] - 26s 221ms/step - loss: 0.0253 - categorical_accuracy: 0.9917\n",
      "Epoch 10/10\n",
      "120/120 [==============================] - 27s 225ms/step - loss: 0.0259 - categorical_accuracy: 0.9912\n"
     ]
    }
   ],
   "source": [
    "hist = model.fit(train_X, train_Y, batch_size = 500, epochs = 10)"
   ]
  },
  {
   "cell_type": "code",
   "execution_count": 46,
   "id": "21f9901e",
   "metadata": {},
   "outputs": [
    {
     "data": {
      "text/plain": [
       "[<matplotlib.lines.Line2D at 0x1ada7971ac0>]"
      ]
     },
     "execution_count": 46,
     "metadata": {},
     "output_type": "execute_result"
    },
    {
     "data": {
      "image/png": "[encoded data removed]",
      "text/plain": [
       "<Figure size 640x480 with 1 Axes>"
      ]
     },
     "metadata": {},
     "output_type": "display_data"
    }
   ],
   "source": [
    "plt.plot(hist.history['loss'])\n",
    "# plt.plot(hist.history['val_loss'])"
   ]
  },
  {
   "cell_type": "code",
   "execution_count": 47,
   "id": "c774335a",
   "metadata": {},
   "outputs": [
    {
     "name": "stdout",
     "output_type": "stream",
     "text": [
      "313/313 [==============================] - 2s 5ms/step - loss: 0.0333 - categorical_accuracy: 0.9888\n"
     ]
    },
    {
     "data": {
      "text/plain": [
       "[0.03331536799669266, 0.9887999892234802]"
      ]
     },
     "execution_count": 47,
     "metadata": {},
     "output_type": "execute_result"
    }
   ],
   "source": [
    "model.evaluate(test_X, test_Y)"
   ]
  },
  {
   "cell_type": "code",
   "execution_count": 48,
   "id": "1b958729",
   "metadata": {},
   "outputs": [
    {
     "name": "stdout",
     "output_type": "stream",
     "text": [
      "[1. 0. 0. 0. 0. 0. 0. 0. 0. 0.]\n",
      "(28, 28, 1)\n",
      "(1, 28, 28, 1)\n",
      "1/1 [==============================] - 0s 94ms/step\n",
      "[[9.9998891e-01 2.3774579e-08 4.5487122e-06 7.7247355e-09 1.1163214e-08\n",
      "  3.1484049e-09 3.1034672e-06 5.8651036e-08 2.5346844e-06 7.8028927e-07]] 0\n",
      "[0.9999889]\n"
     ]
    },
    {
     "data": {
      "image/png": "[encoded data removed]",
      "text/plain": [
       "<Figure size 640x480 with 1 Axes>"
      ]
     },
     "metadata": {},
     "output_type": "display_data"
    }
   ],
   "source": [
    "example = test_X[25]\n",
    "print(test_Y[25])\n",
    "plt.imshow(example, cmap = 'gray')\n",
    "print(example.shape)\n",
    "example = np.expand_dims(example, 0)\n",
    "print(example.shape)\n",
    "pred = model.predict(example)\n",
    "print(pred, np.argmax(pred))\n",
    "print(pred[pred > 0.5])"
   ]
  },
  {
   "cell_type": "code",
   "execution_count": null,
   "id": "f8d6f41f",
   "metadata": {},
   "outputs": [],
   "source": []
  }
 ],
 "metadata": {
  "kernelspec": {
   "display_name": "Python 3 (ipykernel)",
   "language": "python",
   "name": "python3"
  },
  "language_info": {
   "codemirror_mode": {
    "name": "ipython",
    "version": 3
   },
   "file_extension": ".py",
   "mimetype": "text/x-python",
   "name": "python",
   "nbconvert_exporter": "python",
   "pygments_lexer": "ipython3",
   "version": "3.8.10"
  }
 },
 "nbformat": 4,
 "nbformat_minor": 5
}
