{
 "cells": [
  {
   "cell_type": "code",
   "execution_count": 1,
   "metadata": {
    "id": "AdW5pT_cc7QC"
   },
   "outputs": [],
   "source": [
    "import tensorflow\n",
    "from numpy import expand_dims\n",
    "from numpy import zeros\n",
    "from numpy import ones\n",
    "from numpy import vstack\n",
    "from numpy.random import randn\n",
    "from numpy.random import randint\n",
    "from keras.datasets.mnist import load_data\n",
    "from tensorflow.keras.optimizers import Adam\n",
    "from keras.models import Sequential\n",
    "from keras.layers import Dense\n",
    "from keras.layers import Reshape\n",
    "from keras.layers import Flatten\n",
    "from keras.layers import Conv2D\n",
    "from keras.layers import Conv2DTranspose\n",
    "from keras.layers import LeakyReLU\n",
    "from keras.layers import Dropout\n",
    "from matplotlib import pyplot\n",
    "import matplotlib.pyplot as plt"
   ]
  },
  {
   "cell_type": "code",
   "execution_count": 2,
   "metadata": {
    "id": "drTzQ9Rmdp6V"
   },
   "outputs": [],
   "source": [
    "def define_discriminator(in_shape=(28, 28, 1)):\n",
    "    model = Sequential()\n",
    "    model.add(Conv2D(32, (3, 3), strides = (2,2), padding = 'same', input_shape = in_shape))\n",
    "    model.add(LeakyReLU(alpha = 0.2))\n",
    "    model.add(Dropout(0.4))\n",
    "    model.add(Conv2D(64, (3, 3), strides = (2,2), padding = 'same'))\n",
    "    model.add(LeakyReLU(alpha = 0.2))\n",
    "    model.add(Dropout(0.4))\n",
    "    model.add(Flatten())\n",
    "    model.add(Dense(1, activation = 'sigmoid'))\n",
    "\n",
    "    opt = Adam(lr = 0.0002, beta_1 = 0.5)\n",
    "    model.compile(loss = 'binary_crossentropy', optimizer = opt, metrics=['accuracy'])\n",
    "\n",
    "    return model"
   ]
  },
  {
   "cell_type": "code",
   "execution_count": 3,
   "metadata": {
    "id": "UGS36zhdfUcq"
   },
   "outputs": [],
   "source": [
    "def define_generator(latent_dim):\n",
    "    gen_model = Sequential()\n",
    "    n_nodes = 128 * 7 * 7\n",
    "    gen_model.add(Dense(n_nodes, input_dim = latent_dim))\n",
    "    gen_model.add(LeakyReLU(alpha = 0.2))\n",
    "    gen_model.add(Reshape((7, 7, 128)))\n",
    "    #upsample to 14x14\n",
    "    gen_model.add(Conv2DTranspose(128, (4, 4), strides = (2, 2), padding='same'))\n",
    "    gen_model.add(LeakyReLU(alpha = 0.2))\n",
    "    #upsample to 28x28\n",
    "    gen_model.add(Conv2DTranspose(128, (4, 4), strides = (2, 2), padding='same'))\n",
    "    gen_model.add(LeakyReLU(alpha = 0.2))\n",
    "    gen_model.add(Conv2D(1, (7, 7), activation = 'sigmoid', padding='same'))\n",
    "\n",
    "    return gen_model"
   ]
  },
  {
   "cell_type": "code",
   "execution_count": 4,
   "metadata": {
    "id": "ouB5NPF7iD0W"
   },
   "outputs": [],
   "source": [
    "def define_gan(g_model, d_model):\n",
    "    d_model.trainable = False\n",
    "    model = Sequential()\n",
    "    model.add(g_model)\n",
    "    model.add(d_model)\n",
    "\n",
    "    opt = Adam(lr = 0.0002, beta_1 = 0.5)\n",
    "    model.compile(loss = 'binary_crossentropy', optimizer = opt)\n",
    "\n",
    "    return model"
   ]
  },
  {
   "cell_type": "code",
   "execution_count": 5,
   "metadata": {
    "id": "Zlmkb_x7jE4C"
   },
   "outputs": [],
   "source": [
    "def load_real_samples():\n",
    "    (trainX, _), (_, _) = load_data()\n",
    "    X = expand_dims(trainX, axis=-1)\n",
    "    X = X.astype('float32')\n",
    "    X = X/255.0\n",
    "    return X"
   ]
  },
  {
   "cell_type": "code",
   "execution_count": 6,
   "metadata": {
    "id": "_2cSZi0IkG_a"
   },
   "outputs": [],
   "source": [
    "def generate_real_samples(dataset, n_samples):\n",
    "    ix = randint(0, dataset.shape[0], n_samples)\n",
    "    X = dataset[ix]\n",
    "    y = ones((n_samples, 1))\n",
    "    return X, y"
   ]
  },
  {
   "cell_type": "code",
   "execution_count": 7,
   "metadata": {
    "id": "kZGvNkU7k3QH"
   },
   "outputs": [],
   "source": [
    "def generate_latent_points(latent_dim, n_samples):\n",
    "    X_input = randn(latent_dim * n_samples)\n",
    "    X_input = X_input.reshape(n_samples, latent_dim)\n",
    "    return X_input"
   ]
  },
  {
   "cell_type": "code",
   "execution_count": 8,
   "metadata": {
    "id": "WpNBP74MlTvO"
   },
   "outputs": [],
   "source": [
    "def generate_fake_samples(g_model, latent_dim, n_samples):\n",
    "    X_input = generate_latent_points(latent_dim, n_samples)\n",
    "    X = g_model.predict(X_input)\n",
    "    y = zeros((n_samples, 1))\n",
    "    return X, y"
   ]
  },
  {
   "cell_type": "code",
   "execution_count": 9,
   "metadata": {
    "id": "QQF1_D5blz0M"
   },
   "outputs": [],
   "source": [
    "def viz_plot(examples, epoch, n=10):\n",
    "    for i in range(n * n):\n",
    "        pyplot.subplot(n, n, 1+i)\n",
    "        pyplot.axis('off')\n",
    "        pyplot.imshow(examples[i, :, :, 0], cmap = 'gray_r')\n",
    "    filename = 'C:/Users/bhatt/OneDrive/Desktop/whisper-main/DS_PP_11Jun/Data_Science_PP_11_June-main/Data_Science_PP_11_June-main/generated_plot_e%03d.png' % (epoch+1)\n",
    "    pyplot.savefig(filename)\n",
    "    pyplot.close()\n",
    "\n",
    "    return pyplot"
   ]
  },
  {
   "cell_type": "code",
   "execution_count": 10,
   "metadata": {
    "id": "RcXmFJ1_mkfu"
   },
   "outputs": [],
   "source": [
    "def summary(g_model, d_model, dataset, latent_dim, epoch, n_samples = 100):\n",
    "    X_real, y_real = generate_real_samples(dataset, n_samples)\n",
    "\n",
    "    _, acc_real = d_model.evaluate(X_real, y_real, verbose = 0)\n",
    "\n",
    "    X_fake, y_fake = generate_fake_samples(g_model, latent_dim, n_samples)\n",
    "\n",
    "    _, acc_fake = d_model.evaluate(X_fake, y_fake, verbose = 0)\n",
    "\n",
    "    print('> Accuracy real: %.0f%%, fake: %0.0f%%' % (acc_real*100, acc_fake*100))\n",
    "\n",
    "    pyplot = viz_plot(X_fake, epoch)\n",
    "\n",
    "    return pyplot"
   ]
  },
  {
   "cell_type": "code",
   "execution_count": 11,
   "metadata": {
    "id": "1SlA38Rzn51m"
   },
   "outputs": [],
   "source": [
    "def train(g_model, d_model, gan_model, dataset, latent_dim, n_epochs = 100, n_batch = 256):\n",
    "    bat_per_epoch = int(dataset.shape[0] / n_batch)\n",
    "    half_batch = int(n_batch/2)\n",
    "    pyplot = []\n",
    "\n",
    "    for i in range(n_epochs):\n",
    "        for j in range(bat_per_epoch):\n",
    "            X_real, y_real = generate_real_samples(dataset, half_batch)\n",
    "\n",
    "            X_fake, y_fake = generate_fake_samples(g_model, latent_dim, half_batch)\n",
    "\n",
    "            d_loss_real, _ = d_model.train_on_batch(X_real, y_real)\n",
    "            d_loss_fake, _ = d_model.train_on_batch(X_fake, y_fake)\n",
    "\n",
    "            d_loss = d_loss_real + d_loss_fake\n",
    "\n",
    "            X_gan = generate_latent_points(latent_dim, n_batch)\n",
    "\n",
    "            y_gan = ones((n_batch, 1))\n",
    "\n",
    "            g_loss = gan_model.train_on_batch(X_gan, y_gan)\n",
    "\n",
    "            print('> %d, %d/%d, d = %.3f, g=%.3f' % (i+1, j+1, bat_per_epoch, d_loss, g_loss))\n",
    "\n",
    "        if (i) % 10 == 0:\n",
    "            pyplot.append(summary(g_model, d_model, dataset, latent_dim, i))\n",
    "\n",
    "    return pyplot"
   ]
  },
  {
   "cell_type": "code",
   "execution_count": null,
   "metadata": {
    "colab": {
     "base_uri": "https://localhost:8080/"
    },
    "id": "UV0TwYoureSo",
    "outputId": "56541f3c-7144-4580-fdc4-88dff98838c9",
    "scrolled": false
   },
   "outputs": [
    {
     "name": "stderr",
     "output_type": "stream",
     "text": [
      "WARNING:absl:`lr` is deprecated in Keras optimizer, please use `learning_rate` or use the legacy optimizer, e.g.,tf.keras.optimizers.legacy.Adam.\n",
      "WARNING:absl:`lr` is deprecated in Keras optimizer, please use `learning_rate` or use the legacy optimizer, e.g.,tf.keras.optimizers.legacy.Adam.\n"
     ]
    },
    {
     "name": "stdout",
     "output_type": "stream",
     "text": [
      "4/4 [==============================] - 0s 74ms/step\n",
      "> 1, 1/234, d = 1.536, g=0.621\n",
      "4/4 [==============================] - 0s 69ms/step\n",
      "> 1, 2/234, d = 1.394, g=0.708\n",
      "4/4 [==============================] - 0s 74ms/step\n",
      "> 1, 3/234, d = 1.296, g=0.823\n",
      "4/4 [==============================] - 0s 62ms/step\n",
      "> 1, 4/234, d = 1.204, g=0.960\n",
      "4/4 [==============================] - 0s 75ms/step\n",
      "> 1, 5/234, d = 1.105, g=1.137\n",
      "4/4 [==============================] - 0s 71ms/step\n",
      "> 1, 6/234, d = 1.003, g=1.331\n",
      "4/4 [==============================] - 0s 73ms/step\n",
      "> 1, 7/234, d = 0.954, g=1.382\n",
      "4/4 [==============================] - 0s 76ms/step\n",
      "> 1, 8/234, d = 0.988, g=1.129\n",
      "4/4 [==============================] - 0s 67ms/step\n",
      "> 1, 9/234, d = 1.144, g=0.743\n",
      "4/4 [==============================] - 0s 74ms/step\n",
      "> 1, 10/234, d = 1.181, g=0.626\n",
      "4/4 [==============================] - 0s 73ms/step\n",
      "> 1, 11/234, d = 1.069, g=0.646\n",
      "4/4 [==============================] - 0s 67ms/step\n",
      "> 1, 12/234, d = 0.980, g=0.670\n",
      "4/4 [==============================] - 0s 86ms/step\n",
      "> 1, 13/234, d = 0.884, g=0.691\n",
      "4/4 [==============================] - 0s 65ms/step\n"
     ]
    }
   ],
   "source": [
    "latent_dim = 100\n",
    "\n",
    "d_model = define_discriminator()\n",
    "\n",
    "g_model = define_generator(latent_dim)\n",
    "\n",
    "gan_model = define_gan(g_model, d_model)\n",
    "\n",
    "dataset = load_real_samples()\n",
    "\n",
    "plot = train(g_model, d_model, gan_model, dataset, latent_dim)"
   ]
  },
  {
   "cell_type": "code",
   "execution_count": null,
   "metadata": {
    "id": "hxSmFeUP8tAF"
   },
   "outputs": [],
   "source": []
  },
  {
   "cell_type": "code",
   "execution_count": null,
   "metadata": {
    "id": "4MnQ_ro08_Zy"
   },
   "outputs": [],
   "source": []
  }
 ],
 "metadata": {
  "accelerator": "GPU",
  "colab": {
   "provenance": []
  },
  "kernelspec": {
   "display_name": "Python 3 (ipykernel)",
   "language": "python",
   "name": "python3"
  },
  "language_info": {
   "codemirror_mode": {
    "name": "ipython",
    "version": 3
   },
   "file_extension": ".py",
   "mimetype": "text/x-python",
   "name": "python",
   "nbconvert_exporter": "python",
   "pygments_lexer": "ipython3",
   "version": "3.8.10"
  }
 },
 "nbformat": 4,
 "nbformat_minor": 1
}
