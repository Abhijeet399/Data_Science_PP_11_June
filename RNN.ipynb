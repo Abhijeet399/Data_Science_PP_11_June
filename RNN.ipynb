{
  "cells": [
    {
      "cell_type": "code",
      "execution_count": null,
      "metadata": {
        "id": "qCZhZWkbqoMj"
      },
      "outputs": [],
      "source": [
        "import tensorflow as tf\n",
        "import numpy as np\n",
        "from tensorflow.keras.datasets import imdb\n",
        "from tensorflow.keras.models import Sequential\n",
        "from tensorflow.keras.layers import Dense\n",
        "from tensorflow.keras.layers import SimpleRNN\n",
        "from tensorflow.keras.layers import Embedding\n",
        "from tensorflow.keras.preprocessing import sequence"
      ]
    },
    {
      "cell_type": "code",
      "execution_count": null,
      "metadata": {
        "colab": {
          "base_uri": "https://localhost:8080/"
        },
        "id": "2JJOyaU0xiM1",
        "outputId": "71c7f9f6-acec-451a-ffb7-38f8b11d62f5"
      },
      "outputs": [
        {
          "output_type": "stream",
          "name": "stdout",
          "text": [
            "Downloading data from https://storage.googleapis.com/tensorflow/tf-keras-datasets/imdb.npz\n",
            "17464789/17464789 [==============================] - 1s 0us/step\n"
          ]
        }
      ],
      "source": [
        "top_words = 5000\n",
        "(X_train, y_train), (X_test, y_test) = imdb.load_data(num_words=top_words)"
      ]
    },
    {
      "cell_type": "code",
      "execution_count": null,
      "metadata": {
        "colab": {
          "base_uri": "https://localhost:8080/"
        },
        "id": "RjgYJvSaxt3v",
        "outputId": "d09f1c17-627f-4e08-d92d-9597cb69f479"
      },
      "outputs": [
        {
          "output_type": "stream",
          "name": "stdout",
          "text": [
            "(25000,) (25000,) (25000,) (25000,)\n"
          ]
        }
      ],
      "source": [
        "print(X_train.shape, y_train.shape, X_test.shape, y_test.shape)"
      ]
    },
    {
      "cell_type": "code",
      "execution_count": null,
      "metadata": {
        "id": "vVhAuzTHxzmu"
      },
      "outputs": [],
      "source": [
        "max_review_length = 500\n",
        "X_train = sequence.pad_sequences(X_train, maxlen = max_review_length)\n",
        "X_test = sequence.pad_sequences(X_test, maxlen = max_review_length)"
      ]
    },
    {
      "cell_type": "code",
      "execution_count": null,
      "metadata": {
        "colab": {
          "base_uri": "https://localhost:8080/"
        },
        "id": "HI3rGMFByhIb",
        "outputId": "1c9bf86d-e4a2-4084-a7d8-0c0c778aa67c"
      },
      "outputs": [
        {
          "output_type": "execute_result",
          "data": {
            "text/plain": [
              "(25000, 500)"
            ]
          },
          "metadata": {},
          "execution_count": 5
        }
      ],
      "source": [
        "X_train.shape"
      ]
    },
    {
      "cell_type": "code",
      "execution_count": null,
      "metadata": {
        "id": "52ZVfhsiyjJH"
      },
      "outputs": [],
      "source": [
        "embedding_vecor_length = 32\n",
        "model = Sequential()"
      ]
    },
    {
      "cell_type": "code",
      "execution_count": null,
      "metadata": {
        "colab": {
          "base_uri": "https://localhost:8080/"
        },
        "id": "7U_azA6gyyEF",
        "outputId": "28949e7c-c142-40fa-c25a-57e6961ee96a"
      },
      "outputs": [
        {
          "output_type": "stream",
          "name": "stdout",
          "text": [
            "Model: \"sequential\"\n",
            "_________________________________________________________________\n",
            " Layer (type)                Output Shape              Param #   \n",
            "=================================================================\n",
            " embedding (Embedding)       (None, 500, 32)           160000    \n",
            "                                                                 \n",
            " simple_rnn (SimpleRNN)      (None, 100)               13300     \n",
            "                                                                 \n",
            " dense (Dense)               (None, 1)                 101       \n",
            "                                                                 \n",
            "=================================================================\n",
            "Total params: 173,401\n",
            "Trainable params: 173,401\n",
            "Non-trainable params: 0\n",
            "_________________________________________________________________\n",
            "None\n"
          ]
        }
      ],
      "source": [
        "model.add(Embedding(top_words, embedding_vecor_length, input_length = max_review_length))\n",
        "model.add(SimpleRNN(100, dropout = 0.2, recurrent_dropout=0.2))\n",
        "model.add(Dense(1, activation = 'sigmoid'))\n",
        "model.compile(loss='binary_crossentropy', optimizer='adam', metrics=['accuracy'])\n",
        "print(model.summary())"
      ]
    },
    {
      "cell_type": "code",
      "execution_count": null,
      "metadata": {
        "colab": {
          "base_uri": "https://localhost:8080/"
        },
        "id": "4Nl6hDLN0daO",
        "outputId": "a573cfc9-162f-42ac-fe3b-3970a1eb2bd4"
      },
      "outputs": [
        {
          "output_type": "stream",
          "name": "stdout",
          "text": [
            "Epoch 1/1000\n",
            "196/196 [==============================] - 203s 1s/step - loss: 0.7126 - accuracy: 0.4987\n",
            "Epoch 2/1000\n",
            "196/196 [==============================] - 182s 931ms/step - loss: 0.7024 - accuracy: 0.5004\n",
            "Epoch 3/1000\n",
            "196/196 [==============================] - 178s 907ms/step - loss: 0.6972 - accuracy: 0.5119\n",
            "Epoch 4/1000\n",
            "196/196 [==============================] - 176s 899ms/step - loss: 0.6965 - accuracy: 0.5072\n",
            "Epoch 5/1000\n",
            "196/196 [==============================] - 172s 877ms/step - loss: 0.6935 - accuracy: 0.5175\n",
            "Epoch 6/1000\n",
            "196/196 [==============================] - 170s 867ms/step - loss: 0.6935 - accuracy: 0.5170\n",
            "Epoch 7/1000\n",
            "196/196 [==============================] - 172s 878ms/step - loss: 0.6914 - accuracy: 0.5213\n",
            "Epoch 8/1000\n",
            "196/196 [==============================] - 171s 871ms/step - loss: 0.6920 - accuracy: 0.5180\n",
            "Epoch 9/1000\n",
            "196/196 [==============================] - 170s 869ms/step - loss: 0.6902 - accuracy: 0.5264\n",
            "Epoch 10/1000\n",
            "196/196 [==============================] - 170s 867ms/step - loss: 0.6909 - accuracy: 0.5200\n",
            "Epoch 11/1000\n",
            "196/196 [==============================] - 171s 872ms/step - loss: 0.6895 - accuracy: 0.5265\n",
            "Epoch 12/1000\n",
            "196/196 [==============================] - 172s 871ms/step - loss: 0.6901 - accuracy: 0.5248\n",
            "Epoch 13/1000\n",
            "196/196 [==============================] - 172s 878ms/step - loss: 0.6889 - accuracy: 0.5326\n",
            "Epoch 14/1000\n",
            "196/196 [==============================] - 169s 863ms/step - loss: 0.6883 - accuracy: 0.5282\n",
            "Epoch 15/1000\n",
            "196/196 [==============================] - 171s 871ms/step - loss: 0.6853 - accuracy: 0.5390\n",
            "Epoch 16/1000\n",
            "  5/196 [..............................] - ETA: 2:23 - loss: 0.6832 - accuracy: 0.5625"
          ]
        }
      ],
      "source": [
        "model.fit(X_train, y_train, epochs = 1000, batch_size = 128)"
      ]
    },
    {
      "cell_type": "code",
      "execution_count": null,
      "metadata": {
        "id": "rIMrqxAU3aZR"
      },
      "outputs": [],
      "source": [
        "scores = model.evaluate(X_test, y_test ,verbose=0)\n",
        "print(\"Accuracy: \", (scores[1]*100))"
      ]
    },
    {
      "cell_type": "code",
      "execution_count": null,
      "metadata": {
        "id": "CaOE-aCR6ODP"
      },
      "outputs": [],
      "source": []
    }
  ],
  "metadata": {
    "colab": {
      "provenance": [],
      "gpuType": "T4"
    },
    "kernelspec": {
      "display_name": "Python 3",
      "name": "python3"
    },
    "language_info": {
      "name": "python"
    },
    "accelerator": "GPU",
    "gpuClass": "standard"
  },
  "nbformat": 4,
  "nbformat_minor": 0
}