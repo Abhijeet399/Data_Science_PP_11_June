{
 "cells": [
  {
   "cell_type": "code",
   "execution_count": 9,
   "id": "bb30cf3b",
   "metadata": {},
   "outputs": [],
   "source": [
    "file = open('file.txt', 'w')"
   ]
  },
  {
   "cell_type": "code",
   "execution_count": 40,
   "id": "fc56296a",
   "metadata": {},
   "outputs": [],
   "source": [
    "file = open('file.txt', 'r')"
   ]
  },
  {
   "cell_type": "code",
   "execution_count": 41,
   "id": "08e49973",
   "metadata": {},
   "outputs": [
    {
     "name": "stdout",
     "output_type": "stream",
     "text": [
      "<_io.TextIOWrapper name='file.txt' mode='r' encoding='cp1252'>\n"
     ]
    }
   ],
   "source": [
    "print(file)"
   ]
  },
  {
   "cell_type": "code",
   "execution_count": 42,
   "id": "41920757",
   "metadata": {},
   "outputs": [],
   "source": [
    "# open?"
   ]
  },
  {
   "cell_type": "code",
   "execution_count": 43,
   "id": "c39937f6",
   "metadata": {},
   "outputs": [],
   "source": [
    "text = file.read()"
   ]
  },
  {
   "cell_type": "code",
   "execution_count": 47,
   "id": "ee95fe9f",
   "metadata": {},
   "outputs": [
    {
     "data": {
      "text/plain": [
       "str"
      ]
     },
     "execution_count": 47,
     "metadata": {},
     "output_type": "execute_result"
    }
   ],
   "source": [
    "type(text)"
   ]
  },
  {
   "cell_type": "code",
   "execution_count": 44,
   "id": "2879c117",
   "metadata": {},
   "outputs": [
    {
     "name": "stdout",
     "output_type": "stream",
     "text": [
      "Hello, my name is Abhijeet!\n",
      "Today is Sunday.\n",
      "Good Morning\n"
     ]
    }
   ],
   "source": [
    "print(text)\n",
    "file.close()"
   ]
  },
  {
   "cell_type": "code",
   "execution_count": 46,
   "id": "e55fe7f0",
   "metadata": {},
   "outputs": [
    {
     "name": "stdout",
     "output_type": "stream",
     "text": [
      "Hello, my name is Abhijeet!\n",
      "Today is Sunday.\n",
      "Good Morning\n"
     ]
    }
   ],
   "source": [
    "file = open('file.txt', 'r')\n",
    "print(file.read())\n",
    "file.close()"
   ]
  },
  {
   "cell_type": "code",
   "execution_count": 78,
   "id": "148e29a8",
   "metadata": {},
   "outputs": [],
   "source": [
    "file = open('file.txt', 'r')"
   ]
  },
  {
   "cell_type": "code",
   "execution_count": 79,
   "id": "f466c183",
   "metadata": {},
   "outputs": [],
   "source": [
    "text = file.read(10)"
   ]
  },
  {
   "cell_type": "code",
   "execution_count": 80,
   "id": "bd4f19ae",
   "metadata": {},
   "outputs": [
    {
     "name": "stdout",
     "output_type": "stream",
     "text": [
      "Hello, my \n"
     ]
    }
   ],
   "source": [
    "print(text)"
   ]
  },
  {
   "cell_type": "code",
   "execution_count": 81,
   "id": "9bca6667",
   "metadata": {},
   "outputs": [
    {
     "name": "stdout",
     "output_type": "stream",
     "text": [
      "name is Ab\n"
     ]
    }
   ],
   "source": [
    "print(file.read(10))"
   ]
  },
  {
   "cell_type": "code",
   "execution_count": 82,
   "id": "5bc05e99",
   "metadata": {},
   "outputs": [
    {
     "name": "stdout",
     "output_type": "stream",
     "text": [
      "hijeet!\n",
      "Today is Sunday.\n",
      "Good Morning\n"
     ]
    }
   ],
   "source": [
    "print(file.read())\n",
    "file.close()"
   ]
  },
  {
   "cell_type": "code",
   "execution_count": 104,
   "id": "f2811819",
   "metadata": {},
   "outputs": [],
   "source": [
    "file = open('file.txt', 'r')"
   ]
  },
  {
   "cell_type": "code",
   "execution_count": 106,
   "id": "1e5729e4",
   "metadata": {},
   "outputs": [
    {
     "name": "stdout",
     "output_type": "stream",
     "text": [
      "hijeet!\n",
      "Today is Sun\n"
     ]
    }
   ],
   "source": [
    "text = file.read(20)\n",
    "print(text)"
   ]
  },
  {
   "cell_type": "code",
   "execution_count": 107,
   "id": "0f148661",
   "metadata": {},
   "outputs": [
    {
     "name": "stdout",
     "output_type": "stream",
     "text": [
      "ello, my name is Abh\n"
     ]
    }
   ],
   "source": [
    "file.seek(1)\n",
    "print(file.read(20))"
   ]
  },
  {
   "cell_type": "code",
   "execution_count": 108,
   "id": "3933c15a",
   "metadata": {},
   "outputs": [
    {
     "name": "stdout",
     "output_type": "stream",
     "text": [
      "d Morning\n"
     ]
    }
   ],
   "source": [
    "file.seek(50)\n",
    "print(file.read())\n",
    "file.close()"
   ]
  },
  {
   "cell_type": "code",
   "execution_count": 109,
   "id": "922e705e",
   "metadata": {},
   "outputs": [],
   "source": [
    "file = open('C:/Users/bhatt/OneDrive/Desktop/whisper-main/DS_PP_11Jun/Data_Science_PP_11_June-main\\\\hello.txt', 'r')"
   ]
  },
  {
   "cell_type": "code",
   "execution_count": 110,
   "id": "d4104b1f",
   "metadata": {},
   "outputs": [
    {
     "name": "stdout",
     "output_type": "stream",
     "text": [
      "Hello world!\n"
     ]
    }
   ],
   "source": [
    "print(file.read())"
   ]
  },
  {
   "cell_type": "code",
   "execution_count": 111,
   "id": "12f7efcc",
   "metadata": {},
   "outputs": [],
   "source": [
    "file.close()"
   ]
  },
  {
   "cell_type": "code",
   "execution_count": 112,
   "id": "414a7b16",
   "metadata": {},
   "outputs": [],
   "source": [
    "file = open('file.txt', 'r')"
   ]
  },
  {
   "cell_type": "code",
   "execution_count": 121,
   "id": "64d8758b",
   "metadata": {},
   "outputs": [
    {
     "name": "stdout",
     "output_type": "stream",
     "text": [
      "Today is Sunday.\n",
      "\n"
     ]
    }
   ],
   "source": [
    "file.seek(0)\n",
    "text = file.readline()\n",
    "print(text)"
   ]
  },
  {
   "cell_type": "code",
   "execution_count": 123,
   "id": "c82e595d",
   "metadata": {},
   "outputs": [],
   "source": [
    "file.close()"
   ]
  },
  {
   "cell_type": "code",
   "execution_count": 128,
   "id": "5e260003",
   "metadata": {},
   "outputs": [
    {
     "name": "stdout",
     "output_type": "stream",
     "text": [
      "Hello, my name is Abhijeet!\n",
      "\n",
      "Today is Sunday.\n",
      "\n"
     ]
    }
   ],
   "source": [
    "file = open('file.txt', 'r')\n",
    "for i in range(2):\n",
    "    print(file.readline())\n",
    "file.close()"
   ]
  },
  {
   "cell_type": "code",
   "execution_count": 149,
   "id": "a0f65c2a",
   "metadata": {},
   "outputs": [],
   "source": [
    "file = open('file.txt', 'r')\n",
    "# print(file.readlines())\n",
    "# file.close()"
   ]
  },
  {
   "cell_type": "code",
   "execution_count": 150,
   "id": "17c082ab",
   "metadata": {},
   "outputs": [
    {
     "name": "stdout",
     "output_type": "stream",
     "text": [
      "Hello, my name is Abhijeet!\n",
      "Today is Sunday.\n",
      "Good Morning"
     ]
    }
   ],
   "source": [
    "for i in file.readlines():\n",
    "    print(i, end='')"
   ]
  },
  {
   "cell_type": "code",
   "execution_count": 151,
   "id": "4a0bb181",
   "metadata": {},
   "outputs": [],
   "source": [
    "file.close()"
   ]
  },
  {
   "cell_type": "code",
   "execution_count": 159,
   "id": "4d5ece27",
   "metadata": {},
   "outputs": [
    {
     "name": "stdout",
     "output_type": "stream",
     "text": [
      "Hello, my name is Abhijeet!\n",
      "Today is Sunday.\n",
      "Good Morning\n",
      "['Hello, my name is Abhijeet!\\n', 'Today is Sunday.\\n', 'Good Morning']\n"
     ]
    }
   ],
   "source": [
    "with open('file.txt', 'r') as file:\n",
    "    print(file.read())\n",
    "    file.seek(0)\n",
    "    print(file.readlines())"
   ]
  },
  {
   "cell_type": "code",
   "execution_count": 163,
   "id": "34283a37",
   "metadata": {},
   "outputs": [],
   "source": [
    "file = open('hello.txt', 'w')"
   ]
  },
  {
   "cell_type": "code",
   "execution_count": 164,
   "id": "8ee9695b",
   "metadata": {},
   "outputs": [
    {
     "data": {
      "text/plain": [
       "33"
      ]
     },
     "execution_count": 164,
     "metadata": {},
     "output_type": "execute_result"
    }
   ],
   "source": [
    "file.write('Hello World! My name is Abhijeet!')"
   ]
  },
  {
   "cell_type": "code",
   "execution_count": 165,
   "id": "63265a03",
   "metadata": {},
   "outputs": [],
   "source": [
    "file.close()"
   ]
  },
  {
   "cell_type": "code",
   "execution_count": 169,
   "id": "23a7d3b6",
   "metadata": {},
   "outputs": [
    {
     "name": "stdout",
     "output_type": "stream",
     "text": [
      "Name?ABhijeet'\n",
      "Age?23\n",
      "Marks90\n",
      "Name?Sarvesh\\\n",
      "Age?20\n",
      "Marks99\n"
     ]
    }
   ],
   "source": [
    "file = open('student.txt', 'w')\n",
    "for i in range(2):\n",
    "    inp_name = input('Name?')\n",
    "    inp_age = input('Age?')\n",
    "    inp_markss = input('Marks')\n",
    "    file.write(f'Name of student is {inp_name}, age is {inp_age}, marks: {inp_markss}')\n",
    "    file.write('\\n')\n",
    "file.close()"
   ]
  },
  {
   "cell_type": "code",
   "execution_count": 171,
   "id": "21901527",
   "metadata": {},
   "outputs": [
    {
     "name": "stdout",
     "output_type": "stream",
     "text": [
      "Name?Arushi\n",
      "Age?20\n",
      "Marks100\n",
      "Name?Harshita\n",
      "Age?20\n",
      "Marks100\n"
     ]
    }
   ],
   "source": [
    "file = open('C:/Users/bhatt/OneDrive/Desktop/whisper-main/DS_PP_11Jun/Data_Science_PP_11_June-main/student.txt', 'a')\n",
    "for i in range(2):\n",
    "    inp_name = input('Name?')\n",
    "    inp_age = input('Age?')\n",
    "    inp_markss = input('Marks')\n",
    "    file.write(f'Name of student is {inp_name}, age is {inp_age}, marks: {inp_markss}')\n",
    "    file.write('\\n')\n",
    "file.close()"
   ]
  },
  {
   "cell_type": "code",
   "execution_count": 173,
   "id": "eb048112",
   "metadata": {},
   "outputs": [
    {
     "name": "stdout",
     "output_type": "stream",
     "text": [
      "Name?Sudhir\n",
      "Age?20\n",
      "Marks100\n",
      "Name?Akhilesh\n",
      "Age?20\n",
      "Marks100\n"
     ]
    }
   ],
   "source": [
    "with open('student.txt', 'a') as file:\n",
    "    for i in range(2):\n",
    "        inp_name = input('Name?')\n",
    "        inp_age = input('Age?')\n",
    "        inp_markss = input('Marks')\n",
    "        file.write(f'Name of student is {inp_name}, age is {inp_age}, marks: {inp_markss}')\n",
    "        file.write('\\n')"
   ]
  },
  {
   "cell_type": "code",
   "execution_count": 174,
   "id": "32e42aad",
   "metadata": {},
   "outputs": [],
   "source": [
    "def divide(a, b):\n",
    "    return a/b"
   ]
  },
  {
   "cell_type": "code",
   "execution_count": 189,
   "id": "b3d0db2e",
   "metadata": {},
   "outputs": [
    {
     "name": "stdout",
     "output_type": "stream",
     "text": [
      "5\n",
      "3\n",
      "1.6666666666666667\n",
      "Chalega hi chalega\n"
     ]
    }
   ],
   "source": [
    "try:\n",
    "    a = int(input())\n",
    "    b = int(input())\n",
    "    print(divide(a, b))\n",
    "except:\n",
    "    print('Division by zero')\n",
    "finally:\n",
    "    print('Chalega hi chalega')\n",
    "#     divide(2, 0)"
   ]
  },
  {
   "cell_type": "code",
   "execution_count": null,
   "id": "fd99b479",
   "metadata": {},
   "outputs": [],
   "source": []
  }
 ],
 "metadata": {
  "kernelspec": {
   "display_name": "Python 3 (ipykernel)",
   "language": "python",
   "name": "python3"
  },
  "language_info": {
   "codemirror_mode": {
    "name": "ipython",
    "version": 3
   },
   "file_extension": ".py",
   "mimetype": "text/x-python",
   "name": "python",
   "nbconvert_exporter": "python",
   "pygments_lexer": "ipython3",
   "version": "3.8.10"
  }
 },
 "nbformat": 4,
 "nbformat_minor": 5
}
