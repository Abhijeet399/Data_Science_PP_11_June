{
 "cells": [
  {
   "cell_type": "code",
   "execution_count": 1,
   "id": "2a63a3cc",
   "metadata": {},
   "outputs": [],
   "source": [
    "a = 1"
   ]
  },
  {
   "cell_type": "code",
   "execution_count": 2,
   "id": "28666e31",
   "metadata": {},
   "outputs": [
    {
     "name": "stdout",
     "output_type": "stream",
     "text": [
      "<class 'int'>\n"
     ]
    }
   ],
   "source": [
    "print(type(a))"
   ]
  },
  {
   "cell_type": "code",
   "execution_count": 3,
   "id": "c3ac2e43",
   "metadata": {},
   "outputs": [],
   "source": [
    "def temp():\n",
    "    print(\"Hello world\")\n",
    "    print(1+2)\n",
    "    return 0"
   ]
  },
  {
   "cell_type": "code",
   "execution_count": 4,
   "id": "dd83b7fc",
   "metadata": {},
   "outputs": [
    {
     "name": "stdout",
     "output_type": "stream",
     "text": [
      "Hello world\n",
      "3\n",
      "0\n"
     ]
    }
   ],
   "source": [
    "print(temp())"
   ]
  },
  {
   "cell_type": "code",
   "execution_count": 5,
   "id": "a041df8c",
   "metadata": {},
   "outputs": [
    {
     "name": "stdout",
     "output_type": "stream",
     "text": [
      "<function temp at 0x0000013F7AD4DCA0>\n"
     ]
    }
   ],
   "source": [
    "print(temp)"
   ]
  },
  {
   "cell_type": "code",
   "execution_count": 6,
   "id": "e3478006",
   "metadata": {},
   "outputs": [
    {
     "ename": "TypeError",
     "evalue": "'str' object is not callable",
     "output_type": "error",
     "traceback": [
      "\u001b[1;31m---------------------------------------------------------------------------\u001b[0m",
      "\u001b[1;31mTypeError\u001b[0m                                 Traceback (most recent call last)",
      "Cell \u001b[1;32mIn[6], line 2\u001b[0m\n\u001b[0;32m      1\u001b[0m b \u001b[38;5;241m=\u001b[39m \u001b[38;5;124m'\u001b[39m\u001b[38;5;124mhello\u001b[39m\u001b[38;5;124m'\u001b[39m\n\u001b[1;32m----> 2\u001b[0m \u001b[43mb\u001b[49m\u001b[43m(\u001b[49m\u001b[43m)\u001b[49m\n",
      "\u001b[1;31mTypeError\u001b[0m: 'str' object is not callable"
     ]
    }
   ],
   "source": [
    "b = 'hello'\n",
    "b()"
   ]
  },
  {
   "cell_type": "code",
   "execution_count": 7,
   "id": "8402f658",
   "metadata": {},
   "outputs": [
    {
     "ename": "SyntaxError",
     "evalue": "unexpected EOF while parsing (2840398144.py, line 2)",
     "output_type": "error",
     "traceback": [
      "\u001b[1;36m  Cell \u001b[1;32mIn[7], line 2\u001b[1;36m\u001b[0m\n\u001b[1;33m    #     soihgf\u001b[0m\n\u001b[1;37m                ^\u001b[0m\n\u001b[1;31mSyntaxError\u001b[0m\u001b[1;31m:\u001b[0m unexpected EOF while parsing\n"
     ]
    }
   ],
   "source": [
    "def adder():\n",
    "#     soihgf"
   ]
  },
  {
   "cell_type": "code",
   "execution_count": 8,
   "id": "2d3b6c71",
   "metadata": {},
   "outputs": [],
   "source": [
    "# adder()"
   ]
  },
  {
   "cell_type": "code",
   "execution_count": 9,
   "id": "d01708bb",
   "metadata": {},
   "outputs": [],
   "source": [
    "def adder(a, b):\n",
    "    print(a)\n",
    "    print(b)\n",
    "    c = a+b\n",
    "    return c"
   ]
  },
  {
   "cell_type": "code",
   "execution_count": 10,
   "id": "64ed5c23",
   "metadata": {},
   "outputs": [
    {
     "name": "stdout",
     "output_type": "stream",
     "text": [
      "1\n",
      "2\n",
      "3\n"
     ]
    }
   ],
   "source": [
    "print(adder(1, 2))"
   ]
  },
  {
   "cell_type": "code",
   "execution_count": 11,
   "id": "d99b4a23",
   "metadata": {},
   "outputs": [
    {
     "name": "stdout",
     "output_type": "stream",
     "text": [
      "1\n",
      "2\n"
     ]
    }
   ],
   "source": [
    "var = adder(1, 2)"
   ]
  },
  {
   "cell_type": "code",
   "execution_count": 12,
   "id": "824313d4",
   "metadata": {},
   "outputs": [
    {
     "name": "stdout",
     "output_type": "stream",
     "text": [
      "3\n"
     ]
    }
   ],
   "source": [
    "print(var)"
   ]
  },
  {
   "cell_type": "markdown",
   "id": "d0482e86",
   "metadata": {},
   "source": [
    "# In python there are 3 types of arguments "
   ]
  },
  {
   "cell_type": "markdown",
   "id": "10f54c33",
   "metadata": {},
   "source": [
    "1. Positional Argument\n",
    "2. Default Argument\n",
    "3. Varible length Argument"
   ]
  },
  {
   "cell_type": "code",
   "execution_count": 13,
   "id": "6db9b230",
   "metadata": {},
   "outputs": [],
   "source": [
    "def adder(a, b, c):\n",
    "    print(a)\n",
    "    print(b)\n",
    "    print(c)\n",
    "    c = a+b+c\n",
    "    return c"
   ]
  },
  {
   "cell_type": "code",
   "execution_count": 14,
   "id": "50279dd2",
   "metadata": {},
   "outputs": [
    {
     "name": "stdout",
     "output_type": "stream",
     "text": [
      "10\n",
      "20\n",
      "30\n"
     ]
    }
   ],
   "source": [
    "var = adder(10, 20, 30)"
   ]
  },
  {
   "cell_type": "code",
   "execution_count": 15,
   "id": "68c4b168",
   "metadata": {},
   "outputs": [
    {
     "data": {
      "text/plain": [
       "60"
      ]
     },
     "execution_count": 15,
     "metadata": {},
     "output_type": "execute_result"
    }
   ],
   "source": [
    "var"
   ]
  },
  {
   "cell_type": "code",
   "execution_count": 16,
   "id": "8ca4aadc",
   "metadata": {},
   "outputs": [],
   "source": [
    "# def my_func(arg_1, arg_2):\n",
    "#     print(arg_1, arg_2)"
   ]
  },
  {
   "cell_type": "code",
   "execution_count": 17,
   "id": "59c0c674",
   "metadata": {},
   "outputs": [
    {
     "name": "stdout",
     "output_type": "stream",
     "text": [
      "10\n",
      "20\n",
      "30\n"
     ]
    },
    {
     "data": {
      "text/plain": [
       "60"
      ]
     },
     "execution_count": 17,
     "metadata": {},
     "output_type": "execute_result"
    }
   ],
   "source": [
    "adder(10, 20, 30)"
   ]
  },
  {
   "cell_type": "code",
   "execution_count": 18,
   "id": "2bd689c5",
   "metadata": {},
   "outputs": [],
   "source": [
    "def adder(a, b, c = 0):\n",
    "    print(a)\n",
    "    print(b)\n",
    "    print(c)\n",
    "    c = a+b+c\n",
    "    return c"
   ]
  },
  {
   "cell_type": "code",
   "execution_count": 19,
   "id": "ebc29b3e",
   "metadata": {},
   "outputs": [
    {
     "name": "stdout",
     "output_type": "stream",
     "text": [
      "10\n",
      "20\n",
      "30\n",
      "60\n"
     ]
    }
   ],
   "source": [
    "print(adder(10, 20, 30))"
   ]
  },
  {
   "cell_type": "code",
   "execution_count": 20,
   "id": "7a6cbf4d",
   "metadata": {},
   "outputs": [
    {
     "name": "stdout",
     "output_type": "stream",
     "text": [
      "10\n",
      "20\n",
      "0\n",
      "30\n"
     ]
    }
   ],
   "source": [
    "print(adder(10, 20))"
   ]
  },
  {
   "cell_type": "code",
   "execution_count": 21,
   "id": "0979501e",
   "metadata": {},
   "outputs": [
    {
     "name": "stdout",
     "output_type": "stream",
     "text": [
      "1\n",
      "2\n",
      "0\n"
     ]
    },
    {
     "data": {
      "text/plain": [
       "3"
      ]
     },
     "execution_count": 21,
     "metadata": {},
     "output_type": "execute_result"
    }
   ],
   "source": [
    "adder(1, 2)"
   ]
  },
  {
   "cell_type": "code",
   "execution_count": 22,
   "id": "e73b2798",
   "metadata": {},
   "outputs": [],
   "source": [
    "def calculator(a, b):\n",
    "    return (a+b), (a-b), (a*b), (a/b)"
   ]
  },
  {
   "cell_type": "code",
   "execution_count": 23,
   "id": "1995bd96",
   "metadata": {},
   "outputs": [
    {
     "name": "stdout",
     "output_type": "stream",
     "text": [
      "(3, -1, 2, 0.5)\n"
     ]
    }
   ],
   "source": [
    "print(calculator(1, 2))"
   ]
  },
  {
   "cell_type": "code",
   "execution_count": 24,
   "id": "0e2a86af",
   "metadata": {},
   "outputs": [],
   "source": [
    "print?"
   ]
  },
  {
   "cell_type": "markdown",
   "id": "fd76562c",
   "metadata": {},
   "source": [
    "*Args and **Kwargs"
   ]
  },
  {
   "cell_type": "code",
   "execution_count": 25,
   "id": "1528593b",
   "metadata": {},
   "outputs": [],
   "source": [
    "def adder(a, b, c = 0):\n",
    "    print(a+b+c)"
   ]
  },
  {
   "cell_type": "code",
   "execution_count": 26,
   "id": "b15bd179",
   "metadata": {},
   "outputs": [
    {
     "name": "stdout",
     "output_type": "stream",
     "text": [
      "20\n"
     ]
    }
   ],
   "source": [
    "adder(9, 9, 2)"
   ]
  },
  {
   "cell_type": "code",
   "execution_count": 27,
   "id": "689e1ab9",
   "metadata": {},
   "outputs": [],
   "source": [
    "def adder(a, b, *args):\n",
    "    c = 1\n",
    "    print(a+b)\n",
    "    print(args)"
   ]
  },
  {
   "cell_type": "code",
   "execution_count": 28,
   "id": "f43cf25f",
   "metadata": {},
   "outputs": [
    {
     "name": "stdout",
     "output_type": "stream",
     "text": [
      "3\n",
      "(3.0, 4, 5, 6, 2, 2, 66, 55, 'abhijeet')\n"
     ]
    }
   ],
   "source": [
    "adder(1, 2, 3.0, 4, 5, 6, 2, 2, 66, 55, 'abhijeet')"
   ]
  },
  {
   "cell_type": "markdown",
   "id": "d6fd45b4",
   "metadata": {},
   "source": [
    "# Loops: For and While"
   ]
  },
  {
   "cell_type": "markdown",
   "id": "a4efd4ba",
   "metadata": {},
   "source": [
    "For loops"
   ]
  },
  {
   "cell_type": "code",
   "execution_count": 29,
   "id": "e82eadb1",
   "metadata": {},
   "outputs": [
    {
     "name": "stdout",
     "output_type": "stream",
     "text": [
      "5\n",
      "6\n",
      "7\n",
      "8\n",
      "9\n",
      "15120\n"
     ]
    }
   ],
   "source": [
    "temp = 1\n",
    "for i in range(5, 10):\n",
    "    \n",
    "    print(i)\n",
    "    temp = temp*i\n",
    "print(temp)"
   ]
  },
  {
   "cell_type": "code",
   "execution_count": 30,
   "id": "8026b81c",
   "metadata": {},
   "outputs": [
    {
     "data": {
      "text/plain": [
       "15120"
      ]
     },
     "execution_count": 30,
     "metadata": {},
     "output_type": "execute_result"
    }
   ],
   "source": [
    "temp"
   ]
  },
  {
   "cell_type": "code",
   "execution_count": 31,
   "id": "da84e504",
   "metadata": {},
   "outputs": [],
   "source": [
    "def adder(a, b, *args):\n",
    "    a = a + b\n",
    "    print(args)\n",
    "    for i in args:\n",
    "        a = a + i\n",
    "    print(a)"
   ]
  },
  {
   "cell_type": "code",
   "execution_count": 32,
   "id": "328d7a94",
   "metadata": {},
   "outputs": [
    {
     "name": "stdout",
     "output_type": "stream",
     "text": [
      "(3.0, 4, 5, 6, 2, 2, 66, 55)\n",
      "146.0\n"
     ]
    }
   ],
   "source": [
    "adder(1, 2, 3.0, 4, 5, 6, 2, 2, 66, 55)"
   ]
  },
  {
   "cell_type": "code",
   "execution_count": 33,
   "id": "900c49d9",
   "metadata": {},
   "outputs": [],
   "source": [
    "def adder(a, b, *args):\n",
    "    a+=b\n",
    "    print(args)\n",
    "    for i in args:\n",
    "        a+=i\n",
    "    print(a)"
   ]
  },
  {
   "cell_type": "code",
   "execution_count": 34,
   "id": "43ce0525",
   "metadata": {},
   "outputs": [
    {
     "name": "stdout",
     "output_type": "stream",
     "text": [
      "(3.0, 4, 5, 6, 2, 2, 66, 55)\n",
      "146.0\n"
     ]
    }
   ],
   "source": [
    "adder(1, 2, 3.0, 4, 5, 6, 2, 2, 66, 55)"
   ]
  },
  {
   "cell_type": "code",
   "execution_count": 35,
   "id": "700abb03",
   "metadata": {},
   "outputs": [],
   "source": [
    "x = 1\n",
    "y = 2"
   ]
  },
  {
   "cell_type": "code",
   "execution_count": 70,
   "id": "683bba35",
   "metadata": {},
   "outputs": [],
   "source": [
    "def func():\n",
    "    print(y)\n",
    "#     y += t\n",
    "    aa = 11\n",
    "#     y = y + t\n",
    "    print(x, y, a)\n",
    "    return aa"
   ]
  },
  {
   "cell_type": "code",
   "execution_count": 71,
   "id": "173fc556",
   "metadata": {},
   "outputs": [
    {
     "name": "stdout",
     "output_type": "stream",
     "text": [
      "2\n",
      "9 2 1\n"
     ]
    }
   ],
   "source": [
    "aa = func()"
   ]
  },
  {
   "cell_type": "code",
   "execution_count": 72,
   "id": "acaaba11",
   "metadata": {},
   "outputs": [],
   "source": [
    "x = 9\n",
    "def adder():\n",
    "    print(x)"
   ]
  },
  {
   "cell_type": "code",
   "execution_count": 73,
   "id": "d9a5235a",
   "metadata": {},
   "outputs": [
    {
     "name": "stdout",
     "output_type": "stream",
     "text": [
      "9\n"
     ]
    }
   ],
   "source": [
    "adder()"
   ]
  },
  {
   "cell_type": "code",
   "execution_count": 74,
   "id": "90c001d8",
   "metadata": {},
   "outputs": [
    {
     "name": "stdout",
     "output_type": "stream",
     "text": [
      "9 2 11\n"
     ]
    }
   ],
   "source": [
    "print(x, y, aa)"
   ]
  },
  {
   "cell_type": "markdown",
   "id": "d269e5f2",
   "metadata": {},
   "source": [
    "WHILE LOOP"
   ]
  },
  {
   "cell_type": "code",
   "execution_count": 5,
   "id": "426d0d1a",
   "metadata": {},
   "outputs": [
    {
     "name": "stdout",
     "output_type": "stream",
     "text": [
      "Hello0Hello1Hello2Hello3Hello4"
     ]
    }
   ],
   "source": [
    "a = 0\n",
    "while (a<5):\n",
    "    print(\"Hello\", a, sep='', end=\"\")\n",
    "    a = a + 1"
   ]
  },
  {
   "cell_type": "code",
   "execution_count": 82,
   "id": "28b4a07a",
   "metadata": {},
   "outputs": [
    {
     "name": "stdout",
     "output_type": "stream",
     "text": [
      "1\n",
      "11\n"
     ]
    }
   ],
   "source": [
    "for i in range(1, 21, 10):\n",
    "    print(i)"
   ]
  },
  {
   "cell_type": "code",
   "execution_count": 83,
   "id": "0609cbe5",
   "metadata": {},
   "outputs": [
    {
     "name": "stdout",
     "output_type": "stream",
     "text": [
      "A\n",
      "b\n",
      "h\n",
      "i\n",
      "j\n",
      "e\n",
      "e\n",
      "t\n"
     ]
    }
   ],
   "source": [
    "aa = 'Abhijeet'\n",
    "for i in aa:\n",
    "    print(i)"
   ]
  },
  {
   "cell_type": "code",
   "execution_count": 84,
   "id": "bbcbb107",
   "metadata": {},
   "outputs": [
    {
     "data": {
      "text/plain": [
       "bool"
      ]
     },
     "execution_count": 84,
     "metadata": {},
     "output_type": "execute_result"
    }
   ],
   "source": [
    "s = True\n",
    "type(s)"
   ]
  },
  {
   "cell_type": "code",
   "execution_count": 90,
   "id": "4f9c6777",
   "metadata": {},
   "outputs": [],
   "source": [
    "def type_input(a):\n",
    "    print(type(a))\n",
    "    for i in a:\n",
    "        print(type(i))\n",
    "#     return type(a)"
   ]
  },
  {
   "cell_type": "code",
   "execution_count": 91,
   "id": "6c0964fb",
   "metadata": {},
   "outputs": [
    {
     "name": "stdout",
     "output_type": "stream",
     "text": [
      "<class 'tuple'>\n",
      "<class 'str'>\n",
      "<class 'str'>\n",
      "<class 'str'>\n",
      "<class 'str'>\n",
      "<class 'int'>\n"
     ]
    }
   ],
   "source": [
    "type_input(('1','2','3','4',5))"
   ]
  },
  {
   "cell_type": "code",
   "execution_count": 92,
   "id": "c6413e9f",
   "metadata": {},
   "outputs": [
    {
     "name": "stdout",
     "output_type": "stream",
     "text": [
      "<class 'int'>\n"
     ]
    },
    {
     "ename": "TypeError",
     "evalue": "'int' object is not iterable",
     "output_type": "error",
     "traceback": [
      "\u001b[1;31m---------------------------------------------------------------------------\u001b[0m",
      "\u001b[1;31mTypeError\u001b[0m                                 Traceback (most recent call last)",
      "Cell \u001b[1;32mIn[92], line 1\u001b[0m\n\u001b[1;32m----> 1\u001b[0m \u001b[43mtype_input\u001b[49m\u001b[43m(\u001b[49m\u001b[38;5;241;43m0\u001b[39;49m\u001b[43m)\u001b[49m\n",
      "Cell \u001b[1;32mIn[90], line 3\u001b[0m, in \u001b[0;36mtype_input\u001b[1;34m(a)\u001b[0m\n\u001b[0;32m      1\u001b[0m \u001b[38;5;28;01mdef\u001b[39;00m \u001b[38;5;21mtype_input\u001b[39m(a):\n\u001b[0;32m      2\u001b[0m     \u001b[38;5;28mprint\u001b[39m(\u001b[38;5;28mtype\u001b[39m(a))\n\u001b[1;32m----> 3\u001b[0m     \u001b[38;5;28;01mfor\u001b[39;00m i \u001b[38;5;129;01min\u001b[39;00m a:\n\u001b[0;32m      4\u001b[0m         \u001b[38;5;28mprint\u001b[39m(\u001b[38;5;28mtype\u001b[39m(i))\n",
      "\u001b[1;31mTypeError\u001b[0m: 'int' object is not iterable"
     ]
    }
   ],
   "source": [
    "type_input(0)"
   ]
  },
  {
   "cell_type": "code",
   "execution_count": 7,
   "id": "1f606eaa",
   "metadata": {},
   "outputs": [
    {
     "name": "stdout",
     "output_type": "stream",
     "text": [
      "Enter a PIN lock5555\n"
     ]
    }
   ],
   "source": [
    "input_var = input('Enter a PIN lock')"
   ]
  },
  {
   "cell_type": "code",
   "execution_count": 8,
   "id": "eae75b4e",
   "metadata": {},
   "outputs": [
    {
     "data": {
      "text/plain": [
       "'5555'"
      ]
     },
     "execution_count": 8,
     "metadata": {},
     "output_type": "execute_result"
    }
   ],
   "source": [
    "input_var"
   ]
  },
  {
   "cell_type": "code",
   "execution_count": 9,
   "id": "f0f5de63",
   "metadata": {},
   "outputs": [
    {
     "data": {
      "text/plain": [
       "<bound method Kernel.raw_input of <ipykernel.ipkernel.IPythonKernel object at 0x000001AD768AE730>>"
      ]
     },
     "execution_count": 9,
     "metadata": {},
     "output_type": "execute_result"
    }
   ],
   "source": [
    "input"
   ]
  },
  {
   "cell_type": "markdown",
   "id": "811da17a",
   "metadata": {},
   "source": [
    "# Conditional statements (If, else, Elif)"
   ]
  },
  {
   "cell_type": "code",
   "execution_count": 11,
   "id": "10582229",
   "metadata": {},
   "outputs": [],
   "source": [
    "a = 55"
   ]
  },
  {
   "cell_type": "code",
   "execution_count": 12,
   "id": "fbe20226",
   "metadata": {},
   "outputs": [
    {
     "name": "stdout",
     "output_type": "stream",
     "text": [
      "Hello\n"
     ]
    }
   ],
   "source": [
    "if a == 55:\n",
    "    print(\"Hello\")"
   ]
  },
  {
   "cell_type": "code",
   "execution_count": 16,
   "id": "24192c63",
   "metadata": {},
   "outputs": [
    {
     "name": "stdout",
     "output_type": "stream",
     "text": [
      "hi\n"
     ]
    }
   ],
   "source": [
    "if True:\n",
    "    print(\"hi\")"
   ]
  },
  {
   "cell_type": "code",
   "execution_count": 37,
   "id": "2b9a88eb",
   "metadata": {},
   "outputs": [
    {
     "name": "stdout",
     "output_type": "stream",
     "text": [
      "Hello\n"
     ]
    }
   ],
   "source": [
    "a = 1\n",
    "if (a != 0):\n",
    "    print(\"Hello\")\n",
    "elif (a == 1):\n",
    "    print(\"Hi\")\n",
    "elif (a == 20):\n",
    "    print(\"Elif me hu\")\n",
    "else:\n",
    "    print(\"Bye Bye!\")"
   ]
  },
  {
   "cell_type": "code",
   "execution_count": 57,
   "id": "ae13b646",
   "metadata": {},
   "outputs": [
    {
     "name": "stdout",
     "output_type": "stream",
     "text": [
      "enter marks95\n",
      "<class 'int'>\n"
     ]
    }
   ],
   "source": [
    "marks = input('enter marks')\n",
    "marks = int(marks)\n",
    "print(type(marks))"
   ]
  },
  {
   "cell_type": "code",
   "execution_count": 58,
   "id": "e1e7de9e",
   "metadata": {},
   "outputs": [
    {
     "name": "stdout",
     "output_type": "stream",
     "text": [
      "A\n"
     ]
    }
   ],
   "source": [
    "if marks>90:\n",
    "    print(\"A\")\n",
    "elif marks>80:\n",
    "    print(\"B\")\n",
    "elif marks>70:\n",
    "    print(\"C\")\n",
    "else:\n",
    "    print(\"Fail\")"
   ]
  },
  {
   "cell_type": "code",
   "execution_count": 60,
   "id": "83aad3b6",
   "metadata": {},
   "outputs": [
    {
     "name": "stdout",
     "output_type": "stream",
     "text": [
      "enter marks92\n",
      "B\n"
     ]
    }
   ],
   "source": [
    "marks = int(input('enter marks'))\n",
    "if marks>90 and marks >= 95:\n",
    "    print(\"A\", \"Bravo!\")\n",
    "elif marks>80:\n",
    "    print(\"B\")\n",
    "elif marks>70:\n",
    "    print(\"C\")\n",
    "else:\n",
    "    print(\"Fail\")"
   ]
  },
  {
   "cell_type": "code",
   "execution_count": 65,
   "id": "c3b941d4",
   "metadata": {},
   "outputs": [
    {
     "name": "stdout",
     "output_type": "stream",
     "text": [
      "enter marks200\n",
      "Wrong password\n"
     ]
    }
   ],
   "source": [
    "password = int(input('enter marks'))\n",
    "if password == 4520 or password == 2001:\n",
    "    print(\"Correct\")\n",
    "else:\n",
    "    print(\"Wrong password\")"
   ]
  },
  {
   "cell_type": "code",
   "execution_count": 80,
   "id": "85c9dca3",
   "metadata": {},
   "outputs": [
    {
     "name": "stdout",
     "output_type": "stream",
     "text": [
      "Enter a number1000\n",
      "Not Prime\n"
     ]
    }
   ],
   "source": [
    "num = int(input('Enter a number'))\n",
    "\n",
    "flag = False\n",
    "\n",
    "if num == 1:\n",
    "    print(\"Number is not prime nor composite\")\n",
    "elif num>1:\n",
    "    for i in range(2, num):\n",
    "        if (num%i) == 0:\n",
    "            flag = True\n",
    "            break\n",
    "    if flag:\n",
    "        print(\"Not Prime\")\n",
    "    else:\n",
    "        print(\"Prime\")"
   ]
  },
  {
   "cell_type": "markdown",
   "id": "028cd4d5",
   "metadata": {},
   "source": [
    "Break and Continue"
   ]
  },
  {
   "cell_type": "code",
   "execution_count": 73,
   "id": "f7ab9e3c",
   "metadata": {},
   "outputs": [
    {
     "name": "stdout",
     "output_type": "stream",
     "text": [
      "0\n",
      "1\n",
      "2\n",
      "3\n",
      "4\n"
     ]
    }
   ],
   "source": [
    "for i in range(10):\n",
    "    if (i == 5):\n",
    "        break\n",
    "    print(i)"
   ]
  },
  {
   "cell_type": "code",
   "execution_count": 76,
   "id": "a05526f0",
   "metadata": {},
   "outputs": [
    {
     "name": "stdout",
     "output_type": "stream",
     "text": [
      "In loop if I 0\n",
      "In loop if J 0\n",
      "In loop if J 1\n",
      "In loop if J 2\n",
      "In loop if J 3\n",
      "In loop if I 1\n",
      "In loop if J 0\n",
      "In loop if J 1\n",
      "In loop if J 2\n",
      "In loop if J 3\n"
     ]
    }
   ],
   "source": [
    "for i in range(2):\n",
    "    print(\"In loop if I\", i)\n",
    "    for j in range(5):\n",
    "        print(\"In loop if J\", j)\n",
    "        if (j == 3):\n",
    "            break"
   ]
  },
  {
   "cell_type": "code",
   "execution_count": 77,
   "id": "bab4807f",
   "metadata": {},
   "outputs": [
    {
     "name": "stdout",
     "output_type": "stream",
     "text": [
      "In loop if I 0\n",
      "In loop if J 0\n",
      "In loop if J 1\n",
      "In loop if J 2\n",
      "In loop if J 4\n",
      "In loop if I 1\n",
      "In loop if J 0\n",
      "In loop if J 1\n",
      "In loop if J 2\n",
      "In loop if J 4\n"
     ]
    }
   ],
   "source": [
    "for i in range(2):\n",
    "    print(\"In loop if I\", i)\n",
    "    for j in range(5):\n",
    "        if (j == 3):\n",
    "            continue\n",
    "        print(\"In loop if J\", j)"
   ]
  },
  {
   "cell_type": "code",
   "execution_count": 79,
   "id": "42241438",
   "metadata": {},
   "outputs": [
    {
     "name": "stdout",
     "output_type": "stream",
     "text": [
      "In loop if I 0\n",
      "In loop if I 1\n"
     ]
    }
   ],
   "source": [
    "for i in range(2):\n",
    "#     continue\n",
    "    print(\"In loop if I\", i)\n",
    "    for j in range(5):\n",
    "        continue\n",
    "        print(\"In loop if J\", j)"
   ]
  },
  {
   "cell_type": "code",
   "execution_count": 91,
   "id": "6a2e3fa3",
   "metadata": {},
   "outputs": [
    {
     "name": "stdout",
     "output_type": "stream",
     "text": [
      "Enter the passwordwsrf\n",
      "Try again\n",
      "Enter the passwordpassword\n",
      "Correct\n"
     ]
    }
   ],
   "source": [
    "password = 'password'\n",
    "false_attempt = 0\n",
    "while(True):\n",
    "    input_password = input('Enter the password')\n",
    "    if input_password == password:\n",
    "        print(\"Correct\")\n",
    "        break\n",
    "    else:\n",
    "        print(\"Try again\")\n",
    "        false_attempt += 1\n",
    "        if false_attempt == 5:\n",
    "            print('Screen locked, attempts over')\n",
    "            break"
   ]
  },
  {
   "cell_type": "code",
   "execution_count": 90,
   "id": "7c476693",
   "metadata": {},
   "outputs": [
    {
     "name": "stdout",
     "output_type": "stream",
     "text": [
      "Number55\n",
      "<class 'str'>\n"
     ]
    }
   ],
   "source": [
    "var = input('Number')\n",
    "print(type(var))"
   ]
  },
  {
   "cell_type": "markdown",
   "id": "69b4e3b1",
   "metadata": {},
   "source": [
    "# DATA Types"
   ]
  },
  {
   "cell_type": "code",
   "execution_count": 92,
   "id": "197c1539",
   "metadata": {},
   "outputs": [],
   "source": [
    "# 1. String\n",
    "# 2. Lists\n",
    "# 3. Tupples\n",
    "# 4. Dictionary\n",
    "# 5. Set"
   ]
  },
  {
   "cell_type": "code",
   "execution_count": 98,
   "id": "c53c8f1f",
   "metadata": {},
   "outputs": [],
   "source": [
    "var = 100\n",
    "var1 = 100\n",
    "var2 = 1000"
   ]
  },
  {
   "cell_type": "code",
   "execution_count": 99,
   "id": "f9301e39",
   "metadata": {},
   "outputs": [
    {
     "name": "stdout",
     "output_type": "stream",
     "text": [
      "140705370612592 140705370612592 1844555340944\n"
     ]
    }
   ],
   "source": [
    "print(id(var), id(var1), id(var2))"
   ]
  },
  {
   "cell_type": "code",
   "execution_count": 100,
   "id": "25ff3ad3",
   "metadata": {},
   "outputs": [
    {
     "name": "stdout",
     "output_type": "stream",
     "text": [
      "140705370612592 140705370609712 1844555340944\n"
     ]
    }
   ],
   "source": [
    "var1 = 10\n",
    "print(id(var), id(var1), id(var2))"
   ]
  },
  {
   "cell_type": "code",
   "execution_count": 101,
   "id": "b53c056d",
   "metadata": {},
   "outputs": [
    {
     "name": "stdout",
     "output_type": "stream",
     "text": [
      "The value of var is: 100 and var1 is 10 and var2 is: 1000\n"
     ]
    }
   ],
   "source": [
    "print(\"The value of var is:\", var, \"and var1 is\", var1, \"and var2 is:\", var2)"
   ]
  },
  {
   "cell_type": "code",
   "execution_count": 104,
   "id": "1dedcea5",
   "metadata": {},
   "outputs": [
    {
     "name": "stdout",
     "output_type": "stream",
     "text": [
      "The value of var is: 100 and var1 10 is and var2 is 1000\n"
     ]
    }
   ],
   "source": [
    "print(\"The value of var is: {} and var1 {} is and var2 is {}\".format(var, var1, var2))"
   ]
  },
  {
   "cell_type": "code",
   "execution_count": 105,
   "id": "cee3a9c5",
   "metadata": {},
   "outputs": [
    {
     "name": "stdout",
     "output_type": "stream",
     "text": [
      "The value of var is: 100 and var1 10 is and var2 is 1000\n"
     ]
    }
   ],
   "source": [
    "print(f\"The value of var is: {var} and var1 {var1} is and var2 is {var2}\")"
   ]
  },
  {
   "cell_type": "code",
   "execution_count": 107,
   "id": "b8086190",
   "metadata": {},
   "outputs": [
    {
     "name": "stdout",
     "output_type": "stream",
     "text": [
      "Yes/NoYes \n",
      "Not Authenticated\n"
     ]
    }
   ],
   "source": [
    "if input('Yes/No') == 'Yes':\n",
    "    print('Authenticated')\n",
    "else:\n",
    "    print('Not Authenticated')"
   ]
  },
  {
   "cell_type": "code",
   "execution_count": 111,
   "id": "45f699a6",
   "metadata": {},
   "outputs": [
    {
     "name": "stdout",
     "output_type": "stream",
     "text": [
      "Yes/NoYes \n",
      "Not Authenticated\n"
     ]
    }
   ],
   "source": [
    "if input('Yes/No') == 'Yes':\n",
    "    print('Authenticated')\n",
    "else:\n",
    "    print('Not Authenticated')"
   ]
  },
  {
   "cell_type": "code",
   "execution_count": 115,
   "id": "83b342b9",
   "metadata": {},
   "outputs": [
    {
     "name": "stdout",
     "output_type": "stream",
     "text": [
      "Enter something   Yes\n",
      "Yes\n"
     ]
    }
   ],
   "source": [
    "var = input('Enter something').strip()\n",
    "print(var)"
   ]
  },
  {
   "cell_type": "code",
   "execution_count": 119,
   "id": "a44bed48",
   "metadata": {},
   "outputs": [
    {
     "name": "stdout",
     "output_type": "stream",
     "text": [
      "Yes/No      Yes     \n",
      "Authenticated\n"
     ]
    }
   ],
   "source": [
    "if input('Yes/No').strip() == 'Yes':\n",
    "    print('Authenticated')\n",
    "else:\n",
    "    print('Not Authenticated')"
   ]
  },
  {
   "cell_type": "code",
   "execution_count": 120,
   "id": "ff4d9170",
   "metadata": {},
   "outputs": [],
   "source": [
    "def remove_whitespace(string):\n",
    "    temp = ''\n",
    "    for i in string:\n",
    "        if i == ' ':\n",
    "            continue\n",
    "        else:\n",
    "            temp = temp + i\n",
    "    return temp"
   ]
  },
  {
   "cell_type": "code",
   "execution_count": 121,
   "id": "8ae07721",
   "metadata": {},
   "outputs": [
    {
     "name": "stdout",
     "output_type": "stream",
     "text": [
      "yes\n"
     ]
    }
   ],
   "source": [
    "print(remove_whitespace('   yes'))"
   ]
  },
  {
   "cell_type": "code",
   "execution_count": 122,
   "id": "b69c9d96",
   "metadata": {},
   "outputs": [],
   "source": [
    "def remove_whitespace(string):\n",
    "    temp = ''\n",
    "    for i in string:\n",
    "        if i != ' ':\n",
    "            temp = temp + i\n",
    "    return temp"
   ]
  },
  {
   "cell_type": "code",
   "execution_count": 123,
   "id": "b9e9d944",
   "metadata": {},
   "outputs": [
    {
     "name": "stdout",
     "output_type": "stream",
     "text": [
      "yes\n"
     ]
    }
   ],
   "source": [
    "print(remove_whitespace('   yes       '))"
   ]
  },
  {
   "cell_type": "code",
   "execution_count": 129,
   "id": "65ab317e",
   "metadata": {},
   "outputs": [
    {
     "name": "stdout",
     "output_type": "stream",
     "text": [
      "Yes/NoYeS   \n",
      "Authenticated\n"
     ]
    }
   ],
   "source": [
    "if input('Yes/No').strip().lower() == 'yes':\n",
    "    print('Authenticated')\n",
    "else:\n",
    "    print('Not Authenticated')"
   ]
  },
  {
   "cell_type": "code",
   "execution_count": 130,
   "id": "06c8cbc8",
   "metadata": {},
   "outputs": [],
   "source": [
    "string = 'Hello my name is Abhijeet!'"
   ]
  },
  {
   "cell_type": "code",
   "execution_count": 132,
   "id": "c5a18f02",
   "metadata": {},
   "outputs": [
    {
     "name": "stdout",
     "output_type": "stream",
     "text": [
      "hello my name is abhijeet!\n"
     ]
    }
   ],
   "source": [
    "print(string.lower())"
   ]
  },
  {
   "cell_type": "code",
   "execution_count": 134,
   "id": "5d6d7d3d",
   "metadata": {},
   "outputs": [
    {
     "name": "stdout",
     "output_type": "stream",
     "text": [
      "Enter full name:Abhijeet Bhattacharya\n",
      "['Abhijeet', 'Bhattacharya']\n"
     ]
    }
   ],
   "source": [
    "input_var = input('Enter full name:')\n",
    "print(f'{input_var.split()}')"
   ]
  },
  {
   "cell_type": "code",
   "execution_count": 140,
   "id": "6848f5e5",
   "metadata": {},
   "outputs": [
    {
     "name": "stdout",
     "output_type": "stream",
     "text": [
      "Enter SomethingHello_my_name_is_Abhijeet_bhattacharya\n",
      "['Hello', 'my', 'name', 'is', 'Abhijeet', 'bhattacharya']\n"
     ]
    }
   ],
   "source": [
    "print(input('Enter Something').split(sep='_'))"
   ]
  },
  {
   "cell_type": "code",
   "execution_count": 138,
   "id": "5bb78142",
   "metadata": {},
   "outputs": [],
   "source": [
    "input_var.split?"
   ]
  },
  {
   "cell_type": "code",
   "execution_count": 141,
   "id": "7c9afd03",
   "metadata": {},
   "outputs": [],
   "source": [
    "def splitter(string):\n",
    "    temp = ''\n",
    "    for i in string:\n",
    "        if i != '_':\n",
    "            temp += i\n",
    "        else:\n",
    "            temp += ' '\n",
    "    print(temp)"
   ]
  },
  {
   "cell_type": "code",
   "execution_count": 142,
   "id": "5dd6cde5",
   "metadata": {},
   "outputs": [
    {
     "name": "stdout",
     "output_type": "stream",
     "text": [
      "the man is sleeping on the bench\n"
     ]
    }
   ],
   "source": [
    "splitter('the_man_is_sleeping_on_the_bench')"
   ]
  },
  {
   "cell_type": "code",
   "execution_count": 143,
   "id": "bdf1300a",
   "metadata": {},
   "outputs": [],
   "source": [
    "string = 'the man is sleeping on the bench'"
   ]
  },
  {
   "cell_type": "code",
   "execution_count": 144,
   "id": "83ffc8c1",
   "metadata": {},
   "outputs": [
    {
     "name": "stdout",
     "output_type": "stream",
     "text": [
      "2\n"
     ]
    }
   ],
   "source": [
    "print(string.count('t'))"
   ]
  },
  {
   "cell_type": "code",
   "execution_count": 145,
   "id": "e09da369",
   "metadata": {},
   "outputs": [
    {
     "name": "stdout",
     "output_type": "stream",
     "text": [
      "2\n"
     ]
    }
   ],
   "source": [
    "count = 0\n",
    "for i in string:\n",
    "    if i == 't':\n",
    "        count+=1\n",
    "print(count)"
   ]
  },
  {
   "cell_type": "code",
   "execution_count": 150,
   "id": "0941f0c1",
   "metadata": {},
   "outputs": [
    {
     "data": {
      "text/plain": [
       "'Hellohe man is sleeping on Hellohe bench'"
      ]
     },
     "execution_count": 150,
     "metadata": {},
     "output_type": "execute_result"
    }
   ],
   "source": [
    "string.replace('t', 'Hello')"
   ]
  },
  {
   "cell_type": "code",
   "execution_count": 153,
   "id": "34ac8d32",
   "metadata": {},
   "outputs": [],
   "source": [
    "def replacer(old, new, string):\n",
    "    temp = ''\n",
    "    for i in string:\n",
    "        if i == old:\n",
    "            temp += new\n",
    "        else:\n",
    "            temp += i\n",
    "    print(temp)"
   ]
  },
  {
   "cell_type": "code",
   "execution_count": 156,
   "id": "0bb8f33d",
   "metadata": {},
   "outputs": [
    {
     "name": "stdout",
     "output_type": "stream",
     "text": [
      "Hellohe man is sleeping on Hellohe bench\n"
     ]
    }
   ],
   "source": [
    "replacer('t', 'Hello', 'the man is sleeping on the bench')"
   ]
  },
  {
   "cell_type": "code",
   "execution_count": 158,
   "id": "e414cf3a",
   "metadata": {},
   "outputs": [
    {
     "data": {
      "text/plain": [
       "'ABHIJEET BHATTACHARYA'"
      ]
     },
     "execution_count": 158,
     "metadata": {},
     "output_type": "execute_result"
    }
   ],
   "source": [
    "input_var.upper()"
   ]
  },
  {
   "cell_type": "markdown",
   "id": "4a475885",
   "metadata": {},
   "source": [
    "#  LIST"
   ]
  },
  {
   "cell_type": "code",
   "execution_count": 30,
   "id": "85467f97",
   "metadata": {},
   "outputs": [],
   "source": [
    "l = [1,2,3,4,True,6.33,7,'89',9, print, range, [1,2]]"
   ]
  },
  {
   "cell_type": "code",
   "execution_count": 32,
   "id": "8ca3b099",
   "metadata": {},
   "outputs": [
    {
     "name": "stdout",
     "output_type": "stream",
     "text": [
      "[1, 2, 3, 4, True, 6.33, 7, '89', 9, <built-in function print>, <class 'range'>, [1, 2]] <class 'list'>\n"
     ]
    }
   ],
   "source": [
    "print(l, type(l))"
   ]
  },
  {
   "cell_type": "code",
   "execution_count": 177,
   "id": "10eed875",
   "metadata": {},
   "outputs": [
    {
     "data": {
      "text/plain": [
       "list"
      ]
     },
     "execution_count": 177,
     "metadata": {},
     "output_type": "execute_result"
    }
   ],
   "source": [
    "type(l)"
   ]
  },
  {
   "cell_type": "code",
   "execution_count": 178,
   "id": "63e5e04a",
   "metadata": {},
   "outputs": [
    {
     "name": "stdout",
     "output_type": "stream",
     "text": [
      "Hello\n"
     ]
    }
   ],
   "source": [
    "a = print\n",
    "a('Hello')"
   ]
  },
  {
   "cell_type": "code",
   "execution_count": 187,
   "id": "e5cf7d5e",
   "metadata": {},
   "outputs": [
    {
     "name": "stdout",
     "output_type": "stream",
     "text": [
      "[1, 2] <class 'range'> <built-in function print>\n"
     ]
    }
   ],
   "source": [
    "print(l[-1], l[-2], l[-3])"
   ]
  },
  {
   "cell_type": "code",
   "execution_count": 188,
   "id": "43cf1309",
   "metadata": {},
   "outputs": [
    {
     "name": "stdout",
     "output_type": "stream",
     "text": [
      "hello\n"
     ]
    }
   ],
   "source": [
    "l[-3]('hello')"
   ]
  },
  {
   "cell_type": "code",
   "execution_count": 189,
   "id": "223e65fd",
   "metadata": {},
   "outputs": [
    {
     "data": {
      "text/plain": [
       "[1, 2, 3, 4, True, 6.33, 7, '89', 9, <function print>, range, [1, 2]]"
      ]
     },
     "execution_count": 189,
     "metadata": {},
     "output_type": "execute_result"
    }
   ],
   "source": [
    "l"
   ]
  },
  {
   "cell_type": "code",
   "execution_count": 190,
   "id": "4683759f",
   "metadata": {},
   "outputs": [],
   "source": [
    "l.append('hello')"
   ]
  },
  {
   "cell_type": "code",
   "execution_count": 192,
   "id": "b7d41470",
   "metadata": {},
   "outputs": [],
   "source": [
    "l.append([1,2,3])"
   ]
  },
  {
   "cell_type": "code",
   "execution_count": 193,
   "id": "1ef5a042",
   "metadata": {},
   "outputs": [
    {
     "data": {
      "text/plain": [
       "[1,\n",
       " 2,\n",
       " 3,\n",
       " 4,\n",
       " True,\n",
       " 6.33,\n",
       " 7,\n",
       " '89',\n",
       " 9,\n",
       " <function print>,\n",
       " range,\n",
       " [1, 2],\n",
       " 'hello',\n",
       " [1, 2, 3]]"
      ]
     },
     "execution_count": 193,
     "metadata": {},
     "output_type": "execute_result"
    }
   ],
   "source": [
    "l"
   ]
  },
  {
   "cell_type": "code",
   "execution_count": 195,
   "id": "84e66153",
   "metadata": {},
   "outputs": [],
   "source": [
    "sublist = [1,2,3]"
   ]
  },
  {
   "cell_type": "code",
   "execution_count": 196,
   "id": "4f9aa480",
   "metadata": {},
   "outputs": [],
   "source": [
    "for i in sublist:\n",
    "    l.append(i)"
   ]
  },
  {
   "cell_type": "code",
   "execution_count": 197,
   "id": "e0730782",
   "metadata": {},
   "outputs": [
    {
     "data": {
      "text/plain": [
       "[1,\n",
       " 2,\n",
       " 3,\n",
       " 4,\n",
       " True,\n",
       " 6.33,\n",
       " 7,\n",
       " '89',\n",
       " 9,\n",
       " <function print>,\n",
       " range,\n",
       " [1, 2],\n",
       " 'hello',\n",
       " [1, 2, 3],\n",
       " 1,\n",
       " 2,\n",
       " 3]"
      ]
     },
     "execution_count": 197,
     "metadata": {},
     "output_type": "execute_result"
    }
   ],
   "source": [
    "l"
   ]
  },
  {
   "cell_type": "code",
   "execution_count": 198,
   "id": "2ae65bd8",
   "metadata": {},
   "outputs": [],
   "source": [
    "short_list = [1,2.0,'3',4,5]"
   ]
  },
  {
   "cell_type": "code",
   "execution_count": 199,
   "id": "623a4e29",
   "metadata": {},
   "outputs": [],
   "source": [
    "short_list.append(1)"
   ]
  },
  {
   "cell_type": "code",
   "execution_count": 200,
   "id": "27fbdccc",
   "metadata": {},
   "outputs": [
    {
     "data": {
      "text/plain": [
       "[1, 2.0, '3', 4, 5, 1]"
      ]
     },
     "execution_count": 200,
     "metadata": {},
     "output_type": "execute_result"
    }
   ],
   "source": [
    "short_list"
   ]
  },
  {
   "cell_type": "code",
   "execution_count": 205,
   "id": "5b7d7568",
   "metadata": {},
   "outputs": [],
   "source": [
    "short_list.append?"
   ]
  },
  {
   "cell_type": "code",
   "execution_count": 203,
   "id": "e02da219",
   "metadata": {},
   "outputs": [],
   "source": [
    "short_list.append('hello')"
   ]
  },
  {
   "cell_type": "code",
   "execution_count": 204,
   "id": "fa476360",
   "metadata": {},
   "outputs": [
    {
     "data": {
      "text/plain": [
       "[1, 2.0, '3', 4, 5, 1, 'hello']"
      ]
     },
     "execution_count": 204,
     "metadata": {},
     "output_type": "execute_result"
    }
   ],
   "source": [
    "short_list"
   ]
  },
  {
   "cell_type": "code",
   "execution_count": 207,
   "id": "2a2349b1",
   "metadata": {},
   "outputs": [],
   "source": [
    "short_list.insert(0, 'hello')"
   ]
  },
  {
   "cell_type": "code",
   "execution_count": 208,
   "id": "e44ef707",
   "metadata": {},
   "outputs": [
    {
     "data": {
      "text/plain": [
       "['hello', 1, 2.0, '3', 4, 5, 1, 'hello']"
      ]
     },
     "execution_count": 208,
     "metadata": {},
     "output_type": "execute_result"
    }
   ],
   "source": [
    "short_list"
   ]
  },
  {
   "cell_type": "code",
   "execution_count": 209,
   "id": "9eebfca9",
   "metadata": {},
   "outputs": [],
   "source": [
    "short_list.insert(4, False)"
   ]
  },
  {
   "cell_type": "code",
   "execution_count": 210,
   "id": "700dd8ce",
   "metadata": {},
   "outputs": [
    {
     "data": {
      "text/plain": [
       "['hello', 1, 2.0, '3', False, 4, 5, 1, 'hello']"
      ]
     },
     "execution_count": 210,
     "metadata": {},
     "output_type": "execute_result"
    }
   ],
   "source": [
    "short_list"
   ]
  },
  {
   "cell_type": "code",
   "execution_count": 212,
   "id": "4e29dc93",
   "metadata": {},
   "outputs": [
    {
     "name": "stdout",
     "output_type": "stream",
     "text": [
      "found at position 3\n"
     ]
    }
   ],
   "source": [
    "count = 0\n",
    "for i in short_list:\n",
    "    if i == '3':\n",
    "        print(f'found at position {count}')\n",
    "    else:\n",
    "        count+=1"
   ]
  },
  {
   "cell_type": "code",
   "execution_count": 218,
   "id": "c2d2feb2",
   "metadata": {},
   "outputs": [],
   "source": [
    "def splitter(string):\n",
    "    temp = []\n",
    "    prev_cursor = ''\n",
    "    for i in string:\n",
    "        if i != ' ':\n",
    "            prev_cursor += i\n",
    "        else:\n",
    "            temp.append(prev_cursor)\n",
    "            prev_cursor = ''\n",
    "    temp.append(prev_cursor)\n",
    "    print(temp)"
   ]
  },
  {
   "cell_type": "code",
   "execution_count": 219,
   "id": "d31341b5",
   "metadata": {},
   "outputs": [
    {
     "name": "stdout",
     "output_type": "stream",
     "text": [
      "['Hello', 'my', 'name', 'is', 'Abhijeet', 'Bhattacharya']\n"
     ]
    }
   ],
   "source": [
    "splitter('Hello my name is Abhijeet Bhattacharya')"
   ]
  },
  {
   "cell_type": "code",
   "execution_count": 220,
   "id": "71406a53",
   "metadata": {},
   "outputs": [
    {
     "data": {
      "text/plain": [
       "['hello', 1, 2.0, '3', False, 4, 5, 1, 'hello']"
      ]
     },
     "execution_count": 220,
     "metadata": {},
     "output_type": "execute_result"
    }
   ],
   "source": [
    "short_list"
   ]
  },
  {
   "cell_type": "code",
   "execution_count": 222,
   "id": "5f79e80b",
   "metadata": {},
   "outputs": [
    {
     "data": {
      "text/plain": [
       "'hello'"
      ]
     },
     "execution_count": 222,
     "metadata": {},
     "output_type": "execute_result"
    }
   ],
   "source": [
    "short_list.pop()"
   ]
  },
  {
   "cell_type": "code",
   "execution_count": 223,
   "id": "0af2af83",
   "metadata": {},
   "outputs": [
    {
     "data": {
      "text/plain": [
       "['hello', 1, 2.0, '3', False, 4, 5, 1]"
      ]
     },
     "execution_count": 223,
     "metadata": {},
     "output_type": "execute_result"
    }
   ],
   "source": [
    "short_list"
   ]
  },
  {
   "cell_type": "code",
   "execution_count": 224,
   "id": "407df5eb",
   "metadata": {},
   "outputs": [
    {
     "data": {
      "text/plain": [
       "'hello'"
      ]
     },
     "execution_count": 224,
     "metadata": {},
     "output_type": "execute_result"
    }
   ],
   "source": [
    "short_list.pop(0)"
   ]
  },
  {
   "cell_type": "code",
   "execution_count": 225,
   "id": "11951ab5",
   "metadata": {},
   "outputs": [
    {
     "data": {
      "text/plain": [
       "[1, 2.0, '3', False, 4, 5, 1]"
      ]
     },
     "execution_count": 225,
     "metadata": {},
     "output_type": "execute_result"
    }
   ],
   "source": [
    "short_list"
   ]
  },
  {
   "cell_type": "code",
   "execution_count": 226,
   "id": "89b8cde1",
   "metadata": {},
   "outputs": [
    {
     "data": {
      "text/plain": [
       "False"
      ]
     },
     "execution_count": 226,
     "metadata": {},
     "output_type": "execute_result"
    }
   ],
   "source": [
    "short_list.pop(3)"
   ]
  },
  {
   "cell_type": "code",
   "execution_count": 227,
   "id": "bf11798f",
   "metadata": {},
   "outputs": [
    {
     "data": {
      "text/plain": [
       "[1, 2.0, '3', 4, 5, 1]"
      ]
     },
     "execution_count": 227,
     "metadata": {},
     "output_type": "execute_result"
    }
   ],
   "source": [
    "short_list"
   ]
  },
  {
   "cell_type": "code",
   "execution_count": 228,
   "id": "a175a76a",
   "metadata": {},
   "outputs": [],
   "source": [
    "short_list.remove('3')"
   ]
  },
  {
   "cell_type": "code",
   "execution_count": 229,
   "id": "47c8ab14",
   "metadata": {},
   "outputs": [
    {
     "data": {
      "text/plain": [
       "[1, 2.0, 4, 5, 1]"
      ]
     },
     "execution_count": 229,
     "metadata": {},
     "output_type": "execute_result"
    }
   ],
   "source": [
    "short_list"
   ]
  },
  {
   "cell_type": "code",
   "execution_count": 230,
   "id": "bea21375",
   "metadata": {},
   "outputs": [],
   "source": [
    "var = short_list.pop()"
   ]
  },
  {
   "cell_type": "code",
   "execution_count": 231,
   "id": "d68c510b",
   "metadata": {},
   "outputs": [
    {
     "data": {
      "text/plain": [
       "1"
      ]
     },
     "execution_count": 231,
     "metadata": {},
     "output_type": "execute_result"
    }
   ],
   "source": [
    "var"
   ]
  },
  {
   "cell_type": "code",
   "execution_count": 234,
   "id": "24726122",
   "metadata": {},
   "outputs": [
    {
     "data": {
      "text/plain": [
       "[1, 2.0, 4, 5]"
      ]
     },
     "execution_count": 234,
     "metadata": {},
     "output_type": "execute_result"
    }
   ],
   "source": [
    "short_list"
   ]
  },
  {
   "cell_type": "code",
   "execution_count": 233,
   "id": "871b2738",
   "metadata": {},
   "outputs": [],
   "source": [
    "short_list.pop?"
   ]
  },
  {
   "cell_type": "code",
   "execution_count": 235,
   "id": "475acdb5",
   "metadata": {},
   "outputs": [],
   "source": [
    "short_list.reverse()"
   ]
  },
  {
   "cell_type": "code",
   "execution_count": 236,
   "id": "b601f5eb",
   "metadata": {},
   "outputs": [
    {
     "data": {
      "text/plain": [
       "[5, 4, 2.0, 1]"
      ]
     },
     "execution_count": 236,
     "metadata": {},
     "output_type": "execute_result"
    }
   ],
   "source": [
    "short_list"
   ]
  },
  {
   "cell_type": "code",
   "execution_count": 237,
   "id": "b0241112",
   "metadata": {},
   "outputs": [
    {
     "data": {
      "text/plain": [
       "[1,\n",
       " 2,\n",
       " 3,\n",
       " 4,\n",
       " True,\n",
       " 6.33,\n",
       " 7,\n",
       " '89',\n",
       " 9,\n",
       " <function print>,\n",
       " range,\n",
       " [1, 2],\n",
       " 'hello',\n",
       " [1, 2, 3],\n",
       " 1,\n",
       " 2,\n",
       " 3]"
      ]
     },
     "execution_count": 237,
     "metadata": {},
     "output_type": "execute_result"
    }
   ],
   "source": [
    "l"
   ]
  },
  {
   "cell_type": "code",
   "execution_count": 238,
   "id": "c5b40b4a",
   "metadata": {},
   "outputs": [],
   "source": [
    "l.reverse()"
   ]
  },
  {
   "cell_type": "code",
   "execution_count": 239,
   "id": "c5f27642",
   "metadata": {},
   "outputs": [
    {
     "data": {
      "text/plain": [
       "[3,\n",
       " 2,\n",
       " 1,\n",
       " [1, 2, 3],\n",
       " 'hello',\n",
       " [1, 2],\n",
       " range,\n",
       " <function print>,\n",
       " 9,\n",
       " '89',\n",
       " 7,\n",
       " 6.33,\n",
       " True,\n",
       " 4,\n",
       " 3,\n",
       " 2,\n",
       " 1]"
      ]
     },
     "execution_count": 239,
     "metadata": {},
     "output_type": "execute_result"
    }
   ],
   "source": [
    "l"
   ]
  },
  {
   "cell_type": "code",
   "execution_count": 248,
   "id": "2a1990a6",
   "metadata": {},
   "outputs": [],
   "source": [
    "arr = [111,33,123,5,67,11,32,909,6,7,532,3,5]"
   ]
  },
  {
   "cell_type": "code",
   "execution_count": 243,
   "id": "7a7f2fc5",
   "metadata": {},
   "outputs": [],
   "source": [
    "arr.reverse()"
   ]
  },
  {
   "cell_type": "code",
   "execution_count": 249,
   "id": "165bc860",
   "metadata": {},
   "outputs": [
    {
     "data": {
      "text/plain": [
       "[111, 33, 123, 5, 67, 11, 32, 909, 6, 7, 532, 3, 5]"
      ]
     },
     "execution_count": 249,
     "metadata": {},
     "output_type": "execute_result"
    }
   ],
   "source": [
    "arr"
   ]
  },
  {
   "cell_type": "code",
   "execution_count": 250,
   "id": "d2d94ba9",
   "metadata": {},
   "outputs": [],
   "source": [
    "arr.sort(reverse=True)"
   ]
  },
  {
   "cell_type": "code",
   "execution_count": 251,
   "id": "4ba2e20b",
   "metadata": {},
   "outputs": [
    {
     "data": {
      "text/plain": [
       "[909, 532, 123, 111, 67, 33, 32, 11, 7, 6, 5, 5, 3]"
      ]
     },
     "execution_count": 251,
     "metadata": {},
     "output_type": "execute_result"
    }
   ],
   "source": [
    "arr"
   ]
  },
  {
   "cell_type": "code",
   "execution_count": 252,
   "id": "c9c91412",
   "metadata": {},
   "outputs": [],
   "source": [
    "arr.sort?"
   ]
  },
  {
   "cell_type": "code",
   "execution_count": 9,
   "id": "d4586b82",
   "metadata": {},
   "outputs": [],
   "source": [
    "a, b = 1, 2"
   ]
  },
  {
   "cell_type": "code",
   "execution_count": 10,
   "id": "5bb4dc30",
   "metadata": {},
   "outputs": [
    {
     "name": "stdout",
     "output_type": "stream",
     "text": [
      "The value of a is: 1  the value of b is: 2\n"
     ]
    }
   ],
   "source": [
    "print('The value of a is:', a, ' the value of b is:', b)"
   ]
  },
  {
   "cell_type": "code",
   "execution_count": 14,
   "id": "2afc48ff",
   "metadata": {},
   "outputs": [
    {
     "name": "stdout",
     "output_type": "stream",
     "text": [
      "The value of a is: 1, the value of b is: 2, '\n"
     ]
    }
   ],
   "source": [
    "print(f'The value of a is: {a}, the value of b is: {b}, {chr(39)}')"
   ]
  },
  {
   "cell_type": "code",
   "execution_count": 16,
   "id": "bcf5ad3f",
   "metadata": {},
   "outputs": [],
   "source": [
    "string = \"HELLO\""
   ]
  },
  {
   "cell_type": "code",
   "execution_count": 17,
   "id": "9a36c94b",
   "metadata": {},
   "outputs": [
    {
     "name": "stdout",
     "output_type": "stream",
     "text": [
      "hello\n"
     ]
    }
   ],
   "source": [
    "print(string.lower())"
   ]
  },
  {
   "cell_type": "code",
   "execution_count": 20,
   "id": "fac0d003",
   "metadata": {},
   "outputs": [
    {
     "name": "stdout",
     "output_type": "stream",
     "text": [
      "hello"
     ]
    }
   ],
   "source": [
    "for i in string:\n",
    "    print(chr(ord(i) + 32), end='')"
   ]
  },
  {
   "cell_type": "code",
   "execution_count": 29,
   "id": "ba945a1e",
   "metadata": {},
   "outputs": [
    {
     "name": "stdout",
     "output_type": "stream",
     "text": [
      "hello_my_name_is_abhijeet? \n",
      "Hello again\n"
     ]
    }
   ],
   "source": [
    "print('hello', 'my', 'name', 'is', 'abhijeet', sep='_', end='? \\n')\n",
    "print(\"Hello again\")"
   ]
  },
  {
   "cell_type": "code",
   "execution_count": 35,
   "id": "88077b1e",
   "metadata": {},
   "outputs": [
    {
     "name": "stdout",
     "output_type": "stream",
     "text": [
      "1\n",
      "2\n",
      "3\n",
      "4\n",
      "True\n",
      "6.33\n",
      "7\n",
      "89\n",
      "9\n",
      "<built-in function print>\n",
      "<class 'range'>\n",
      "[1, 2]\n"
     ]
    }
   ],
   "source": [
    "for i in l:\n",
    "    print(i)"
   ]
  },
  {
   "cell_type": "code",
   "execution_count": 41,
   "id": "e25e5d53",
   "metadata": {},
   "outputs": [
    {
     "data": {
      "text/plain": [
       "1"
      ]
     },
     "execution_count": 41,
     "metadata": {},
     "output_type": "execute_result"
    }
   ],
   "source": [
    "l[0]"
   ]
  },
  {
   "cell_type": "code",
   "execution_count": 42,
   "id": "201e83dd",
   "metadata": {},
   "outputs": [
    {
     "data": {
      "text/plain": [
       "1"
      ]
     },
     "execution_count": 42,
     "metadata": {},
     "output_type": "execute_result"
    }
   ],
   "source": [
    "a"
   ]
  },
  {
   "cell_type": "code",
   "execution_count": 43,
   "id": "1c207930",
   "metadata": {},
   "outputs": [
    {
     "name": "stdout",
     "output_type": "stream",
     "text": [
      "Enter number123\n",
      "6\n"
     ]
    }
   ],
   "source": [
    "input_user = input('Enter number')\n",
    "temp = 0\n",
    "for i in input_user:\n",
    "    temp+=int(i)\n",
    "    \n",
    "print(temp)"
   ]
  },
  {
   "cell_type": "code",
   "execution_count": 66,
   "id": "9ee8c7ee",
   "metadata": {},
   "outputs": [
    {
     "name": "stdout",
     "output_type": "stream",
     "text": [
      "18\n"
     ]
    }
   ],
   "source": [
    "input_user = 567\n",
    "add = 0\n",
    "\n",
    "while input_user>0:\n",
    "    temp = 10\n",
    "    add+=input_user%temp\n",
    "    input_user = int(input_user/10)\n",
    "\n",
    "print(add)"
   ]
  },
  {
   "cell_type": "code",
   "execution_count": 67,
   "id": "24048ef9",
   "metadata": {},
   "outputs": [
    {
     "name": "stdout",
     "output_type": "stream",
     "text": [
      "7\n",
      "56\n",
      "6\n",
      "5\n",
      "5\n"
     ]
    }
   ],
   "source": [
    "input_user = 567\n",
    "print(input_user%10)\n",
    "input_user = int(input_user/10)\n",
    "print(input_user)\n",
    "print(input_user%10)\n",
    "input_user = int(input_user/10)\n",
    "print(input_user)\n",
    "print(input_user%10)"
   ]
  },
  {
   "cell_type": "code",
   "execution_count": 70,
   "id": "415ae184",
   "metadata": {},
   "outputs": [
    {
     "name": "stdout",
     "output_type": "stream",
     "text": [
      "18\n"
     ]
    }
   ],
   "source": [
    "input_user = 567\n",
    "add = 0\n",
    "\n",
    "for i in range(len(str(input_user))):\n",
    "    temp = 10\n",
    "    add+=input_user%temp\n",
    "    input_user = int(input_user/10)\n",
    "\n",
    "print(add)"
   ]
  },
  {
   "cell_type": "markdown",
   "id": "e68f8048",
   "metadata": {},
   "source": [
    "TUPPLE"
   ]
  },
  {
   "cell_type": "code",
   "execution_count": 74,
   "id": "b75e051e",
   "metadata": {},
   "outputs": [],
   "source": [
    "tup = (1,2,3,4,'5',6.5)"
   ]
  },
  {
   "cell_type": "code",
   "execution_count": 75,
   "id": "d1037d18",
   "metadata": {},
   "outputs": [
    {
     "name": "stdout",
     "output_type": "stream",
     "text": [
      "<class 'tuple'>\n"
     ]
    }
   ],
   "source": [
    "print(type(tup))"
   ]
  },
  {
   "cell_type": "code",
   "execution_count": 76,
   "id": "01ac668d",
   "metadata": {},
   "outputs": [
    {
     "data": {
      "text/plain": [
       "(1, 2, 3, 4, '5', 6.5)"
      ]
     },
     "execution_count": 76,
     "metadata": {},
     "output_type": "execute_result"
    }
   ],
   "source": [
    "tup"
   ]
  },
  {
   "cell_type": "code",
   "execution_count": 77,
   "id": "7e392c08",
   "metadata": {},
   "outputs": [
    {
     "name": "stdout",
     "output_type": "stream",
     "text": [
      "1\n"
     ]
    }
   ],
   "source": [
    "print(tup[0])"
   ]
  },
  {
   "cell_type": "code",
   "execution_count": 79,
   "id": "2302a98a",
   "metadata": {},
   "outputs": [
    {
     "data": {
      "text/plain": [
       "range"
      ]
     },
     "execution_count": 79,
     "metadata": {},
     "output_type": "execute_result"
    }
   ],
   "source": [
    "var = range(2)\n",
    "type(var)"
   ]
  },
  {
   "cell_type": "code",
   "execution_count": 87,
   "id": "e72fd522",
   "metadata": {},
   "outputs": [],
   "source": [
    "def adder(a, b):\n",
    "    return a+b, a-b"
   ]
  },
  {
   "cell_type": "code",
   "execution_count": 89,
   "id": "357a2df2",
   "metadata": {
    "scrolled": true
   },
   "outputs": [
    {
     "name": "stdout",
     "output_type": "stream",
     "text": [
      "(5, -1)\n",
      "(5, -1)\n"
     ]
    }
   ],
   "source": [
    "add = adder(2, 3)\n",
    "print(add)\n",
    "print(adder(2, 3))"
   ]
  },
  {
   "cell_type": "code",
   "execution_count": 97,
   "id": "6eecd80c",
   "metadata": {},
   "outputs": [
    {
     "name": "stdout",
     "output_type": "stream",
     "text": [
      "6.5\n",
      "5\n",
      "4\n",
      "3\n",
      "2\n",
      "1\n"
     ]
    }
   ],
   "source": [
    "for i in range(1, len(tup)+1):\n",
    "    print(tup[-i])"
   ]
  },
  {
   "cell_type": "code",
   "execution_count": 114,
   "id": "0c8d0674",
   "metadata": {},
   "outputs": [
    {
     "name": "stdout",
     "output_type": "stream",
     "text": [
      "[1, 2, 3, 4, '5', 6.5, 200, 0]\n"
     ]
    }
   ],
   "source": [
    "list_tup = list(tup)\n",
    "list_tup.append(0)\n",
    "print(list_tup)"
   ]
  },
  {
   "cell_type": "code",
   "execution_count": 115,
   "id": "61e57c6e",
   "metadata": {},
   "outputs": [
    {
     "name": "stdout",
     "output_type": "stream",
     "text": [
      "[1, 2, 3, 4, '5', 6.5, 200, 200]\n",
      "(1, 2, 3, 4, '5', 6.5, 200, 200)\n"
     ]
    }
   ],
   "source": [
    "list_tup[-1] = 200\n",
    "print(list_tup)\n",
    "tup = tuple(list_tup)\n",
    "print(tup)"
   ]
  },
  {
   "cell_type": "code",
   "execution_count": 116,
   "id": "79d724ee",
   "metadata": {},
   "outputs": [
    {
     "data": {
      "text/plain": [
       "[1, 2, 3, 4, True, 6.33, 7, '89', 9, <function print>, range, [1, 2]]"
      ]
     },
     "execution_count": 116,
     "metadata": {},
     "output_type": "execute_result"
    }
   ],
   "source": [
    "l"
   ]
  },
  {
   "cell_type": "code",
   "execution_count": 128,
   "id": "e2943be1",
   "metadata": {},
   "outputs": [
    {
     "name": "stdout",
     "output_type": "stream",
     "text": [
      "[1, 2] 1\n",
      "1\n"
     ]
    }
   ],
   "source": [
    "var = l[-1]\n",
    "print(var, var[0])\n",
    "print(l[-1][0])"
   ]
  },
  {
   "cell_type": "code",
   "execution_count": 141,
   "id": "d63eb8c2",
   "metadata": {},
   "outputs": [
    {
     "name": "stdout",
     "output_type": "stream",
     "text": [
      "[(1, 2), 'hi', '0'] (1, 2, 3, 4, 'hello', 6, [(1, 2), 'hi', '0'])\n",
      "2\n"
     ]
    }
   ],
   "source": [
    "tup = (1,2,3,4,'hello',6,[(1,2), 'hi'])\n",
    "temp = tup[-1]\n",
    "temp.append('0')\n",
    "print(temp, tup)\n",
    "print(tup[-1][0][1])"
   ]
  },
  {
   "cell_type": "code",
   "execution_count": 154,
   "id": "d5c952d9",
   "metadata": {},
   "outputs": [
    {
     "name": "stdout",
     "output_type": "stream",
     "text": [
      "[1, 2, 3, True, 6.33, 7, '89', 9, <built-in function print>]\n",
      "True [1, 2, 3, 6.33, 7, '89', 9, <built-in function print>]\n"
     ]
    }
   ],
   "source": [
    "print(l)\n",
    "var = l.pop(3)\n",
    "print(var, l)"
   ]
  },
  {
   "cell_type": "code",
   "execution_count": 155,
   "id": "f360f55f",
   "metadata": {},
   "outputs": [],
   "source": [
    "l.pop?"
   ]
  },
  {
   "cell_type": "code",
   "execution_count": 163,
   "id": "105de044",
   "metadata": {},
   "outputs": [
    {
     "name": "stdout",
     "output_type": "stream",
     "text": [
      "[1, 2, 3, 6.33, 7, '89', 9, <built-in function print>]\n"
     ]
    },
    {
     "data": {
      "text/plain": [
       "[1, 6.33, 9]"
      ]
     },
     "execution_count": 163,
     "metadata": {},
     "output_type": "execute_result"
    }
   ],
   "source": [
    "print(l)\n",
    "l[0:7:3]"
   ]
  },
  {
   "cell_type": "markdown",
   "id": "83916fcd",
   "metadata": {},
   "source": [
    "DICTIONARY"
   ]
  },
  {
   "cell_type": "code",
   "execution_count": 190,
   "id": "65f6ecbe",
   "metadata": {},
   "outputs": [],
   "source": [
    "d = {\n",
    "    'a': 'first alphabet in the abcd',\n",
    "    2: 'It is an int with value 2',\n",
    "    2:2,\n",
    "    2.5: True,\n",
    "    (1, 2): [1, 2],\n",
    "    'dictionary':{\n",
    "        1:1,\n",
    "        2:2\n",
    "    }\n",
    "}"
   ]
  },
  {
   "cell_type": "code",
   "execution_count": 191,
   "id": "fa1a3dcc",
   "metadata": {},
   "outputs": [
    {
     "name": "stdout",
     "output_type": "stream",
     "text": [
      "a first alphabet in the abcd\n",
      "2 2\n",
      "2.5 True\n",
      "(1, 2) [1, 2]\n",
      "dictionary {1: 1, 2: 2}\n"
     ]
    }
   ],
   "source": [
    "for i in d:\n",
    "    print(i, d[i])"
   ]
  },
  {
   "cell_type": "code",
   "execution_count": 185,
   "id": "f63aa885",
   "metadata": {},
   "outputs": [
    {
     "data": {
      "text/plain": [
       "1"
      ]
     },
     "execution_count": 185,
     "metadata": {},
     "output_type": "execute_result"
    }
   ],
   "source": [
    "d['dictionary'][1]"
   ]
  },
  {
   "cell_type": "code",
   "execution_count": 187,
   "id": "0d4b9715",
   "metadata": {},
   "outputs": [],
   "source": [
    "l = [1,2,3,4, [1,2]]"
   ]
  },
  {
   "cell_type": "code",
   "execution_count": 188,
   "id": "41e20b7f",
   "metadata": {},
   "outputs": [
    {
     "data": {
      "text/plain": [
       "[1, 2, 3, 4, [1, 2]]"
      ]
     },
     "execution_count": 188,
     "metadata": {},
     "output_type": "execute_result"
    }
   ],
   "source": [
    "l"
   ]
  },
  {
   "cell_type": "code",
   "execution_count": null,
   "id": "be7b440b",
   "metadata": {},
   "outputs": [],
   "source": []
  },
  {
   "cell_type": "code",
   "execution_count": null,
   "id": "5bf6fc7c",
   "metadata": {},
   "outputs": [],
   "source": []
  }
 ],
 "metadata": {
  "kernelspec": {
   "display_name": "Python 3 (ipykernel)",
   "language": "python",
   "name": "python3"
  },
  "language_info": {
   "codemirror_mode": {
    "name": "ipython",
    "version": 3
   },
   "file_extension": ".py",
   "mimetype": "text/x-python",
   "name": "python",
   "nbconvert_exporter": "python",
   "pygments_lexer": "ipython3",
   "version": "3.8.10"
  }
 },
 "nbformat": 4,
 "nbformat_minor": 5
}
